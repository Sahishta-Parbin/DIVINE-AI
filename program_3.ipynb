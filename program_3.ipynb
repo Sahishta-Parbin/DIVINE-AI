{
  "nbformat": 4,
  "nbformat_minor": 0,
  "metadata": {
    "colab": {
      "name": "program 3.ipynb",
      "provenance": [],
      "authorship_tag": "ABX9TyNMGAaJYdBL9z6qRpAJ/wXz",
      "include_colab_link": true
    },
    "kernelspec": {
      "name": "python3",
      "display_name": "Python 3"
    },
    "language_info": {
      "name": "python"
    }
  },
  "cells": [
    {
      "cell_type": "markdown",
      "metadata": {
        "id": "view-in-github",
        "colab_type": "text"
      },
      "source": [
        "<a href=\"https://colab.research.google.com/github/Sahishta-Parbin/DIVINE-AI/blob/main/program_3.ipynb\" target=\"_parent\"><img src=\"https://colab.research.google.com/assets/colab-badge.svg\" alt=\"Open In Colab\"/></a>"
      ]
    },
    {
      "cell_type": "code",
      "execution_count": null,
      "metadata": {
        "colab": {
          "base_uri": "https://localhost:8080/"
        },
        "id": "t-SdoiMkjO_O",
        "outputId": "29d1577e-e2a4-420a-ed23-95a3d9bda870"
      },
      "outputs": [
        {
          "output_type": "stream",
          "name": "stdout",
          "text": [
            "90000.0\n"
          ]
        }
      ],
      "source": [
        "    p = 250000\n",
        "    r = 36\n",
        "    t = 1\n",
        "\n",
        "    si = (p*r*t)/100\n",
        "    print(si)\n"
      ]
    },
    {
      "cell_type": "code",
      "source": [
        "p = float(input(\"Enter the principle amount : \"))\n",
        "r = float(input(\"Enter the rate of interest : \"))\n",
        "t = float(input(\"Enter the time in the years  : \"))\n",
        "\n",
        "si = (p*r*t)/100\n",
        "\n",
        "print(\"Principle amount: \", p)\n",
        "print(\"Interest rate   : \", r)\n",
        "print(\"Time in years   : \", t)\n",
        "print(\"Simple Interest : \", si)\n"
      ],
      "metadata": {
        "colab": {
          "base_uri": "https://localhost:8080/"
        },
        "id": "pESP2jZPjvMu",
        "outputId": "ff894b5a-139a-460a-9146-32af1cdb95c3"
      },
      "execution_count": null,
      "outputs": [
        {
          "output_type": "stream",
          "name": "stdout",
          "text": [
            "Enter the principle amount : 2000\n",
            "Enter the rate of interest : 2.5\n",
            "Enter the time in the years  : 7\n",
            "Principle amount:  2000.0\n",
            "Interest rate   :  2.5\n",
            "Time in years   :  7.0\n",
            "Simple Interest :  350.0\n"
          ]
        }
      ]
    },
    {
      "cell_type": "code",
      "source": [
        "p = float(input(\"Enter the principle amount : \"))\n",
        "r = float(input(\"Enter the rate of interest : \"))\n",
        "t = float(input(\"Enter the time in the years  : \"))\n",
        "\n",
        "si = (p*r*t)/100\n",
        "\n",
        "print(\"Principle amount: \", p)\n",
        "print(\"Interest rate   : \", r)\n",
        "print(\"Time in years   : \", t)\n",
        "print(\"Simple Interest : \", si)\n"
      ],
      "metadata": {
        "colab": {
          "base_uri": "https://localhost:8080/"
        },
        "id": "Gyh4A7_Rlqsy",
        "outputId": "7b5c60d4-2b6a-4068-bbdf-bbb7e692a977"
      },
      "execution_count": null,
      "outputs": [
        {
          "output_type": "stream",
          "name": "stdout",
          "text": [
            "Enter the principle amount : 7000\n",
            "Enter the rate of interest : 6.5\n",
            "Enter the time in the years  : 7\n",
            "Principle amount:  7000.0\n",
            "Interest rate   :  6.5\n",
            "Time in years   :  7.0\n",
            "Simple Interest :  3185.0\n"
          ]
        }
      ]
    },
    {
      "cell_type": "code",
      "source": [
        "    p = 250000\n",
        "    r = 25\n",
        "    t = 2\n",
        "\n",
        "    ci =  p * (pow((1 + r / 100), t)) \n",
        "    print(ci)\n"
      ],
      "metadata": {
        "colab": {
          "base_uri": "https://localhost:8080/"
        },
        "id": "Fzc8HZ61l33P",
        "outputId": "ff457440-166b-4714-c88f-a13fbb812bda"
      },
      "execution_count": null,
      "outputs": [
        {
          "output_type": "stream",
          "name": "stdout",
          "text": [
            "390625.0\n"
          ]
        }
      ]
    },
    {
      "cell_type": "code",
      "source": [
        "p = float(input(\"Enter the principle amount : \"))\n",
        "r = float(input(\"Enter the rate of interest : \"))\n",
        "t = float(input(\"Enter the time in years : \"))\n",
        "\n",
        "ci =  p * (pow((1 + r / 100), t)) \n",
        "\n",
        "print(\"Principle amount  : \", p)\n",
        "print(\"Interest rate     : \", r)\n",
        "print(\"Time in years     : \", t)\n",
        "print(\"compound Interest : \", ci)\n"
      ],
      "metadata": {
        "colab": {
          "base_uri": "https://localhost:8080/"
        },
        "id": "j3wKz8F8mGOB",
        "outputId": "62c37964-a3ad-4671-d8d0-f6c0f5c4ed3e"
      },
      "execution_count": null,
      "outputs": [
        {
          "output_type": "stream",
          "name": "stdout",
          "text": [
            "Enter the principle amount : 6000\n",
            "Enter the rate of interest : 6.5\n",
            "Enter the time in years : 7\n",
            "Principle amount  :  6000.0\n",
            "Interest rate     :  6.5\n",
            "Time in years     :  7.0\n",
            "compound Interest :  9323.919274875521\n"
          ]
        }
      ]
    },
    {
      "cell_type": "code",
      "source": [
        "p = float(input(\"Enter the principle amount : \"))\n",
        "r = float(input(\"Enter the rate of interest : \"))\n",
        "t = float(input(\"Enter the time in years : \"))\n",
        "\n",
        "ci =  p * (pow((1 + r / 100), t)) \n",
        "\n",
        "print(\"Principle amount  : \", p)\n",
        "print(\"Interest rate     : \", r)\n",
        "print(\"Time in years     : \", t)\n",
        "print(\"compound Interest : \", ci)\n"
      ],
      "metadata": {
        "colab": {
          "base_uri": "https://localhost:8080/"
        },
        "id": "mzV6AlnNmyty",
        "outputId": "4fb5cc2e-a030-416e-9411-1b5d021cac06"
      },
      "execution_count": null,
      "outputs": [
        {
          "output_type": "stream",
          "name": "stdout",
          "text": [
            "Enter the principle amount : 9000\n",
            "Enter the rate of interest : 7.8\n",
            "Enter the time in years : 6\n",
            "Principle amount  :  9000.0\n",
            "Interest rate     :  7.8\n",
            "Time in years     :  6.0\n",
            "compound Interest :  14123.914326772283\n"
          ]
        }
      ]
    },
    {
      "cell_type": "code",
      "source": [
        "import calendar\n",
        "year=int(input('Enter the value of year: '))\n",
        "leap_year=calendar.isleap(year)\n",
        "\n",
        "if leap_year: \n",
        "    print('The given year is a leap year.')\n",
        "else:\n",
        "    print('The given year is a non-leap year.')\n"
      ],
      "metadata": {
        "colab": {
          "base_uri": "https://localhost:8080/"
        },
        "id": "vyGCPo54m3OL",
        "outputId": "e657db91-fd14-4089-8771-91c3c963c5ed"
      },
      "execution_count": null,
      "outputs": [
        {
          "output_type": "stream",
          "name": "stdout",
          "text": [
            "Enter the value of year: 2000\n",
            "The given year is a leap year.\n"
          ]
        }
      ]
    },
    {
      "cell_type": "code",
      "source": [
        "import calendar\n",
        "year=int(input('Enter the value of year: '))\n",
        "leap_year=calendar.isleap(year)\n",
        "\n",
        "if leap_year: \n",
        "    print('The given year is a leap year.')\n",
        "else:\n",
        "    print('The given year is a non-leap year.')\n"
      ],
      "metadata": {
        "colab": {
          "base_uri": "https://localhost:8080/"
        },
        "id": "7FqyCb6Ro9eo",
        "outputId": "180d108e-77ee-4dee-ecbd-fec56cddb313"
      },
      "execution_count": null,
      "outputs": [
        {
          "output_type": "stream",
          "name": "stdout",
          "text": [
            "Enter the value of year: 2001\n",
            "The given year is a non-leap year.\n"
          ]
        }
      ]
    },
    {
      "cell_type": "code",
      "source": [
        "y=int(input('Enter the value of year: '))\n",
        "if y%400==0 or y%4==0 and y%100!=0: \n",
        "    print('The given year is a leap year.')\n",
        "else:\n",
        "    print('The given year is a non-leap year.')\n"
      ],
      "metadata": {
        "colab": {
          "base_uri": "https://localhost:8080/"
        },
        "id": "3PnnaIjsnVe0",
        "outputId": "b57ca89e-b29f-4f18-d46c-28a2318c3620"
      },
      "execution_count": null,
      "outputs": [
        {
          "output_type": "stream",
          "name": "stdout",
          "text": [
            "Enter the value of year: 2005\n",
            "The given year is a non-leap year.\n"
          ]
        }
      ]
    },
    {
      "cell_type": "code",
      "source": [
        "y=int(input('Enter the value of year: '))\n",
        "if y%400==0 or y%4==0 and y%100!=0: \n",
        "    print('The given year is a leap year.')\n",
        "else:\n",
        "    print('The given year is a non-leap year.')\n"
      ],
      "metadata": {
        "colab": {
          "base_uri": "https://localhost:8080/"
        },
        "id": "KvZCKyUupBau",
        "outputId": "068f25ca-1344-4843-ddc0-93c8592dfbda"
      },
      "execution_count": null,
      "outputs": [
        {
          "output_type": "stream",
          "name": "stdout",
          "text": [
            "Enter the value of year: 2004\n",
            "The given year is a leap year.\n"
          ]
        }
      ]
    },
    {
      "cell_type": "code",
      "source": [
        "for row in range (0,5):\n",
        "    for column in range (0, row+1):\n",
        "        print (\"*\", end=\"\")\n",
        "    print('\\r')\n"
      ],
      "metadata": {
        "colab": {
          "base_uri": "https://localhost:8080/"
        },
        "id": "dVi8G2s0nuR-",
        "outputId": "a67021cd-6899-470d-862c-65bb3253ff11"
      },
      "execution_count": null,
      "outputs": [
        {
          "output_type": "stream",
          "name": "stdout",
          "text": [
            "*\r\n",
            "**\r\n",
            "***\r\n",
            "****\r\n",
            "*****\r\n"
          ]
        }
      ]
    },
    {
      "cell_type": "code",
      "source": [
        "for row in range(0,5):\n",
        "    for column in range(0,row+1):\n",
        "        print(\"1 \",end=\"\")\n",
        "    print('\\r')\n"
      ],
      "metadata": {
        "colab": {
          "base_uri": "https://localhost:8080/"
        },
        "id": "ea7w-ssbn1hc",
        "outputId": "1f618c62-98ab-4efe-de44-51c492932c95"
      },
      "execution_count": null,
      "outputs": [
        {
          "output_type": "stream",
          "name": "stdout",
          "text": [
            "1 \r\n",
            "1 1 \r\n",
            "1 1 1 \r\n",
            "1 1 1 1 \r\n",
            "1 1 1 1 1 \r\n"
          ]
        }
      ]
    },
    {
      "cell_type": "code",
      "source": [
        "for row in range (0, 5):\n",
        "    n = 1\n",
        "    for column in range (0, row+1):\n",
        "        print(n, end=\" \")\n",
        "        n = n+1\n",
        "    print('\\r')\n"
      ],
      "metadata": {
        "colab": {
          "base_uri": "https://localhost:8080/"
        },
        "id": "5rqz--uaoCR6",
        "outputId": "eb60d2c6-e058-4b05-a0e4-4808372e3d17"
      },
      "execution_count": null,
      "outputs": [
        {
          "output_type": "stream",
          "name": "stdout",
          "text": [
            "1 \r\n",
            "1 2 \r\n",
            "1 2 3 \r\n",
            "1 2 3 4 \r\n",
            "1 2 3 4 5 \r\n"
          ]
        }
      ]
    },
    {
      "cell_type": "code",
      "source": [
        "n = 1\n",
        "for row in range (0, 5):\n",
        "    for column in range (0, row+1):\n",
        "        print(n, end=\" \")\n",
        "        n = n+1\n",
        "    print('\\r')\n"
      ],
      "metadata": {
        "colab": {
          "base_uri": "https://localhost:8080/"
        },
        "id": "70YYhT3YoS2N",
        "outputId": "190855d4-e25b-4b4d-a47d-4993fdbd592a"
      },
      "execution_count": null,
      "outputs": [
        {
          "output_type": "stream",
          "name": "stdout",
          "text": [
            "1 \r\n",
            "2 3 \r\n",
            "4 5 6 \r\n",
            "7 8 9 10 \r\n",
            "11 12 13 14 15 \r\n"
          ]
        }
      ]
    },
    {
      "cell_type": "code",
      "source": [
        "for row in range (0, 5):\n",
        "    n = 65\n",
        "    for column in range (0, row+1):\n",
        "        c = chr(n)\n",
        "        print(c, end=\" \")\n",
        "        n = n+1\n",
        "    print('\\r')\n"
      ],
      "metadata": {
        "colab": {
          "base_uri": "https://localhost:8080/"
        },
        "id": "yIPNqxZ2oq76",
        "outputId": "fcc17b16-faf3-4a3c-9cc9-44b5f1ff2d06"
      },
      "execution_count": null,
      "outputs": [
        {
          "output_type": "stream",
          "name": "stdout",
          "text": [
            "A \r\n",
            "A B \r\n",
            "A B C \r\n",
            "A B C D \r\n",
            "A B C D E \r\n"
          ]
        }
      ]
    }
  ]
}