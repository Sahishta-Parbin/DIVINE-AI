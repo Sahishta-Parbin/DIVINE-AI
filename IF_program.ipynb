{
  "nbformat": 4,
  "nbformat_minor": 0,
  "metadata": {
    "colab": {
      "name": "IF_program.ipynb",
      "provenance": [],
      "authorship_tag": "ABX9TyMi7qoC0Sc/v15bBK7YkIBN",
      "include_colab_link": true
    },
    "kernelspec": {
      "name": "python3",
      "display_name": "Python 3"
    },
    "language_info": {
      "name": "python"
    }
  },
  "cells": [
    {
      "cell_type": "markdown",
      "metadata": {
        "id": "view-in-github",
        "colab_type": "text"
      },
      "source": [
        "<a href=\"https://colab.research.google.com/github/Sahishta-Parbin/DIVINE-AI/blob/main/IF_program.ipynb\" target=\"_parent\"><img src=\"https://colab.research.google.com/assets/colab-badge.svg\" alt=\"Open In Colab\"/></a>"
      ]
    },
    {
      "cell_type": "code",
      "execution_count": 1,
      "metadata": {
        "colab": {
          "base_uri": "https://localhost:8080/"
        },
        "id": "K3VvCwk8GaKB",
        "outputId": "7a075473-b39b-41a0-f569-33dc4709bd1e"
      },
      "outputs": [
        {
          "output_type": "stream",
          "name": "stdout",
          "text": [
            "1\n",
            "2\n",
            "3\n",
            "4\n",
            "5\n",
            "6\n",
            "7\n"
          ]
        }
      ],
      "source": [
        "li = [1,2,3,4,5,6,7]\n",
        "j = 0\n",
        "for i in li:\n",
        "    print(i)"
      ]
    },
    {
      "cell_type": "code",
      "source": [
        "print(j)\n",
        "print(type(j))"
      ],
      "metadata": {
        "colab": {
          "base_uri": "https://localhost:8080/"
        },
        "id": "Wt0oUnA7Grh1",
        "outputId": "576d2a03-e183-40d5-cab2-4a74cb4181c3"
      },
      "execution_count": 2,
      "outputs": [
        {
          "output_type": "stream",
          "name": "stdout",
          "text": [
            "0\n",
            "<class 'int'>\n"
          ]
        }
      ]
    },
    {
      "cell_type": "code",
      "source": [
        "length = len(li)\n",
        "while length >=3:\n",
        "       print(length)      \n",
        "       if length <=5:\n",
        "          break\n",
        "       length = length - 1"
      ],
      "metadata": {
        "colab": {
          "base_uri": "https://localhost:8080/"
        },
        "id": "0RylyavtGyxI",
        "outputId": "b9c121be-f838-4aeb-8453-750390c6dac4"
      },
      "execution_count": 3,
      "outputs": [
        {
          "output_type": "stream",
          "name": "stdout",
          "text": [
            "7\n",
            "6\n",
            "5\n"
          ]
        }
      ]
    },
    {
      "cell_type": "code",
      "source": [
        "length = len(li)\n",
        "while length >=3:\n",
        "       length = length - 1      \n",
        "       if length <=5:\n",
        "          continue\n",
        "       print(length)"
      ],
      "metadata": {
        "colab": {
          "base_uri": "https://localhost:8080/"
        },
        "id": "sDf8akmfHp9Z",
        "outputId": "8e19b591-3f4f-401a-a680-885767b9d5be"
      },
      "execution_count": 12,
      "outputs": [
        {
          "output_type": "stream",
          "name": "stdout",
          "text": [
            "6\n"
          ]
        }
      ]
    },
    {
      "cell_type": "code",
      "source": [
        "length = len(li)\n",
        "while length >=3:\n",
        "       print(length)      \n",
        "       if length <=5:\n",
        "          break\n",
        "       length = length -1"
      ],
      "metadata": {
        "colab": {
          "base_uri": "https://localhost:8080/"
        },
        "id": "EmcVHmWEJBJ3",
        "outputId": "570cd8fb-8e5a-4255-a5f4-8eb86fb7a2e2"
      },
      "execution_count": 14,
      "outputs": [
        {
          "output_type": "stream",
          "name": "stdout",
          "text": [
            "7\n",
            "6\n",
            "5\n"
          ]
        }
      ]
    },
    {
      "cell_type": "code",
      "source": [
        "length = len(li)\n",
        "while length >=3:\n",
        "       length = length -1    \n",
        "       print(length)\n",
        "       if length<=5:\n",
        "          continue\n",
        "       "
      ],
      "metadata": {
        "colab": {
          "base_uri": "https://localhost:8080/"
        },
        "id": "o7qUo3NkJSkI",
        "outputId": "691d49f8-a38b-47a3-decf-be9431b8f93e"
      },
      "execution_count": 15,
      "outputs": [
        {
          "output_type": "stream",
          "name": "stdout",
          "text": [
            "6\n",
            "5\n",
            "4\n",
            "3\n",
            "2\n"
          ]
        }
      ]
    },
    {
      "cell_type": "code",
      "source": [
        "li = [1,2,3,4,5,6,7]\n",
        "j = 0\n",
        "for i in li:\n",
        "    for i in li:\n",
        "        i=i+1\n",
        "        j=j+1\n",
        "    print(j)\n",
        "print(j)"
      ],
      "metadata": {
        "colab": {
          "base_uri": "https://localhost:8080/"
        },
        "id": "a26oq9odJSij",
        "outputId": "009ca470-6924-44a4-c43d-c221db529b5e"
      },
      "execution_count": 19,
      "outputs": [
        {
          "output_type": "stream",
          "name": "stdout",
          "text": [
            "7\n",
            "14\n",
            "21\n",
            "28\n",
            "35\n",
            "42\n",
            "49\n",
            "49\n"
          ]
        }
      ]
    },
    {
      "cell_type": "code",
      "source": [
        "li = [1,2,3,4,5,6,7]\n",
        "j = 0\n",
        "for i in li:\n",
        "    print(j)\n",
        "print(j)"
      ],
      "metadata": {
        "colab": {
          "base_uri": "https://localhost:8080/"
        },
        "id": "OK2Krk6HK288",
        "outputId": "14858d1a-31fc-43fb-f9e3-5c6cf25a716b"
      },
      "execution_count": 18,
      "outputs": [
        {
          "output_type": "stream",
          "name": "stdout",
          "text": [
            "0\n",
            "0\n",
            "0\n",
            "0\n",
            "0\n",
            "0\n",
            "0\n",
            "0\n"
          ]
        }
      ]
    },
    {
      "cell_type": "code",
      "source": [
        "li = [1,2,3,4,5]\n",
        "for i in li:\n",
        "    print(i)"
      ],
      "metadata": {
        "colab": {
          "base_uri": "https://localhost:8080/"
        },
        "id": "wFFaD_J_LNjn",
        "outputId": "921608ab-9b9d-4551-d55b-9b200d86d760"
      },
      "execution_count": 20,
      "outputs": [
        {
          "output_type": "stream",
          "name": "stdout",
          "text": [
            "1\n",
            "2\n",
            "3\n",
            "4\n",
            "5\n"
          ]
        }
      ]
    },
    {
      "cell_type": "code",
      "source": [
        "li = [1,2,3,4,5,6,7]\n",
        "j = 0\n",
        "for i in li:\n",
        "    for i in li:\n",
        "        j = j+1\n",
        "    print(j)\n"
      ],
      "metadata": {
        "colab": {
          "base_uri": "https://localhost:8080/"
        },
        "id": "a3sXkzx3La79",
        "outputId": "b01a9547-db57-43a8-d14f-c9c9d912f7ba"
      },
      "execution_count": 22,
      "outputs": [
        {
          "output_type": "stream",
          "name": "stdout",
          "text": [
            "7\n",
            "14\n",
            "21\n",
            "28\n",
            "35\n",
            "42\n",
            "49\n"
          ]
        }
      ]
    },
    {
      "cell_type": "code",
      "source": [
        "x = int(input(\"x?\"))\n",
        "y = int(input(\"y?\"))\n",
        "if x < y:\n",
        "   print('x is less than y')\n",
        "elif x > y:\n",
        "     print('x is greater than y')\n",
        "else:\n",
        "     print('x and y are equal')\n"
      ],
      "metadata": {
        "colab": {
          "base_uri": "https://localhost:8080/"
        },
        "id": "muiEk5-5Ms9t",
        "outputId": "05d1e248-86ff-4b52-a8d5-44af90d5b608"
      },
      "execution_count": 25,
      "outputs": [
        {
          "output_type": "stream",
          "name": "stdout",
          "text": [
            "x?3\n",
            "y?7\n",
            "x is less than y\n"
          ]
        }
      ]
    },
    {
      "cell_type": "code",
      "source": [
        "x = int(input(\"x?\"))\n",
        "y = int(input(\"y?\"))\n",
        "if x < y:\n",
        "   print('x is less than y')\n",
        "elif x > y:\n",
        "     print('x is greater than y')\n",
        "else:\n",
        "     print('x and y are equal')\n"
      ],
      "metadata": {
        "colab": {
          "base_uri": "https://localhost:8080/"
        },
        "id": "7ny36yFVNhUj",
        "outputId": "43884bfa-c760-428f-df0b-a39010c81e32"
      },
      "execution_count": 26,
      "outputs": [
        {
          "output_type": "stream",
          "name": "stdout",
          "text": [
            "x?3\n",
            "y?2\n",
            "x is greater than y\n"
          ]
        }
      ]
    },
    {
      "cell_type": "code",
      "source": [
        "x = int(input(\"x?\"))\n",
        "y = int(input(\"y?\"))\n",
        "if x < y:\n",
        "   print('x is less than y')\n",
        "elif x > y:\n",
        "     print('x is greater than y')\n",
        "else:\n",
        "     print('x and y are equal')\n"
      ],
      "metadata": {
        "colab": {
          "base_uri": "https://localhost:8080/"
        },
        "id": "_9XanqPoNow8",
        "outputId": "999752a0-d0b7-4324-92a0-f2cdb07e4564"
      },
      "execution_count": 27,
      "outputs": [
        {
          "output_type": "stream",
          "name": "stdout",
          "text": [
            "x?7\n",
            "y?7\n",
            "x and y are equal\n"
          ]
        }
      ]
    },
    {
      "cell_type": "code",
      "source": [
        "highest = 0\n",
        "for value in[9,41,12,3,74,15]:\n",
        "    if value>highest:\n",
        "      highest = value\n",
        "print('highest',highest)"
      ],
      "metadata": {
        "colab": {
          "base_uri": "https://localhost:8080/"
        },
        "id": "05hPYsMdNtHO",
        "outputId": "51bf5755-c452-4662-b13e-7e14fa44d679"
      },
      "execution_count": 28,
      "outputs": [
        {
          "output_type": "stream",
          "name": "stdout",
          "text": [
            "highest 74\n"
          ]
        }
      ]
    },
    {
      "cell_type": "code",
      "source": [
        "lowest= 0\n",
        "for value in[9,41,12,3,74,15]:\n",
        "    if value<lowest:\n",
        "      lowest = value\n",
        "print('lowest',lowest)"
      ],
      "metadata": {
        "colab": {
          "base_uri": "https://localhost:8080/"
        },
        "id": "siAbpLrAORJ0",
        "outputId": "1d075ae6-6c08-4618-fc26-8f28462eb2fb"
      },
      "execution_count": 30,
      "outputs": [
        {
          "output_type": "stream",
          "name": "stdout",
          "text": [
            "lowest 0\n"
          ]
        }
      ]
    },
    {
      "cell_type": "code",
      "source": [
        "highest = 0\n",
        "for value in[9,41,12,3,74,15]:\n",
        "    if value<highest:\n",
        "      highest = value\n",
        "print('highest',highest)"
      ],
      "metadata": {
        "colab": {
          "base_uri": "https://localhost:8080/"
        },
        "id": "G9VlTlOGOetT",
        "outputId": "b4934981-6284-4214-b948-9b5716634fb0"
      },
      "execution_count": 31,
      "outputs": [
        {
          "output_type": "stream",
          "name": "stdout",
          "text": [
            "highest 0\n"
          ]
        }
      ]
    },
    {
      "cell_type": "code",
      "source": [
        "list = [9,41,12,3,74,15]\n",
        "print(list[4])"
      ],
      "metadata": {
        "colab": {
          "base_uri": "https://localhost:8080/"
        },
        "id": "JiL7dHe7O0Ul",
        "outputId": "54b16288-2f1c-4047-dc8e-7026508557fb"
      },
      "execution_count": 32,
      "outputs": [
        {
          "output_type": "stream",
          "name": "stdout",
          "text": [
            "74\n"
          ]
        }
      ]
    },
    {
      "cell_type": "code",
      "source": [
        "list = [9,41,12,3,74,15]\n",
        "smallest = list[0]\n",
        "for value in list:\n",
        "    if value < smallest:\n",
        "        smallest= value\n",
        "print('smallest',smallest)\n"
      ],
      "metadata": {
        "colab": {
          "base_uri": "https://localhost:8080/"
        },
        "id": "_bEhoZ11O_XS",
        "outputId": "14d03968-1ed4-4d2c-9dd8-a7e023bcb3f9"
      },
      "execution_count": 33,
      "outputs": [
        {
          "output_type": "stream",
          "name": "stdout",
          "text": [
            "smallest 3\n"
          ]
        }
      ]
    },
    {
      "cell_type": "code",
      "source": [
        "list = [9,41,12,3,74,15]\n",
        "highest = list[0]\n",
        "for value in list:\n",
        "    if value > highest:\n",
        "        highest= value\n",
        "print('highest',highest)\n"
      ],
      "metadata": {
        "colab": {
          "base_uri": "https://localhost:8080/"
        },
        "id": "8Bvz-uIUPXks",
        "outputId": "fac6afa2-1acb-436b-ca31-ee8fc96dbe58"
      },
      "execution_count": 35,
      "outputs": [
        {
          "output_type": "stream",
          "name": "stdout",
          "text": [
            "highest 74\n"
          ]
        }
      ]
    },
    {
      "cell_type": "code",
      "source": [
        "smallest = None\n",
        "for value in[9,41,12,3,74,15,103,7,102.5,167.44,1]:\n",
        "    if smallest is None: \n",
        "        smallest = value\n",
        "    elif value < smallest:\n",
        "        smallest=value\n",
        "    #print(smallest,value)\n",
        "print('After',smallest)\n",
        "\n"
      ],
      "metadata": {
        "colab": {
          "base_uri": "https://localhost:8080/"
        },
        "id": "-2A-m0VjPXjD",
        "outputId": "3870f8bb-3db6-4883-9460-88c6291f1db4"
      },
      "execution_count": 36,
      "outputs": [
        {
          "output_type": "stream",
          "name": "stdout",
          "text": [
            "After 1\n"
          ]
        }
      ]
    },
    {
      "cell_type": "code",
      "source": [
        "name = \"p.Diddy\"\n",
        "name[2]"
      ],
      "metadata": {
        "colab": {
          "base_uri": "https://localhost:8080/",
          "height": 35
        },
        "id": "SWeEZfwPQ5SP",
        "outputId": "272838cd-4443-4a16-9e35-2dfc0f7c361b"
      },
      "execution_count": 37,
      "outputs": [
        {
          "output_type": "execute_result",
          "data": {
            "application/vnd.google.colaboratory.intrinsic+json": {
              "type": "string"
            },
            "text/plain": [
              "'D'"
            ]
          },
          "metadata": {},
          "execution_count": 37
        }
      ]
    },
    {
      "cell_type": "code",
      "source": [
        "name = \"p. Diddy\"\n",
        "name[2]"
      ],
      "metadata": {
        "colab": {
          "base_uri": "https://localhost:8080/",
          "height": 35
        },
        "id": "rL0nMGQqRzQC",
        "outputId": "44982ec8-1f05-499e-b43d-d3c01fd62944"
      },
      "execution_count": 38,
      "outputs": [
        {
          "output_type": "execute_result",
          "data": {
            "application/vnd.google.colaboratory.intrinsic+json": {
              "type": "string"
            },
            "text/plain": [
              "' '"
            ]
          },
          "metadata": {},
          "execution_count": 38
        }
      ]
    },
    {
      "cell_type": "code",
      "source": [
        "aa=\"SLICEOFSPAM\"\n",
        "aa[0],aa[-2]"
      ],
      "metadata": {
        "colab": {
          "base_uri": "https://localhost:8080/"
        },
        "id": "450DfnWWRzKL",
        "outputId": "4084bf6e-ea8c-4835-91cf-6c50aa02f5aa"
      },
      "execution_count": 39,
      "outputs": [
        {
          "output_type": "execute_result",
          "data": {
            "text/plain": [
              "('S', 'A')"
            ]
          },
          "metadata": {},
          "execution_count": 39
        }
      ]
    },
    {
      "cell_type": "code",
      "source": [
        "aa[1:3],aa[1:],aa[:-1]"
      ],
      "metadata": {
        "colab": {
          "base_uri": "https://localhost:8080/"
        },
        "id": "09W-39mTSD2D",
        "outputId": "1a06cc5f-16a8-4f62-d5e4-02301d271ce0"
      },
      "execution_count": 41,
      "outputs": [
        {
          "output_type": "execute_result",
          "data": {
            "text/plain": [
              "('LI', 'LICEOFSPAM', 'SLICEOFSPA')"
            ]
          },
          "metadata": {},
          "execution_count": 41
        }
      ]
    },
    {
      "cell_type": "code",
      "source": [
        "aa=\"SLICEOFSPAM\"\n",
        "aa[1],aa[-1]"
      ],
      "metadata": {
        "colab": {
          "base_uri": "https://localhost:8080/"
        },
        "id": "RcfNa-jwR-43",
        "outputId": "f6ed8d2d-1cfd-42e2-96f9-3ad867dba5c5"
      },
      "execution_count": 40,
      "outputs": [
        {
          "output_type": "execute_result",
          "data": {
            "text/plain": [
              "('L', 'M')"
            ]
          },
          "metadata": {},
          "execution_count": 40
        }
      ]
    },
    {
      "cell_type": "code",
      "source": [
        "aa[-1:-2],aa[0:],aa[:-1]"
      ],
      "metadata": {
        "colab": {
          "base_uri": "https://localhost:8080/"
        },
        "id": "SeYKsQ3SSlNv",
        "outputId": "e71ec010-d2bc-4335-ea54-41d8c4239d70"
      },
      "execution_count": 42,
      "outputs": [
        {
          "output_type": "execute_result",
          "data": {
            "text/plain": [
              "('', 'SLICEOFSPAM', 'SLICEOFSPA')"
            ]
          },
          "metadata": {},
          "execution_count": 42
        }
      ]
    },
    {
      "cell_type": "code",
      "source": [
        "hw= 'hello world'\n",
        "hw= hw.upper(),hw.title()"
      ],
      "metadata": {
        "id": "tevLpV8FSvYc"
      },
      "execution_count": 43,
      "outputs": []
    },
    {
      "cell_type": "code",
      "source": [
        "print(hw)"
      ],
      "metadata": {
        "colab": {
          "base_uri": "https://localhost:8080/"
        },
        "id": "jdPlxihHTJjz",
        "outputId": "2455c15d-b407-4bc7-ad14-32cedb5a820f"
      },
      "execution_count": 44,
      "outputs": [
        {
          "output_type": "stream",
          "name": "stdout",
          "text": [
            "('HELLO WORLD', 'Hello World')\n"
          ]
        }
      ]
    },
    {
      "cell_type": "code",
      "source": [
        "type(hw)"
      ],
      "metadata": {
        "colab": {
          "base_uri": "https://localhost:8080/"
        },
        "id": "_lcbiLr_TMsw",
        "outputId": "399cfe2a-ac6a-4f0c-854c-bf8deb89712f"
      },
      "execution_count": 45,
      "outputs": [
        {
          "output_type": "execute_result",
          "data": {
            "text/plain": [
              "tuple"
            ]
          },
          "metadata": {},
          "execution_count": 45
        }
      ]
    },
    {
      "cell_type": "code",
      "source": [
        "hw = 'hello world'\n",
        "hw = hw.upper()\n",
        "hw.isdigit(),hw.islower()"
      ],
      "metadata": {
        "colab": {
          "base_uri": "https://localhost:8080/"
        },
        "id": "7V_kStbxTia9",
        "outputId": "74cd51bc-21e8-412e-b789-6ec39f7ffbeb"
      },
      "execution_count": 46,
      "outputs": [
        {
          "output_type": "execute_result",
          "data": {
            "text/plain": [
              "(False, False)"
            ]
          },
          "metadata": {},
          "execution_count": 46
        }
      ]
    },
    {
      "cell_type": "code",
      "source": [
        "s = '''(And me too!\n",
        "though I am much longer\n",
        "than the others :)'''\n",
        "a= 'And me too!\\nthough I am much longer \\nthan the others:)'\n",
        "print(s)\n",
        "print(a)\n",
        "\n",
        "\n"
      ],
      "metadata": {
        "colab": {
          "base_uri": "https://localhost:8080/"
        },
        "id": "6J9rQcHjT506",
        "outputId": "a5a2cc6c-3e58-4aef-ebcb-2fc5b78f2dfc"
      },
      "execution_count": 49,
      "outputs": [
        {
          "output_type": "stream",
          "name": "stdout",
          "text": [
            "(And me too!\n",
            "though I am much longer\n",
            "than the others :)\n",
            "And me too!\n",
            "though I am much longer \n",
            "than the others:)\n"
          ]
        }
      ]
    },
    {
      "cell_type": "code",
      "source": [
        "s='Hello\\tthere\\nHow are you?'\n",
        "print(s)"
      ],
      "metadata": {
        "colab": {
          "base_uri": "https://localhost:8080/"
        },
        "id": "cSzsf5ZvVXX4",
        "outputId": "9506d425-7e36-4d13-9e29-0bda3f7d9a14"
      },
      "execution_count": 50,
      "outputs": [
        {
          "output_type": "stream",
          "name": "stdout",
          "text": [
            "Hello\tthere\n",
            "How are you?\n"
          ]
        }
      ]
    },
    {
      "cell_type": "code",
      "source": [
        "s=\"Hello\\t \\\"there\\nHow are you?\"\n",
        "print(s)"
      ],
      "metadata": {
        "colab": {
          "base_uri": "https://localhost:8080/"
        },
        "id": "oXrtxAzlVuK_",
        "outputId": "3b0b2ab5-c215-46a5-8636-10318b68c82a"
      },
      "execution_count": 51,
      "outputs": [
        {
          "output_type": "stream",
          "name": "stdout",
          "text": [
            "Hello\t \"there\n",
            "How are you?\n"
          ]
        }
      ]
    },
    {
      "cell_type": "code",
      "source": [
        "\"kello\">\"jello\""
      ],
      "metadata": {
        "colab": {
          "base_uri": "https://localhost:8080/"
        },
        "id": "WCwg_c0_V_uT",
        "outputId": "8677219a-9380-4e20-e367-0361583a9ae2"
      },
      "execution_count": 52,
      "outputs": [
        {
          "output_type": "execute_result",
          "data": {
            "text/plain": [
              "True"
            ]
          },
          "metadata": {},
          "execution_count": 52
        }
      ]
    },
    {
      "cell_type": "code",
      "source": [
        "\"kello\"<\"jello\""
      ],
      "metadata": {
        "colab": {
          "base_uri": "https://localhost:8080/"
        },
        "id": "sW8bfnPhWMQI",
        "outputId": "e889ba48-6a3b-4909-b446-bdf9103b4e28"
      },
      "execution_count": 53,
      "outputs": [
        {
          "output_type": "execute_result",
          "data": {
            "text/plain": [
              "False"
            ]
          },
          "metadata": {},
          "execution_count": 53
        }
      ]
    },
    {
      "cell_type": "code",
      "source": [
        "\"jelo\"<\"jello\""
      ],
      "metadata": {
        "colab": {
          "base_uri": "https://localhost:8080/"
        },
        "id": "7ulHG4qoWWpm",
        "outputId": "f1072cf6-986e-4e97-d1e6-421a09444dfb"
      },
      "execution_count": 54,
      "outputs": [
        {
          "output_type": "execute_result",
          "data": {
            "text/plain": [
              "False"
            ]
          },
          "metadata": {},
          "execution_count": 54
        }
      ]
    },
    {
      "cell_type": "code",
      "source": [
        "'jelo'>'jello'"
      ],
      "metadata": {
        "colab": {
          "base_uri": "https://localhost:8080/"
        },
        "id": "sDK-AzsqWcM_",
        "outputId": "a3fa26aa-e797-4b97-ed77-14bade26794d"
      },
      "execution_count": 56,
      "outputs": [
        {
          "output_type": "execute_result",
          "data": {
            "text/plain": [
              "True"
            ]
          },
          "metadata": {},
          "execution_count": 56
        }
      ]
    }
  ]
}