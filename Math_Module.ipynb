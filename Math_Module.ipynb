{
  "nbformat": 4,
  "nbformat_minor": 0,
  "metadata": {
    "colab": {
      "name": "Math Module.ipynb",
      "provenance": [],
      "authorship_tag": "ABX9TyPu2VbyZ0LE+pppO/R6Jd3M",
      "include_colab_link": true
    },
    "kernelspec": {
      "name": "python3",
      "display_name": "Python 3"
    },
    "language_info": {
      "name": "python"
    }
  },
  "cells": [
    {
      "cell_type": "markdown",
      "metadata": {
        "id": "view-in-github",
        "colab_type": "text"
      },
      "source": [
        "<a href=\"https://colab.research.google.com/github/Sahishta-Parbin/DIVINE-AI/blob/main/Math_Module.ipynb\" target=\"_parent\"><img src=\"https://colab.research.google.com/assets/colab-badge.svg\" alt=\"Open In Colab\"/></a>"
      ]
    },
    {
      "cell_type": "code",
      "execution_count": 6,
      "metadata": {
        "colab": {
          "base_uri": "https://localhost:8080/"
        },
        "id": "c8T762zFL7xq",
        "outputId": "39c99b9c-f9dd-45f9-c4cc-5f07ff5294ce"
      },
      "outputs": [
        {
          "output_type": "stream",
          "name": "stdout",
          "text": [
            "2.718281828459045\n"
          ]
        }
      ],
      "source": [
        "import math\n",
        "print (math.e)\n"
      ]
    },
    {
      "cell_type": "code",
      "source": [
        "\n",
        "print (math.pi)\n"
      ],
      "metadata": {
        "colab": {
          "base_uri": "https://localhost:8080/"
        },
        "id": "XFpeEqNtNuaT",
        "outputId": "963f896b-a5bf-4c09-8c65-02367bd30d7c"
      },
      "execution_count": 4,
      "outputs": [
        {
          "output_type": "stream",
          "name": "stdout",
          "text": [
            "3.141592653589793\n"
          ]
        }
      ]
    },
    {
      "cell_type": "code",
      "source": [
        "r=4\n",
        "pie = math.pi\n",
        "print(pie * r * r)\n",
        "\n"
      ],
      "metadata": {
        "colab": {
          "base_uri": "https://localhost:8080/"
        },
        "id": "F64Z4VGZN3sh",
        "outputId": "28d4e6e2-c460-4931-9959-083b5252f33b"
      },
      "execution_count": 3,
      "outputs": [
        {
          "output_type": "stream",
          "name": "stdout",
          "text": [
            "50.26548245743669\n"
          ]
        }
      ]
    },
    {
      "cell_type": "code",
      "source": [
        "r=4\n",
        "pie = math.pi\n",
        "print(pie * r + r)\n",
        "\n"
      ],
      "metadata": {
        "colab": {
          "base_uri": "https://localhost:8080/"
        },
        "id": "Q5rRxVyxOUgT",
        "outputId": "5688eac5-36e0-4fa0-e8eb-5761d59d8d14"
      },
      "execution_count": 8,
      "outputs": [
        {
          "output_type": "stream",
          "name": "stdout",
          "text": [
            "16.566370614359172\n"
          ]
        }
      ]
    },
    {
      "cell_type": "code",
      "source": [
        "r=4\n",
        "pie = math.pi\n",
        "print(pie + r + r)\n",
        "\n"
      ],
      "metadata": {
        "colab": {
          "base_uri": "https://localhost:8080/"
        },
        "id": "oqoCgQNbOZlY",
        "outputId": "142dc350-795d-4f25-bba4-1d71a718a7e4"
      },
      "execution_count": 9,
      "outputs": [
        {
          "output_type": "stream",
          "name": "stdout",
          "text": [
            "11.141592653589793\n"
          ]
        }
      ]
    },
    {
      "cell_type": "code",
      "source": [
        "r=4\n",
        "pie = math.pi\n",
        "print(pie - r - r)\n",
        "\n"
      ],
      "metadata": {
        "colab": {
          "base_uri": "https://localhost:8080/"
        },
        "id": "AynVstX-OtEu",
        "outputId": "04fb9ab2-fc31-49d4-fc2a-b142d8f40cae"
      },
      "execution_count": 10,
      "outputs": [
        {
          "output_type": "stream",
          "name": "stdout",
          "text": [
            "-4.858407346410207\n"
          ]
        }
      ]
    },
    {
      "cell_type": "code",
      "source": [
        "print (math.tau)\n"
      ],
      "metadata": {
        "colab": {
          "base_uri": "https://localhost:8080/"
        },
        "id": "d6_fihUFOLpN",
        "outputId": "773f4291-52b7-498b-e504-db1055007227"
      },
      "execution_count": 7,
      "outputs": [
        {
          "output_type": "stream",
          "name": "stdout",
          "text": [
            "6.283185307179586\n"
          ]
        }
      ]
    },
    {
      "cell_type": "code",
      "source": [
        "print (math.inf)\n"
      ],
      "metadata": {
        "colab": {
          "base_uri": "https://localhost:8080/"
        },
        "id": "yU31wfpoO42z",
        "outputId": "08bfdeeb-e94f-4b01-f891-e6153693f53b"
      },
      "execution_count": 11,
      "outputs": [
        {
          "output_type": "stream",
          "name": "stdout",
          "text": [
            "inf\n"
          ]
        }
      ]
    },
    {
      "cell_type": "code",
      "source": [
        "print (-math.inf)\n"
      ],
      "metadata": {
        "colab": {
          "base_uri": "https://localhost:8080/"
        },
        "id": "quT0q9l5PP4s",
        "outputId": "c184b39e-74e4-444f-ec61-a27a03ed999b"
      },
      "execution_count": 12,
      "outputs": [
        {
          "output_type": "stream",
          "name": "stdout",
          "text": [
            "-inf\n"
          ]
        }
      ]
    },
    {
      "cell_type": "code",
      "source": [
        "print (math.inf > 10e108)\n"
      ],
      "metadata": {
        "colab": {
          "base_uri": "https://localhost:8080/"
        },
        "id": "slIxD3ntPTlG",
        "outputId": "06188d5c-7c1c-45f1-b0dd-8fdb1f200e95"
      },
      "execution_count": 13,
      "outputs": [
        {
          "output_type": "stream",
          "name": "stdout",
          "text": [
            "True\n"
          ]
        }
      ]
    },
    {
      "cell_type": "code",
      "source": [
        "print (math.inf < 10e108)\n"
      ],
      "metadata": {
        "colab": {
          "base_uri": "https://localhost:8080/"
        },
        "id": "krsf5w54PYc9",
        "outputId": "8299930c-09e0-4d88-da59-61a99ebb825f"
      },
      "execution_count": 14,
      "outputs": [
        {
          "output_type": "stream",
          "name": "stdout",
          "text": [
            "False\n"
          ]
        }
      ]
    },
    {
      "cell_type": "code",
      "source": [
        "print (-math.inf < -10e108)\n"
      ],
      "metadata": {
        "colab": {
          "base_uri": "https://localhost:8080/"
        },
        "id": "14wGhw_vPihM",
        "outputId": "179d0e47-23e9-4ced-e749-9079ffdfde48"
      },
      "execution_count": 15,
      "outputs": [
        {
          "output_type": "stream",
          "name": "stdout",
          "text": [
            "True\n"
          ]
        }
      ]
    },
    {
      "cell_type": "code",
      "source": [
        "print (math.nan)\n"
      ],
      "metadata": {
        "colab": {
          "base_uri": "https://localhost:8080/"
        },
        "id": "VPK7pRmsPsaY",
        "outputId": "cc792590-98dc-4543-9955-77bdb7f8bb9a"
      },
      "execution_count": 16,
      "outputs": [
        {
          "output_type": "stream",
          "name": "stdout",
          "text": [
            "nan\n"
          ]
        }
      ]
    },
    {
      "cell_type": "code",
      "source": [
        "a = 2.3\n",
        "print (\"The ceil of 2.3 is : \", end=\"\")\n",
        "print (math.ceil(a))\n"
      ],
      "metadata": {
        "colab": {
          "base_uri": "https://localhost:8080/"
        },
        "id": "g-On74y0QAXE",
        "outputId": "9383ab99-0c49-4ead-bcf1-cf6596d47d71"
      },
      "execution_count": 17,
      "outputs": [
        {
          "output_type": "stream",
          "name": "stdout",
          "text": [
            "The ceil of 2.3 is : 3\n"
          ]
        }
      ]
    },
    {
      "cell_type": "code",
      "source": [
        "print (\"The floor of 2.3 is : \", end=\"\")\n",
        "print (math.floor(a))\n"
      ],
      "metadata": {
        "colab": {
          "base_uri": "https://localhost:8080/"
        },
        "id": "EBzFT77IQMtx",
        "outputId": "a80dbcd7-d8e4-4410-e37c-d9b44d91e007"
      },
      "execution_count": 18,
      "outputs": [
        {
          "output_type": "stream",
          "name": "stdout",
          "text": [
            "The floor of 2.3 is : 2\n"
          ]
        }
      ]
    },
    {
      "cell_type": "code",
      "source": [
        "a = 5\n",
        "print(\"The factorial of 5 is : \", end=\"\")\n",
        "print(math.factorial(a))\n"
      ],
      "metadata": {
        "colab": {
          "base_uri": "https://localhost:8080/"
        },
        "id": "lGHiEcobQYx-",
        "outputId": "8271fafd-6bec-439c-846d-fed316bebd4d"
      },
      "execution_count": 19,
      "outputs": [
        {
          "output_type": "stream",
          "name": "stdout",
          "text": [
            "The factorial of 5 is : 120\n"
          ]
        }
      ]
    },
    {
      "cell_type": "code",
      "source": [
        "a = 15\n",
        "b = 5\n",
        "print (\"The gcd of 5 and 15 is : \", end=\"\")\n",
        "print (math.gcd(b, a))\n"
      ],
      "metadata": {
        "colab": {
          "base_uri": "https://localhost:8080/"
        },
        "id": "0b9JOyOwREI0",
        "outputId": "7f0686b2-a0b9-46dc-f3ad-710b6ffeef55"
      },
      "execution_count": 20,
      "outputs": [
        {
          "output_type": "stream",
          "name": "stdout",
          "text": [
            "The gcd of 5 and 15 is : 5\n"
          ]
        }
      ]
    },
    {
      "cell_type": "code",
      "source": [
        "print(math.sqrt(0)) \n",
        "\n",
        "\n"
      ],
      "metadata": {
        "colab": {
          "base_uri": "https://localhost:8080/"
        },
        "id": "Bj48fcy0Rfys",
        "outputId": "045f911e-ce70-4aa9-a7dc-d4d66dc8f2c3"
      },
      "execution_count": 24,
      "outputs": [
        {
          "output_type": "stream",
          "name": "stdout",
          "text": [
            "0.0\n"
          ]
        }
      ]
    },
    {
      "cell_type": "code",
      "source": [
        "print(math.sqrt(4)) \n"
      ],
      "metadata": {
        "colab": {
          "base_uri": "https://localhost:8080/"
        },
        "id": "JPk5-49wSI7q",
        "outputId": "8c88c023-1926-43bd-d239-8c5fe45db32a"
      },
      "execution_count": 22,
      "outputs": [
        {
          "output_type": "stream",
          "name": "stdout",
          "text": [
            "2.0\n"
          ]
        }
      ]
    },
    {
      "cell_type": "code",
      "source": [
        "print(math.sqrt(3.5)) \n"
      ],
      "metadata": {
        "colab": {
          "base_uri": "https://localhost:8080/"
        },
        "id": "kMcWlKgcSLCE",
        "outputId": "ccbbcb0c-30a4-4cd5-cb99-a8c1aa5c5f19"
      },
      "execution_count": 23,
      "outputs": [
        {
          "output_type": "stream",
          "name": "stdout",
          "text": [
            "1.8708286933869707\n"
          ]
        }
      ]
    },
    {
      "cell_type": "code",
      "source": [
        "def check(n):\n",
        "    if n == 1:\n",
        "        return False\n",
        "    for x in range(2, (int)(math.sqrt(n))+1):\n",
        "        if n % x == 0:\n",
        "            return False \n",
        "    return True\n",
        "n = 23\n",
        "if check(n):\n",
        "    print(\"prime\") \n",
        "else:\n",
        "    print(\"not a prime\")"
      ],
      "metadata": {
        "colab": {
          "base_uri": "https://localhost:8080/"
        },
        "id": "ras1_H2mTuI0",
        "outputId": "58b8c8a3-6fe7-4105-87c3-c210c5844c34"
      },
      "execution_count": 28,
      "outputs": [
        {
          "output_type": "stream",
          "name": "stdout",
          "text": [
            "prime\n"
          ]
        }
      ]
    },
    {
      "cell_type": "code",
      "source": [
        "import numpy as Bts \n",
        "arr1 = Bts.sqrt([1, 4, 9, 16])\n",
        "arr2 = Bts.sqrt([6, 10, 18])\n",
        "print(\"square-root of an array1  : \", arr1)\n",
        "print(\"square-root of an array2  : \", arr2)\n"
      ],
      "metadata": {
        "colab": {
          "base_uri": "https://localhost:8080/"
        },
        "id": "YxEQu6QNUUxT",
        "outputId": "10515e34-05ca-4ab9-80ea-2748a9ec1ec7"
      },
      "execution_count": 32,
      "outputs": [
        {
          "output_type": "stream",
          "name": "stdout",
          "text": [
            "square-root of an array1  :  [1. 2. 3. 4.]\n",
            "square-root of an array2  :  [2.44948974 3.16227766 4.24264069]\n"
          ]
        }
      ]
    },
    {
      "cell_type": "code",
      "source": [
        "import numpy as Bts \n",
        "arr = Bts.sqrt([4, -1, -5 + 9J])\n",
        "print(\"square-root of an array  : \", arr)\n"
      ],
      "metadata": {
        "colab": {
          "base_uri": "https://localhost:8080/"
        },
        "id": "3xWQD9A9U_R-",
        "outputId": "c23b6ac5-8fa3-4ebd-bb53-470f21c394f1"
      },
      "execution_count": 31,
      "outputs": [
        {
          "output_type": "stream",
          "name": "stdout",
          "text": [
            "square-root of an array  :  [2.        +0.j         0.        +1.j         1.62721083+2.76546833j]\n"
          ]
        }
      ]
    },
    {
      "cell_type": "code",
      "source": [
        "import numpy as Bts\n",
        "arr = Bts.sqrt([-4, 5, -6])\n",
        "print(\"square-root of an array  : \", arr)\n"
      ],
      "metadata": {
        "colab": {
          "base_uri": "https://localhost:8080/"
        },
        "id": "0d-XKYKEVU_7",
        "outputId": "8e110a33-f2ad-4dc3-9d21-9ed280a441e4"
      },
      "execution_count": 34,
      "outputs": [
        {
          "output_type": "stream",
          "name": "stdout",
          "text": [
            "square-root of an array  :  [       nan 2.23606798        nan]\n"
          ]
        },
        {
          "output_type": "stream",
          "name": "stderr",
          "text": [
            "/usr/local/lib/python3.7/dist-packages/ipykernel_launcher.py:2: RuntimeWarning: invalid value encountered in sqrt\n",
            "  \n"
          ]
        }
      ]
    },
    {
      "cell_type": "code",
      "source": [
        "import numpy as np\n",
        "arr1 = [1, -3, 15, -466]\n",
        "print (\"Square Value of arr1 : \\n\", np.square(arr1))\n"
      ],
      "metadata": {
        "colab": {
          "base_uri": "https://localhost:8080/"
        },
        "id": "kRxxYUwfVpNd",
        "outputId": "99d5e91e-5b8a-4781-9bb9-3c2658f3deda"
      },
      "execution_count": 35,
      "outputs": [
        {
          "output_type": "stream",
          "name": "stdout",
          "text": [
            "Square Value of arr1 : \n",
            " [     1      9    225 217156]\n"
          ]
        }
      ]
    },
    {
      "cell_type": "code",
      "source": [
        "arr2 = [23 ,-56]\n",
        "print (\"\\nSquare Value of arr2 : \", np.square(arr2))\n"
      ],
      "metadata": {
        "colab": {
          "base_uri": "https://localhost:8080/"
        },
        "id": "_0XrcySlWWiU",
        "outputId": "db3815bf-24ed-48a0-d599-b1db3fa2cf19"
      },
      "execution_count": 36,
      "outputs": [
        {
          "output_type": "stream",
          "name": "stdout",
          "text": [
            "\n",
            "Square Value of arr2 :  [ 529 3136]\n"
          ]
        }
      ]
    },
    {
      "cell_type": "code",
      "source": [
        "import numpy as np\n",
        "a = 4 + 3j\n",
        "print(\"Square(4 + 3j) : \", np.square(a))\n"
      ],
      "metadata": {
        "colab": {
          "base_uri": "https://localhost:8080/"
        },
        "id": "xoEhIWGMWb28",
        "outputId": "607a3007-db3e-4786-f027-33d92536d769"
      },
      "execution_count": 37,
      "outputs": [
        {
          "output_type": "stream",
          "name": "stdout",
          "text": [
            "Square(4 + 3j) :  (7+24j)\n"
          ]
        }
      ]
    },
    {
      "cell_type": "code",
      "source": [
        "b = 16 + 13j\n",
        "print(\"\\nSquare value(16 + 13j) : \", np.square(b))\n"
      ],
      "metadata": {
        "colab": {
          "base_uri": "https://localhost:8080/"
        },
        "id": "vTTz7PeFWr5G",
        "outputId": "9df6b7e1-a383-4ee4-8715-6d3efa7e2ee8"
      },
      "execution_count": 38,
      "outputs": [
        {
          "output_type": "stream",
          "name": "stdout",
          "text": [
            "\n",
            "Square value(16 + 13j) :  (87+416j)\n"
          ]
        }
      ]
    },
    {
      "cell_type": "code",
      "source": [
        "in_num1 = 10\n",
        "in_num2 = 15\n",
        "print (\"1st Input  number : \", in_num1)\n",
        "print (\"2nd Input  number : \", in_num2)\n"
      ],
      "metadata": {
        "colab": {
          "base_uri": "https://localhost:8080/"
        },
        "id": "0Zkkp0FNWyID",
        "outputId": "1c4f7d39-9d83-4f5a-cd2a-111712ac9c27"
      },
      "execution_count": 39,
      "outputs": [
        {
          "output_type": "stream",
          "name": "stdout",
          "text": [
            "1st Input  number :  10\n",
            "2nd Input  number :  15\n"
          ]
        }
      ]
    },
    {
      "cell_type": "code",
      "source": [
        "out_num = Bts.add(in_num1, in_num2) \n",
        "print (\"output number after addition  : \", out_num) \n"
      ],
      "metadata": {
        "colab": {
          "base_uri": "https://localhost:8080/"
        },
        "id": "1NnNxjPeXjEA",
        "outputId": "b4ee2132-2c6b-4be6-d6fa-cca0b7061261"
      },
      "execution_count": 40,
      "outputs": [
        {
          "output_type": "stream",
          "name": "stdout",
          "text": [
            "output number after addition  :  25\n"
          ]
        }
      ]
    },
    {
      "cell_type": "code",
      "source": [
        "in_num1 = 4\n",
        "in_num2 = 6\n",
        "print (\"1st Input  number : \", in_num1)\n",
        "print (\"2nd Input  number : \", in_num2)\n",
        "out_num = Bts.subtract(in_num1, in_num2) \n"
      ],
      "metadata": {
        "colab": {
          "base_uri": "https://localhost:8080/"
        },
        "id": "5nNDzrvRXrAn",
        "outputId": "8d5dc1e2-a857-43b6-f8f3-e5b996feb87f"
      },
      "execution_count": 42,
      "outputs": [
        {
          "output_type": "stream",
          "name": "stdout",
          "text": [
            "1st Input  number :  4\n",
            "2nd Input  number :  6\n"
          ]
        }
      ]
    },
    {
      "cell_type": "code",
      "source": [
        "print (\"Difference of two input number : \", out_num) \n"
      ],
      "metadata": {
        "colab": {
          "base_uri": "https://localhost:8080/"
        },
        "id": "fm3bdaRkYYYj",
        "outputId": "aafad2aa-ce13-4889-bac3-2e48b365d872"
      },
      "execution_count": 43,
      "outputs": [
        {
          "output_type": "stream",
          "name": "stdout",
          "text": [
            "Difference of two input number :  -2\n"
          ]
        }
      ]
    }
  ]
}