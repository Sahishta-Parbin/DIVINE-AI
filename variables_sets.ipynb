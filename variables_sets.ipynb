{
  "nbformat": 4,
  "nbformat_minor": 0,
  "metadata": {
    "colab": {
      "name": "variables sets.ipynb",
      "provenance": [],
      "authorship_tag": "ABX9TyNkjjR+3qllkYvPXwqqG6lp",
      "include_colab_link": true
    },
    "kernelspec": {
      "name": "python3",
      "display_name": "Python 3"
    },
    "language_info": {
      "name": "python"
    }
  },
  "cells": [
    {
      "cell_type": "markdown",
      "metadata": {
        "id": "view-in-github",
        "colab_type": "text"
      },
      "source": [
        "<a href=\"https://colab.research.google.com/github/Sahishta-Parbin/DIVINE-AI/blob/main/variables_sets.ipynb\" target=\"_parent\"><img src=\"https://colab.research.google.com/assets/colab-badge.svg\" alt=\"Open In Colab\"/></a>"
      ]
    },
    {
      "cell_type": "code",
      "source": [
        "x = 10\n",
        "y = 20\n",
        "z = x\n",
        "x = y\n",
        "y = z\n",
        "print(\"x=\",x)\n",
        "print(\"y=\",y)"
      ],
      "metadata": {
        "colab": {
          "base_uri": "https://localhost:8080/"
        },
        "id": "W9wQDk1r9qGx",
        "outputId": "3a96cd28-5df8-41be-e205-a5d99ed4548b"
      },
      "execution_count": 13,
      "outputs": [
        {
          "output_type": "stream",
          "name": "stdout",
          "text": [
            "x= 20\n",
            "y= 10\n"
          ]
        }
      ]
    },
    {
      "cell_type": "code",
      "source": [
        "x = 10\n",
        "y = 20\n",
        "z = x\n",
        "x,y = y,x\n",
        "print(\"x=\",x)\n",
        "print(\"y=\",y)"
      ],
      "metadata": {
        "colab": {
          "base_uri": "https://localhost:8080/"
        },
        "id": "Wl5XzqDS-WZQ",
        "outputId": "e84a25bd-19dc-4c19-b6b3-dd4c80a0cd1b"
      },
      "execution_count": 14,
      "outputs": [
        {
          "output_type": "stream",
          "name": "stdout",
          "text": [
            "x= 20\n",
            "y= 10\n"
          ]
        }
      ]
    },
    {
      "cell_type": "code",
      "execution_count": 1,
      "metadata": {
        "colab": {
          "base_uri": "https://localhost:8080/"
        },
        "id": "4Dv4wXbN1vpP",
        "outputId": "dabebb92-3124-4036-8127-dd3b76a5a3f8"
      },
      "outputs": [
        {
          "output_type": "stream",
          "name": "stdout",
          "text": [
            "The value of x after swapping: 10\n",
            "The value of x after swapping: 5\n"
          ]
        }
      ],
      "source": [
        "x = 5\n",
        "y = 10\n",
        "temp = x\n",
        "x = y\n",
        "y = temp\n",
        "print('The value of x after swapping: {}'.format(x))\n",
        "print('The value of x after swapping: {}'.format(y))\n"
      ]
    },
    {
      "cell_type": "code",
      "source": [
        "x = 5\n",
        "y = 10\n",
        "x, y = y, x\n",
        "print(\"y =\", y)\n",
        "\n",
        "print(\"x =\", x)\n"
      ],
      "metadata": {
        "colab": {
          "base_uri": "https://localhost:8080/"
        },
        "id": "jtZVWYjM3ZAD",
        "outputId": "6d6a7dcd-b548-4a99-a1b9-ac10644756aa"
      },
      "execution_count": 2,
      "outputs": [
        {
          "output_type": "stream",
          "name": "stdout",
          "text": [
            "y = 5\n",
            "x = 10\n"
          ]
        }
      ]
    },
    {
      "cell_type": "code",
      "source": [
        "x = 10\n",
        "y = 50\n",
        "temp = x\n",
        "x = y\n",
        "y = temp\n",
        "print(\"Value of x:\", x)\n",
        "print(\"Value of y:\", y)\n",
        "\n"
      ],
      "metadata": {
        "colab": {
          "base_uri": "https://localhost:8080/"
        },
        "id": "ZNIbHMZJ3xdr",
        "outputId": "498af079-7480-499e-c60e-12ecefaf264e"
      },
      "execution_count": 3,
      "outputs": [
        {
          "output_type": "stream",
          "name": "stdout",
          "text": [
            "Value of x: 50\n",
            "Value of y: 10\n"
          ]
        }
      ]
    },
    {
      "cell_type": "code",
      "source": [
        "x = 10\n",
        "y = 50\n",
        "x = x ^ y\n",
        "y = x ^ y\n",
        "x = x ^ y\n",
        "print(\"Value of y:\", y)\n",
        "print(\"Value of y:\", y)\n"
      ],
      "metadata": {
        "colab": {
          "base_uri": "https://localhost:8080/"
        },
        "id": "msPFgBar4WlF",
        "outputId": "50e2e23d-e428-425a-a747-f5f5ceaca03a"
      },
      "execution_count": 4,
      "outputs": [
        {
          "output_type": "stream",
          "name": "stdout",
          "text": [
            "Value of y: 10\n",
            "Value of y: 10\n"
          ]
        }
      ]
    },
    {
      "cell_type": "code",
      "source": [
        "x = 10\n",
        "y = 50\n",
        "x = x + y\n",
        "y = x - y\n",
        "x = x - y\n",
        "print(\"Value of y:\", y)\n",
        "print(\"Value of y:\", y)\n"
      ],
      "metadata": {
        "colab": {
          "base_uri": "https://localhost:8080/"
        },
        "id": "yQ-86eLT4spQ",
        "outputId": "a8c18d2f-8565-44da-c72f-eb07438793e6"
      },
      "execution_count": 5,
      "outputs": [
        {
          "output_type": "stream",
          "name": "stdout",
          "text": [
            "Value of y: 10\n",
            "Value of y: 10\n"
          ]
        }
      ]
    },
    {
      "cell_type": "code",
      "source": [
        "x = 10\n",
        "y = 50\n",
        "x = x * y\n",
        "y = x / y\n",
        "x = x / y\n",
        "print(\"Value of y:\", y)\n",
        "print(\"Value of y:\", y)\n"
      ],
      "metadata": {
        "colab": {
          "base_uri": "https://localhost:8080/"
        },
        "id": "ogytooJp45O6",
        "outputId": "46b44e66-e6a7-4bdb-c188-3e920ed0df44"
      },
      "execution_count": 6,
      "outputs": [
        {
          "output_type": "stream",
          "name": "stdout",
          "text": [
            "Value of y: 10.0\n",
            "Value of y: 10.0\n"
          ]
        }
      ]
    },
    {
      "cell_type": "code",
      "source": [
        "a = 5\n",
        "b = 1\n",
        "a = (a & b) + (a | b)\n",
        "b = a + (~b) + 1\n",
        "a = a + (~b) + 1\n",
        "print(\"a after swapping: \", a)\n",
        "print(\"b after swapping: \", b)\n",
        "\n"
      ],
      "metadata": {
        "colab": {
          "base_uri": "https://localhost:8080/"
        },
        "id": "DPDzxq975DxA",
        "outputId": "529154a0-a339-45a1-e952-a0f1d155232e"
      },
      "execution_count": 7,
      "outputs": [
        {
          "output_type": "stream",
          "name": "stdout",
          "text": [
            "a after swapping:  1\n",
            "b after swapping:  5\n"
          ]
        }
      ]
    },
    {
      "cell_type": "code",
      "source": [
        "P = int( input(\"Please enter value for P: \"))  \n",
        "Q = int( input(\"Please enter value for Q: \"))  \n",
        "temp_1 = P  \n",
        "P = Q    \n",
        "Q = temp_1  \n",
        "print (\"The Value of P after swapping: \", P)  \n",
        "print (\"The Value of P after swapping: \", Q)  \n"
      ],
      "metadata": {
        "colab": {
          "base_uri": "https://localhost:8080/"
        },
        "id": "cZWkfTte6k2E",
        "outputId": "d1eaee49-1c8f-4a99-919e-0b8844a719c5"
      },
      "execution_count": 8,
      "outputs": [
        {
          "output_type": "stream",
          "name": "stdout",
          "text": [
            "Please enter value for P: 45\n",
            "Please enter value for Q: 54\n",
            "The Value of P after swapping:  54\n",
            "The Value of P after swapping:  45\n"
          ]
        }
      ]
    },
    {
      "cell_type": "code",
      "source": [
        "P = int( input(\"Please enter value for P: \"))  \n",
        "Q = int( input(\"Please enter value for Q: \"))  \n",
        "P, Q = Q, P  \n",
        "print (\"The Value of P after swapping: \", P)  \n",
        "print (\"The Value of P after swapping: \", Q)  \n"
      ],
      "metadata": {
        "colab": {
          "base_uri": "https://localhost:8080/"
        },
        "id": "c33nBqLU7b0p",
        "outputId": "6553b42b-9bfe-4eb1-8cf6-4489b06b5201"
      },
      "execution_count": 9,
      "outputs": [
        {
          "output_type": "stream",
          "name": "stdout",
          "text": [
            "Please enter value for P: 43\n",
            "Please enter value for Q: 23\n",
            "The Value of P after swapping:  23\n",
            "The Value of P after swapping:  43\n"
          ]
        }
      ]
    },
    {
      "cell_type": "code",
      "source": [
        "P = int( input(\"Please enter value for P: \"))  \n",
        "Q = int( input(\"Please enter value for Q: \"))  \n",
        "P = P ^ Q  \n",
        "Q = P ^ Q  \n",
        "P = P ^ Q  \n",
        "print (\"The Value of P after swapping: \", P)  \n",
        "print (\"The Value of Q after swapping: \", Q)  \n"
      ],
      "metadata": {
        "colab": {
          "base_uri": "https://localhost:8080/"
        },
        "id": "_noxAh8M8EU4",
        "outputId": "a9681cef-aa86-433f-98bb-9fac2e340b02"
      },
      "execution_count": 10,
      "outputs": [
        {
          "output_type": "stream",
          "name": "stdout",
          "text": [
            "Please enter value for P: 20\n",
            "Please enter value for Q: 13\n",
            "The Value of P after swapping:  13\n",
            "The Value of Q after swapping:  20\n"
          ]
        }
      ]
    },
    {
      "cell_type": "code",
      "source": [
        "P = int( input(\"Please enter value for P: \"))  \n",
        "Q = int( input(\"Please enter value for Q: \"))  \n",
        "P = P + Q  \n",
        "Q = P - Q  \n",
        "P = P - Q  \n",
        "print (\"The Value of P after swapping: \", P)  \n",
        "print (\"The Value of Q after swapping: \", Q)  \n"
      ],
      "metadata": {
        "colab": {
          "base_uri": "https://localhost:8080/"
        },
        "id": "1aiu3M6A8h7W",
        "outputId": "91937c1f-0ba9-4143-a602-d89c78a34795"
      },
      "execution_count": 11,
      "outputs": [
        {
          "output_type": "stream",
          "name": "stdout",
          "text": [
            "Please enter value for P: 40\n",
            "Please enter value for Q: 30\n",
            "The Value of P after swapping:  30\n",
            "The Value of Q after swapping:  40\n"
          ]
        }
      ]
    },
    {
      "cell_type": "code",
      "source": [
        "P = int( input(\"Please enter value for P: \"))  \n",
        "Q = int( input(\"Please enter value for Q: \"))  \n",
        "P = P * Q  \n",
        "Q = P / Q  \n",
        "P = P /43 Q  \n",
        "print (\"The Value of P after swapping: \", P)  \n",
        "print (\"The Value of Q after swapping: \", Q)  \n",
        "\n"
      ],
      "metadata": {
        "colab": {
          "base_uri": "https://localhost:8080/"
        },
        "id": "vAv5PH8p81IU",
        "outputId": "548c1371-6257-4496-918f-38f80bc006f6"
      },
      "execution_count": 12,
      "outputs": [
        {
          "output_type": "stream",
          "name": "stdout",
          "text": [
            "Please enter value for P: 56\n",
            "Please enter value for Q: 43\n",
            "The Value of P after swapping:  43.0\n",
            "The Value of Q after swapping:  56.0\n"
          ]
        }
      ]
    },
    {
      "cell_type": "code",
      "source": [
        "numbers =[1,2,3,4,5,6,7,8]\n",
        "uniques = set(numbers)\n",
        "print(uniques)"
      ],
      "metadata": {
        "colab": {
          "base_uri": "https://localhost:8080/"
        },
        "id": "Zyr5YI-_9d-H",
        "outputId": "7e8e989d-e9dd-4815-b92f-942a024e769e"
      },
      "execution_count": 15,
      "outputs": [
        {
          "output_type": "stream",
          "name": "stdout",
          "text": [
            "{1, 2, 3, 4, 5, 6, 7, 8}\n"
          ]
        }
      ]
    },
    {
      "cell_type": "code",
      "source": [
        "numbers =[1,9,3,3,2,8,8,6,7,6]\n",
        "uniques = set(numbers)\n",
        "print(uniques)"
      ],
      "metadata": {
        "colab": {
          "base_uri": "https://localhost:8080/"
        },
        "id": "kl2SW6Yd-zwR",
        "outputId": "3ead5d68-7454-4586-8592-ab84c36a65a1"
      },
      "execution_count": 16,
      "outputs": [
        {
          "output_type": "stream",
          "name": "stdout",
          "text": [
            "{1, 2, 3, 6, 7, 8, 9}\n"
          ]
        }
      ]
    },
    {
      "cell_type": "code",
      "source": [
        "numbers = [1,2,3,3,2,5,6,7,6,9]\n",
        "first = set(numbers)\n",
        "if 9 in first:\n",
        "    print('yes')\n",
        "else:\n",
        "    print(\"no\")\n",
        "    "
      ],
      "metadata": {
        "colab": {
          "base_uri": "https://localhost:8080/"
        },
        "id": "OZq4EZXe_udC",
        "outputId": "2b334779-27eb-4bb7-a92c-7e48579fd9e4"
      },
      "execution_count": 22,
      "outputs": [
        {
          "output_type": "stream",
          "name": "stdout",
          "text": [
            "yes\n"
          ]
        }
      ]
    },
    {
      "cell_type": "code",
      "source": [
        "numbers = [1,2,3,3,2,5,6,7,6,9]\n",
        "first = set(numbers)\n",
        "if 4 in first:\n",
        "    print('yes')\n",
        "else:\n",
        "    print(\"no\")\n",
        "    "
      ],
      "metadata": {
        "colab": {
          "base_uri": "https://localhost:8080/"
        },
        "id": "lHkiwO9kAgpL",
        "outputId": "cfdac118-4a2f-4bf8-ac4d-955b5f793b3b"
      },
      "execution_count": 23,
      "outputs": [
        {
          "output_type": "stream",
          "name": "stdout",
          "text": [
            "no\n"
          ]
        }
      ]
    },
    {
      "cell_type": "code",
      "source": [
        "second = {1,4,5,7,8,9}\n",
        "second.remove(9)\n",
        "second"
      ],
      "metadata": {
        "colab": {
          "base_uri": "https://localhost:8080/"
        },
        "id": "mb_6ohsaAkVi",
        "outputId": "693d3fae-f131-4d9e-9873-26dcb3ec799d"
      },
      "execution_count": 24,
      "outputs": [
        {
          "output_type": "execute_result",
          "data": {
            "text/plain": [
              "{1, 4, 5, 7, 8}"
            ]
          },
          "metadata": {},
          "execution_count": 24
        }
      ]
    },
    {
      "cell_type": "code",
      "source": [
        "numbers = [1,9,2,3,3,2,5,6,7,6]\n",
        "print(numbers)\n",
        "first = set(numbers)\n",
        "print(first)\n",
        "first = {1,2,3,5,6,7,9}\n",
        "second = {3,2,9,4,8}\n",
        "print(first | second)\n",
        "print(first & second)\n",
        "print(first - second)"
      ],
      "metadata": {
        "colab": {
          "base_uri": "https://localhost:8080/"
        },
        "id": "F80XmymVA1AF",
        "outputId": "5439c2bd-e8e7-4653-8e29-32d37a12839b"
      },
      "execution_count": 25,
      "outputs": [
        {
          "output_type": "stream",
          "name": "stdout",
          "text": [
            "[1, 9, 2, 3, 3, 2, 5, 6, 7, 6]\n",
            "{1, 2, 3, 5, 6, 7, 9}\n",
            "{1, 2, 3, 4, 5, 6, 7, 8, 9}\n",
            "{9, 2, 3}\n",
            "{1, 5, 6, 7}\n"
          ]
        }
      ]
    }
  ]
}