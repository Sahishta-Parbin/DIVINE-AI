{
  "nbformat": 4,
  "nbformat_minor": 0,
  "metadata": {
    "colab": {
      "name": "control flow.ipynb",
      "provenance": [],
      "authorship_tag": "ABX9TyNQdFa+tORlKvs4QRZlLlun",
      "include_colab_link": true
    },
    "kernelspec": {
      "name": "python3",
      "display_name": "Python 3"
    },
    "language_info": {
      "name": "python"
    }
  },
  "cells": [
    {
      "cell_type": "markdown",
      "metadata": {
        "id": "view-in-github",
        "colab_type": "text"
      },
      "source": [
        "<a href=\"https://colab.research.google.com/github/Sahishta-Parbin/DIVINE-AI/blob/main/control_flow.ipynb\" target=\"_parent\"><img src=\"https://colab.research.google.com/assets/colab-badge.svg\" alt=\"Open In Colab\"/></a>"
      ]
    },
    {
      "cell_type": "code",
      "source": [
        "i = 10\n",
        "if (i > 15):\n",
        "    print(\"10 is less than 15\")\n",
        "print(\"I am Not in if\")\n"
      ],
      "metadata": {
        "colab": {
          "base_uri": "https://localhost:8080/"
        },
        "id": "8_FmjOojRc2t",
        "outputId": "ee45cc4b-d447-4cff-f9d0-f2db5272db17"
      },
      "execution_count": null,
      "outputs": [
        {
          "output_type": "stream",
          "name": "stdout",
          "text": [
            "I am Not in if\n"
          ]
        }
      ]
    },
    {
      "cell_type": "code",
      "source": [
        "i = 20\n",
        "if (i < 30):\n",
        "    print(\"20 is less than 30\")\n",
        "print(\"I am Not in if\")\n"
      ],
      "metadata": {
        "colab": {
          "base_uri": "https://localhost:8080/"
        },
        "id": "4hH4Q6jzRyRi",
        "outputId": "43b909b0-38ad-44be-c2cd-7737669a2860"
      },
      "execution_count": null,
      "outputs": [
        {
          "output_type": "stream",
          "name": "stdout",
          "text": [
            "20 is less than 30\n",
            "I am Not in if\n"
          ]
        }
      ]
    },
    {
      "cell_type": "code",
      "source": [
        "i = 20\n",
        "if (i < 30):\n",
        "  print(\"i is smaller than 15\")\n"
      ],
      "metadata": {
        "colab": {
          "base_uri": "https://localhost:8080/"
        },
        "id": "fhui_NDUSQCY",
        "outputId": "b1b67c43-39c7-44cc-9d19-ba61e6d8f706"
      },
      "execution_count": null,
      "outputs": [
        {
          "output_type": "stream",
          "name": "stdout",
          "text": [
            "i is smaller than 15\n"
          ]
        }
      ]
    },
    {
      "cell_type": "code",
      "source": [
        "    print(\"i'm in if Block\")\n"
      ],
      "metadata": {
        "colab": {
          "base_uri": "https://localhost:8080/"
        },
        "id": "FpiTHvrxSjzD",
        "outputId": "c4d38d4d-7ef2-49b3-e740-c381fe72e144"
      },
      "execution_count": null,
      "outputs": [
        {
          "output_type": "stream",
          "name": "stdout",
          "text": [
            "i'm in if Block\n"
          ]
        }
      ]
    },
    {
      "cell_type": "code",
      "source": [
        "i = 20\n",
        "if (i < 30):\n",
        "    print(\"i is smaller than 15\")\n",
        "    print(\"i'm in if Block\")\n",
        "else:\n",
        "    print(\"i is greater than 15\")\n",
        "    print(\"i'm in else Block\")\n",
        "print(\"i'm not in if and not in else Block\")\n"
      ],
      "metadata": {
        "colab": {
          "base_uri": "https://localhost:8080/"
        },
        "id": "P8GVbvNOSo45",
        "outputId": "80cede82-cab1-4f5c-8ce3-ab0c524a7435"
      },
      "execution_count": null,
      "outputs": [
        {
          "output_type": "stream",
          "name": "stdout",
          "text": [
            "i is smaller than 15\n",
            "i'm in if Block\n",
            "i'm not in if and not in else Block\n"
          ]
        }
      ]
    },
    {
      "cell_type": "code",
      "source": [
        "i = 20\n",
        "if (i > 30):\n",
        "    print(\"i is greater than 15\")\n",
        "    print(\"i'm in if Block\")\n",
        "else:\n",
        "    print(\"i is smaller than 15\")\n",
        "    print(\"i'm in else Block\")\n",
        "print(\"i'm not in if and not in else Block\")\n"
      ],
      "metadata": {
        "id": "3vwHjnz5MXKv",
        "outputId": "bd45503b-be94-41ed-edbd-29f91f7c4076",
        "colab": {
          "base_uri": "https://localhost:8080/"
        }
      },
      "execution_count": null,
      "outputs": [
        {
          "output_type": "stream",
          "name": "stdout",
          "text": [
            "i is smaller than 15\n",
            "i'm in else Block\n",
            "i'm not in if and not in else Block\n"
          ]
        }
      ]
    },
    {
      "cell_type": "code",
      "source": [
        "def digitSum(n):\n",
        "    dsum = 0\n",
        "    for ele in str(n):\n",
        "        dsum += int(ele)\n",
        "    return dsum\n",
        "List = [367, 111, 562, 945, 6726, 873]\n",
        "newList = [digitSum(i) for i in List if i & 1]\n",
        "print(newList)\n"
      ],
      "metadata": {
        "colab": {
          "base_uri": "https://localhost:8080/"
        },
        "id": "WqmgY0KqTdAc",
        "outputId": "935cad5e-08ba-46f3-aee9-01ec9dcfe198"
      },
      "execution_count": null,
      "outputs": [
        {
          "output_type": "stream",
          "name": "stdout",
          "text": [
            "[16, 3, 18, 18]\n"
          ]
        }
      ]
    },
    {
      "cell_type": "code",
      "source": [
        "def digitSum(n):\n",
        "    dsum = 0\n",
        "    for ele in str(n):\n",
        "        dsum += int(ele)\n",
        "    return dsum\n",
        "List = [367, 110, 62, 94, 672, 700]\n",
        "newList = [digitSum(i) for i in List if i & 1]\n",
        "print(newList)\n"
      ],
      "metadata": {
        "id": "leJoaMC2Mh8v",
        "outputId": "f505a98f-05e7-4639-ae6b-1e88111b0810",
        "colab": {
          "base_uri": "https://localhost:8080/"
        }
      },
      "execution_count": null,
      "outputs": [
        {
          "output_type": "stream",
          "name": "stdout",
          "text": [
            "[16]\n"
          ]
        }
      ]
    },
    {
      "cell_type": "code",
      "source": [
        "i = 10\n",
        "if (i == 10):\n",
        "    if (i < 15):\n",
        "        print(\"i is smaller than 15\")\n"
      ],
      "metadata": {
        "colab": {
          "base_uri": "https://localhost:8080/"
        },
        "id": "r9kzWJLZT4Dr",
        "outputId": "57e9c918-bbd9-42cc-ed47-1bebeea73285"
      },
      "execution_count": null,
      "outputs": [
        {
          "output_type": "stream",
          "name": "stdout",
          "text": [
            "i is smaller than 15\n"
          ]
        }
      ]
    },
    {
      "cell_type": "code",
      "source": [
        "    if (i < 12):\n",
        "        print(\"i is smaller than 12 too\")\n",
        "    else:\n",
        "        print(\"i is greater than 15\")\n"
      ],
      "metadata": {
        "colab": {
          "base_uri": "https://localhost:8080/"
        },
        "id": "rTlFSu2aUI8Y",
        "outputId": "13f29066-50ac-4474-e96f-0b3b8910d895"
      },
      "execution_count": null,
      "outputs": [
        {
          "output_type": "stream",
          "name": "stdout",
          "text": [
            "i is smaller than 12 too\n"
          ]
        }
      ]
    },
    {
      "cell_type": "code",
      "source": [
        "i = 20\n",
        "if (i == 10):\n",
        "    print(\"i is 10\")\n",
        "elif (i == 15):\n",
        "      print(\"i is 15\")\n",
        "elif (i == 20):\n",
        "    print(\"i is 20\")\n",
        "else:\n",
        "    print(\"i is not present\")\n",
        "\n"
      ],
      "metadata": {
        "colab": {
          "base_uri": "https://localhost:8080/"
        },
        "id": "cD1619CDUg-0",
        "outputId": "00b3baa4-06dc-4861-827a-ec671bfd78b6"
      },
      "execution_count": null,
      "outputs": [
        {
          "output_type": "stream",
          "name": "stdout",
          "text": [
            "i is 20\n"
          ]
        }
      ]
    },
    {
      "cell_type": "code",
      "source": [
        "i = 20\n",
        "if (i == 30):\n",
        "    print(\"i is 10\")\n",
        "elif (i == 15):\n",
        "      print(\"i is 15\")\n",
        "elif (i == 20):\n",
        "    print(\"i is 20\")\n",
        "else:\n",
        "    print(\"i is not present\")\n",
        "\n"
      ],
      "metadata": {
        "id": "HJqj3vE3M1d3",
        "outputId": "7addd9b4-9e37-4aa2-a901-f9ad3fbb3caa",
        "colab": {
          "base_uri": "https://localhost:8080/"
        }
      },
      "execution_count": 9,
      "outputs": [
        {
          "output_type": "stream",
          "name": "stdout",
          "text": [
            "i is 20\n"
          ]
        }
      ]
    },
    {
      "cell_type": "code",
      "source": [
        "i = 20\n",
        "if (i == 30):\n",
        "    print(\"i is 20\")\n",
        "elif (i == 30):\n",
        "      print(\"i is 20\")\n",
        "elif (i == 30):\n",
        "    print(\"i is 20\")\n",
        "else:\n",
        "    print(\"i is  present\")\n",
        "\n"
      ],
      "metadata": {
        "id": "6FyODP-6M8Ca",
        "outputId": "6cbbff7f-a059-49db-dae3-18f9aa0ddcae",
        "colab": {
          "base_uri": "https://localhost:8080/"
        }
      },
      "execution_count": 10,
      "outputs": [
        {
          "output_type": "stream",
          "name": "stdout",
          "text": [
            "i is  present\n"
          ]
        }
      ]
    },
    {
      "cell_type": "code",
      "source": [
        "i = 20\n",
        "if (i == 30):\n",
        "    print(\"i is 20\")\n",
        "elif (i == 30):\n",
        "      print(\"i is 20\")\n",
        "elif (i == 30):\n",
        "    print(\"i is 20\")\n",
        "else:\n",
        "    print(\"i is not present\")\n",
        "\n"
      ],
      "metadata": {
        "id": "otdofMV5NKPN",
        "outputId": "4acb0f2d-359d-4a41-c60e-6d50c48d31fe",
        "colab": {
          "base_uri": "https://localhost:8080/"
        }
      },
      "execution_count": 11,
      "outputs": [
        {
          "output_type": "stream",
          "name": "stdout",
          "text": [
            "i is not present\n"
          ]
        }
      ]
    },
    {
      "cell_type": "code",
      "source": [
        "i = 10\n",
        "if i < 15:\n",
        "    print(\"i is less than 15\")\n"
      ],
      "metadata": {
        "colab": {
          "base_uri": "https://localhost:8080/"
        },
        "id": "A84C39fLU82G",
        "outputId": "6d2b8d51-a976-4e0b-9869-b59a98429418"
      },
      "execution_count": null,
      "outputs": [
        {
          "output_type": "stream",
          "name": "stdout",
          "text": [
            "i is less than 15\n"
          ]
        }
      ]
    },
    {
      "cell_type": "code",
      "source": [
        "i = 10\n",
        "print(True) if i < 15 else print(False)\n"
      ],
      "metadata": {
        "colab": {
          "base_uri": "https://localhost:8080/"
        },
        "id": "mmDHgTc_VH5_",
        "outputId": "2e6234bf-78ea-4269-c3a8-c0902494a921"
      },
      "execution_count": null,
      "outputs": [
        {
          "output_type": "stream",
          "name": "stdout",
          "text": [
            "True\n"
          ]
        }
      ]
    },
    {
      "cell_type": "code",
      "source": [
        "i = 10\n",
        "print(False) if i < 15 else print(True)\n"
      ],
      "metadata": {
        "id": "_mY2fP4dNk4n",
        "outputId": "d00da814-08ed-4dfe-843f-5e40189dab6b",
        "colab": {
          "base_uri": "https://localhost:8080/"
        }
      },
      "execution_count": 14,
      "outputs": [
        {
          "output_type": "stream",
          "name": "stdout",
          "text": [
            "False\n"
          ]
        }
      ]
    },
    {
      "cell_type": "code",
      "source": [
        "i = 10\n",
        "print(False) if i > 15 else print(False)\n"
      ],
      "metadata": {
        "id": "rF9fwcQsNQR9",
        "outputId": "d0da993f-c1cd-424d-a397-9862da785b4a",
        "colab": {
          "base_uri": "https://localhost:8080/"
        }
      },
      "execution_count": 12,
      "outputs": [
        {
          "output_type": "stream",
          "name": "stdout",
          "text": [
            "False\n"
          ]
        }
      ]
    },
    {
      "cell_type": "code",
      "source": [
        "i = 10\n",
        "print(True) if i > 15 else print(True)\n"
      ],
      "metadata": {
        "id": "AOZlApyMNYOM",
        "outputId": "02a93ed4-9495-4750-87e6-d72677b30ac8",
        "colab": {
          "base_uri": "https://localhost:8080/"
        }
      },
      "execution_count": 13,
      "outputs": [
        {
          "output_type": "stream",
          "name": "stdout",
          "text": [
            "True\n"
          ]
        }
      ]
    },
    {
      "cell_type": "code",
      "execution_count": null,
      "metadata": {
        "colab": {
          "base_uri": "https://localhost:8080/"
        },
        "id": "HrWifzNuFgB6",
        "outputId": "40ab3c05-6b09-40df-910a-8323ef1b7b2c"
      },
      "outputs": [
        {
          "output_type": "stream",
          "name": "stdout",
          "text": [
            "Hello jungkook\n",
            "Hello jungkook\n",
            "Hello jungkook\n"
          ]
        }
      ],
      "source": [
        "count = 0\n",
        "while (count < 3):    \n",
        "    count = count+1\n",
        "    print(\"Hello jungkook\")\n"
      ]
    },
    {
      "cell_type": "code",
      "source": [
        "count = 0\n",
        "while (count < 3):   \n",
        "    count = count+1\n",
        "    print(\"Hello jungkook\")\n",
        "else:\n",
        "    print(\"In Else Block\")\n"
      ],
      "metadata": {
        "colab": {
          "base_uri": "https://localhost:8080/"
        },
        "id": "F0oTkLbLGUP_",
        "outputId": "acf866c3-79a0-4eab-f0c2-bfa152261f58"
      },
      "execution_count": null,
      "outputs": [
        {
          "output_type": "stream",
          "name": "stdout",
          "text": [
            "Hello jungkook\n",
            "Hello jungkook\n",
            "Hello jungkook\n",
            "In Else Block\n"
          ]
        }
      ]
    },
    {
      "cell_type": "code",
      "source": [
        "n = 7\n",
        "for i in range(0, n):\n",
        "    print(i)\n"
      ],
      "metadata": {
        "colab": {
          "base_uri": "https://localhost:8080/"
        },
        "id": "8L_R2Kt0NA02",
        "outputId": "fc746fdb-39fe-4fcc-ed6e-bb513d04387e"
      },
      "execution_count": null,
      "outputs": [
        {
          "output_type": "stream",
          "name": "stdout",
          "text": [
            "0\n",
            "1\n",
            "2\n",
            "3\n",
            "4\n",
            "5\n",
            "6\n"
          ]
        }
      ]
    },
    {
      "cell_type": "code",
      "source": [
        "print(\"List Iteration\")\n",
        "l = [\"jungkook\", \"for\", \"jungkook\"]\n",
        "for i in l:\n",
        "    print(i)\n"
      ],
      "metadata": {
        "colab": {
          "base_uri": "https://localhost:8080/"
        },
        "id": "LpP2UsA4Gmgk",
        "outputId": "90f1b364-4c0d-44f1-d02f-31484b1bb4e5"
      },
      "execution_count": null,
      "outputs": [
        {
          "output_type": "stream",
          "name": "stdout",
          "text": [
            "List Iteration\n",
            "jungkook\n",
            "for\n",
            "jungkook\n"
          ]
        }
      ]
    },
    {
      "cell_type": "code",
      "source": [
        "print(\"/nTuple Iteration\")\n",
        "t = [\"jungkook\", \"for\", \"jungkook\"]\n",
        "for i in t:\n",
        "    print(i)\n"
      ],
      "metadata": {
        "colab": {
          "base_uri": "https://localhost:8080/"
        },
        "id": "56GVbFwgG1fG",
        "outputId": "605baf86-46f0-4ded-d1f7-454170ca46b4"
      },
      "execution_count": null,
      "outputs": [
        {
          "output_type": "stream",
          "name": "stdout",
          "text": [
            "/nTuple Iteration\n",
            "jungkook\n",
            "for\n",
            "jungkook\n"
          ]
        }
      ]
    },
    {
      "cell_type": "code",
      "source": [
        "print(\"/nstring Iteration\")\n",
        "s = \"jungkook\"\n",
        "for i in s:\n",
        "    print(i)\n"
      ],
      "metadata": {
        "colab": {
          "base_uri": "https://localhost:8080/"
        },
        "id": "dgo2nsWzHSyB",
        "outputId": "ad2d8b03-d607-45b8-b2ac-e43ff24277d2"
      },
      "execution_count": null,
      "outputs": [
        {
          "output_type": "stream",
          "name": "stdout",
          "text": [
            "/nstring Iteration\n",
            "j\n",
            "u\n",
            "n\n",
            "g\n",
            "k\n",
            "o\n",
            "o\n",
            "k\n"
          ]
        }
      ]
    },
    {
      "cell_type": "code",
      "source": [
        "print(\"\\nstring Iteration\")\n",
        "d = dict()\n",
        "d['xyz'] = 123\n",
        "d['abc'] = 456\n",
        "for i in d:\n",
        "    print(\"%s %d\" %(i,d[i]))\n"
      ],
      "metadata": {
        "colab": {
          "base_uri": "https://localhost:8080/"
        },
        "id": "H85nIn4BG8DM",
        "outputId": "2f7acce4-a571-44c0-de5e-c560ffc17c9c"
      },
      "execution_count": null,
      "outputs": [
        {
          "output_type": "stream",
          "name": "stdout",
          "text": [
            "\n",
            "string Iteration\n",
            "xyz 123\n",
            "abc 456\n"
          ]
        }
      ]
    },
    {
      "cell_type": "code",
      "source": [
        "list = [\"jungkook\", \"for\", \"jungkook\"]\n",
        "for index in range(len(list)):\n",
        "    print (list[index])\n"
      ],
      "metadata": {
        "colab": {
          "base_uri": "https://localhost:8080/"
        },
        "id": "mMSfsg6nOBDh",
        "outputId": "9a9a22dc-a632-4cc7-e888-84cbf991e969"
      },
      "execution_count": null,
      "outputs": [
        {
          "output_type": "stream",
          "name": "stdout",
          "text": [
            "jungkook\n",
            "for\n",
            "jungkook\n"
          ]
        }
      ]
    },
    {
      "cell_type": "code",
      "source": [
        "list = [\"jungkook\", \"for\", \"jungkook\"]\n",
        "for index in range(len(list)):\n",
        "    print (list[index])\n",
        "else:\n",
        "    print (\"Inside Else Block\")"
      ],
      "metadata": {
        "colab": {
          "base_uri": "https://localhost:8080/"
        },
        "id": "BEwuzEY6OXuB",
        "outputId": "dab84854-8c34-49b1-dece-e7571e7eb4c2"
      },
      "execution_count": null,
      "outputs": [
        {
          "output_type": "stream",
          "name": "stdout",
          "text": [
            "jungkook\n",
            "for\n",
            "jungkook\n",
            "Inside Else Block\n"
          ]
        }
      ]
    },
    {
      "cell_type": "code",
      "source": [
        "for i in range(1, 5):\n",
        "    for j in range(i):\n",
        "         print(i, end=' ')\n",
        "    print()\n"
      ],
      "metadata": {
        "colab": {
          "base_uri": "https://localhost:8080/"
        },
        "id": "OJyjypCPJPM_",
        "outputId": "584330f3-7e09-470a-8012-28cb1301140c"
      },
      "execution_count": null,
      "outputs": [
        {
          "output_type": "stream",
          "name": "stdout",
          "text": [
            "1 \n",
            "2 2 \n",
            "3 3 3 \n",
            "4 4 4 4 \n"
          ]
        }
      ]
    },
    {
      "cell_type": "code",
      "source": [
        "for letter in 'jungkookforjungkook': \n",
        "    if letter == 'e' or letter == 's':\n",
        "         continue\n",
        "    print ('Current Letter :', letter)\n",
        "    var = 10\n"
      ],
      "metadata": {
        "colab": {
          "base_uri": "https://localhost:8080/"
        },
        "id": "R5V-LM3IJeCt",
        "outputId": "54360b74-896c-469b-e7d9-7583a4ed29fe"
      },
      "execution_count": null,
      "outputs": [
        {
          "output_type": "stream",
          "name": "stdout",
          "text": [
            "Current Letter : j\n",
            "Current Letter : u\n",
            "Current Letter : n\n",
            "Current Letter : g\n",
            "Current Letter : k\n",
            "Current Letter : o\n",
            "Current Letter : o\n",
            "Current Letter : k\n",
            "Current Letter : f\n",
            "Current Letter : o\n",
            "Current Letter : r\n",
            "Current Letter : j\n",
            "Current Letter : u\n",
            "Current Letter : n\n",
            "Current Letter : g\n",
            "Current Letter : k\n",
            "Current Letter : o\n",
            "Current Letter : o\n",
            "Current Letter : k\n"
          ]
        }
      ]
    },
    {
      "cell_type": "code",
      "source": [
        "for letter in 'jungkookforjungkook': \n",
        "    if letter == 'k' or letter == 'u':\n",
        "         continue\n",
        "    print ('Current Letter :', letter)\n",
        "    var = 9\n"
      ],
      "metadata": {
        "colab": {
          "base_uri": "https://localhost:8080/"
        },
        "id": "4eNOaMQRJ2_M",
        "outputId": "5c821beb-b988-4c79-a4fd-312baefbd904"
      },
      "execution_count": null,
      "outputs": [
        {
          "output_type": "stream",
          "name": "stdout",
          "text": [
            "Current Letter : j\n",
            "Current Letter : n\n",
            "Current Letter : g\n",
            "Current Letter : o\n",
            "Current Letter : o\n",
            "Current Letter : f\n",
            "Current Letter : o\n",
            "Current Letter : r\n",
            "Current Letter : j\n",
            "Current Letter : n\n",
            "Current Letter : g\n",
            "Current Letter : o\n",
            "Current Letter : o\n"
          ]
        }
      ]
    },
    {
      "cell_type": "code",
      "source": [
        "    for letter in 'jungkookforjungkook': \n",
        "         if letter == 'j' or letter == 'u':\n",
        "             break\n",
        "print ('Current Letter :', letter)\n"
      ],
      "metadata": {
        "colab": {
          "base_uri": "https://localhost:8080/"
        },
        "id": "_AYU-_vmKCJq",
        "outputId": "d28198bc-bc90-4ee9-9897-28c56cbb53aa"
      },
      "execution_count": null,
      "outputs": [
        {
          "output_type": "stream",
          "name": "stdout",
          "text": [
            "Current Letter : j\n"
          ]
        }
      ]
    },
    {
      "cell_type": "code",
      "source": [
        "    for letter in 'jungkookforjungkook': \n",
        "         if letter == 'n' or letter == 'o':\n",
        "             break\n",
        "print ('Current Letter :', letter)\n"
      ],
      "metadata": {
        "colab": {
          "base_uri": "https://localhost:8080/"
        },
        "id": "L2ovhHYzLKy5",
        "outputId": "2724dfcc-c7cd-4f8e-8374-ad32ad2b3a59"
      },
      "execution_count": null,
      "outputs": [
        {
          "output_type": "stream",
          "name": "stdout",
          "text": [
            "Current Letter : n\n"
          ]
        }
      ]
    },
    {
      "cell_type": "code",
      "source": [
        "for letter in 'jungkookforjungkook':\n",
        "    pass\n",
        "print ('Last Letter :', letter)\n"
      ],
      "metadata": {
        "colab": {
          "base_uri": "https://localhost:8080/"
        },
        "id": "UkmK43zoLn3K",
        "outputId": "6d5a9e54-d57d-48b2-86c7-b7202d017d8f"
      },
      "execution_count": null,
      "outputs": [
        {
          "output_type": "stream",
          "name": "stdout",
          "text": [
            "Last Letter : k\n"
          ]
        }
      ]
    },
    {
      "cell_type": "code",
      "source": [
        "for letter in 'jungkookforjungkoo':\n",
        "    pass\n",
        "print ('Last Letter :', letter)\n"
      ],
      "metadata": {
        "colab": {
          "base_uri": "https://localhost:8080/"
        },
        "id": "HyRukL2kMB9X",
        "outputId": "5f875e6e-88d4-4fbe-e69e-f2558bb6c81b"
      },
      "execution_count": null,
      "outputs": [
        {
          "output_type": "stream",
          "name": "stdout",
          "text": [
            "Last Letter : o\n"
          ]
        }
      ]
    },
    {
      "cell_type": "code",
      "source": [
        "fruits = [\"apple\", \"orange\", \"kiwi\"]\n",
        "for fruit in fruits:\n",
        " print(fruit)"
      ],
      "metadata": {
        "colab": {
          "base_uri": "https://localhost:8080/"
        },
        "id": "BweUoc7RPl2L",
        "outputId": "22614ce0-3755-45df-f530-b4d746c98834"
      },
      "execution_count": null,
      "outputs": [
        {
          "output_type": "stream",
          "name": "stdout",
          "text": [
            "apple\n",
            "orange\n",
            "kiwi\n"
          ]
        }
      ]
    },
    {
      "cell_type": "code",
      "source": [
        "fruits = [\"apple\", \"orange\", \"kiwi\"]\n",
        "iter_obj = iter(fruits)\n",
        "while True:\n",
        "  try:\n",
        "      fruit = next(iter_obj)\n",
        "      print(fruit)\n",
        "  except StopIteration:\n",
        "       break"
      ],
      "metadata": {
        "colab": {
          "base_uri": "https://localhost:8080/"
        },
        "id": "z5ShbN1zP-cv",
        "outputId": "1c662ffa-0cb0-4338-d8b9-0e4df61f2f4d"
      },
      "execution_count": null,
      "outputs": [
        {
          "output_type": "stream",
          "name": "stdout",
          "text": [
            "apple\n",
            "orange\n",
            "kiwi\n"
          ]
        }
      ]
    }
  ]
}