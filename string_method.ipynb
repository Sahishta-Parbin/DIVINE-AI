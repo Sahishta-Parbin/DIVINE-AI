{
  "nbformat": 4,
  "nbformat_minor": 0,
  "metadata": {
    "colab": {
      "name": "string method.ipynb",
      "provenance": [],
      "authorship_tag": "ABX9TyMmWKcqJr2UYIRr0xMgsOhF",
      "include_colab_link": true
    },
    "kernelspec": {
      "name": "python3",
      "display_name": "Python 3"
    },
    "language_info": {
      "name": "python"
    }
  },
  "cells": [
    {
      "cell_type": "markdown",
      "metadata": {
        "id": "view-in-github",
        "colab_type": "text"
      },
      "source": [
        "<a href=\"https://colab.research.google.com/github/Sahishta-Parbin/DIVINE-AI/blob/main/string_method.ipynb\" target=\"_parent\"><img src=\"https://colab.research.google.com/assets/colab-badge.svg\" alt=\"Open In Colab\"/></a>"
      ]
    },
    {
      "cell_type": "code",
      "execution_count": 3,
      "metadata": {
        "colab": {
          "base_uri": "https://localhost:8080/",
          "height": 130
        },
        "id": "0AiQ8480jlcL",
        "outputId": "e4847974-3794-4b28-e3e2-e6fd2a08db90"
      },
      "outputs": [
        {
          "output_type": "error",
          "ename": "SyntaxError",
          "evalue": "ignored",
          "traceback": [
            "\u001b[0;36m  File \u001b[0;32m\"<ipython-input-3-d393f7db77f1>\"\u001b[0;36m, line \u001b[0;32m1\u001b[0m\n\u001b[0;31m    print(\"The mangy, scrawny stray dog %s gobbled down\" + \"the grain-free, organic dog food.\" %'hurriedly\")\u001b[0m\n\u001b[0m                                                                                                            ^\u001b[0m\n\u001b[0;31mSyntaxError\u001b[0m\u001b[0;31m:\u001b[0m EOL while scanning string literal\n"
          ]
        }
      ],
      "source": [
        "print(\"The mangy, scrawny stray dog %s gobbled down\" + \"the grain-free, organic dog food.\" %'hurriedly\")\n"
      ]
    },
    {
      "cell_type": "code",
      "source": [
        "x = 'looked'\n",
        "print(\"Misha %s and %s around\"%('walked',x))\n"
      ],
      "metadata": {
        "colab": {
          "base_uri": "https://localhost:8080/"
        },
        "id": "8T_vcotrk7VH",
        "outputId": "ddc4a59d-7767-458e-bf7b-427effe24eba"
      },
      "execution_count": 4,
      "outputs": [
        {
          "output_type": "stream",
          "name": "stdout",
          "text": [
            "Misha walked and looked around\n"
          ]
        }
      ]
    },
    {
      "cell_type": "code",
      "source": [
        "print('Joe stood up and %s to the crowd.' %'spoke')\n",
        "print('There are %d dogs.' %4)\n"
      ],
      "metadata": {
        "colab": {
          "base_uri": "https://localhost:8080/"
        },
        "id": "JDlsNYkrlEES",
        "outputId": "7bae3b11-7e7f-44f3-c58a-d29f147e50f2"
      },
      "execution_count": 5,
      "outputs": [
        {
          "output_type": "stream",
          "name": "stdout",
          "text": [
            "Joe stood up and spoke to the crowd.\n",
            "There are 4 dogs.\n"
          ]
        }
      ]
    },
    {
      "cell_type": "code",
      "source": [
        "print('The value of pi is: %5.4f' %(3.141592))\n"
      ],
      "metadata": {
        "colab": {
          "base_uri": "https://localhost:8080/"
        },
        "id": "_ym3UyNFlMyG",
        "outputId": "bb8bce09-09af-4629-f40a-a6b915009860"
      },
      "execution_count": 6,
      "outputs": [
        {
          "output_type": "stream",
          "name": "stdout",
          "text": [
            "The value of pi is: 3.1416\n"
          ]
        }
      ]
    },
    {
      "cell_type": "code",
      "source": [
        "print('Floating point numbers: %1.0f' %(13.144))\n"
      ],
      "metadata": {
        "colab": {
          "base_uri": "https://localhost:8080/"
        },
        "id": "O2kdO9R8lVSV",
        "outputId": "b47b1a65-dd75-4e6c-a709-3af70b47d9bc"
      },
      "execution_count": 7,
      "outputs": [
        {
          "output_type": "stream",
          "name": "stdout",
          "text": [
            "Floating point numbers: 13\n"
          ]
        }
      ]
    },
    {
      "cell_type": "code",
      "source": [
        "variable = 12\n",
        "string = \"Variable as integer = %d \\n\\\n",
        "Variable as float = %f\" %(variable, variable)\n",
        "print(string)\n"
      ],
      "metadata": {
        "colab": {
          "base_uri": "https://localhost:8080/"
        },
        "id": "GrhTn-WNm24_",
        "outputId": "8f5a22a0-856a-4308-fa69-cba31248d078"
      },
      "execution_count": 9,
      "outputs": [
        {
          "output_type": "stream",
          "name": "stdout",
          "text": [
            "Variable as integer = 12 \n",
            "Variable as float = 12.000000\n"
          ]
        }
      ]
    },
    {
      "cell_type": "code",
      "source": [
        "print('We all are {}.'.format('equal'))\n"
      ],
      "metadata": {
        "colab": {
          "base_uri": "https://localhost:8080/"
        },
        "id": "NBTnSQmNqR1h",
        "outputId": "c407c363-3634-49fa-f7ee-2102d12cf9bf"
      },
      "execution_count": 10,
      "outputs": [
        {
          "output_type": "stream",
          "name": "stdout",
          "text": [
            "We all are equal.\n"
          ]
        }
      ]
    },
    {
      "cell_type": "code",
      "source": [
        "print('{2} {1} {0}'.format('directions','the', 'Read'))\n",
        "\n"
      ],
      "metadata": {
        "colab": {
          "base_uri": "https://localhost:8080/"
        },
        "id": "uIyJ8OWQqZ4g",
        "outputId": "a3f9b019-3719-4c57-87d3-62474a36a8f6"
      },
      "execution_count": 11,
      "outputs": [
        {
          "output_type": "stream",
          "name": "stdout",
          "text": [
            "Read the directions\n"
          ]
        }
      ]
    },
    {
      "cell_type": "code",
      "source": [
        "print('a: {a}, b: {b}, c: {c}'.format(a = 1,b = 'Two',c=12.3))\n",
        "\n",
        "\n"
      ],
      "metadata": {
        "colab": {
          "base_uri": "https://localhost:8080/"
        },
        "id": "-0PEjGVBsMld",
        "outputId": "44668444-162e-4e0e-d3d8-4de213210850"
      },
      "execution_count": 12,
      "outputs": [
        {
          "output_type": "stream",
          "name": "stdout",
          "text": [
            "a: 1, b: Two, c: 12.3\n"
          ]
        }
      ]
    },
    {
      "cell_type": "code",
      "source": [
        "print('The first {p} was alright, but the {p} {p} was tough.'.format(p = 'second'))\n"
      ],
      "metadata": {
        "colab": {
          "base_uri": "https://localhost:8080/"
        },
        "id": "qGGU8I-ps1iI",
        "outputId": "37fc844e-3398-4d57-d0d8-0f6fea32fe34"
      },
      "execution_count": 13,
      "outputs": [
        {
          "output_type": "stream",
          "name": "stdout",
          "text": [
            "The first second was alright, but the second second was tough.\n"
          ]
        }
      ]
    }
  ]
}