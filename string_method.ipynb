{
  "nbformat": 4,
  "nbformat_minor": 0,
  "metadata": {
    "colab": {
      "name": "string method.ipynb",
      "provenance": [],
      "authorship_tag": "ABX9TyNIV1uWk5990zPZ7HffJ02G",
      "include_colab_link": true
    },
    "kernelspec": {
      "name": "python3",
      "display_name": "Python 3"
    },
    "language_info": {
      "name": "python"
    }
  },
  "cells": [
    {
      "cell_type": "markdown",
      "metadata": {
        "id": "view-in-github",
        "colab_type": "text"
      },
      "source": [
        "<a href=\"https://colab.research.google.com/github/Sahishta-Parbin/DIVINE-AI/blob/main/string_method.ipynb\" target=\"_parent\"><img src=\"https://colab.research.google.com/assets/colab-badge.svg\" alt=\"Open In Colab\"/></a>"
      ]
    },
    {
      "cell_type": "code",
      "source": [
        "x = 'looked'\n",
        "print(\"Misha %s and %s around\"%('walked',x))\n"
      ],
      "metadata": {
        "colab": {
          "base_uri": "https://localhost:8080/"
        },
        "id": "8T_vcotrk7VH",
        "outputId": "ddc4a59d-7767-458e-bf7b-427effe24eba"
      },
      "execution_count": null,
      "outputs": [
        {
          "output_type": "stream",
          "name": "stdout",
          "text": [
            "Misha walked and looked around\n"
          ]
        }
      ]
    },
    {
      "cell_type": "code",
      "source": [
        "x = 'bts'\n",
        "print(\"jungkook %s %s member\"%('is',x))\n"
      ],
      "metadata": {
        "id": "JhGaBFTMbHAJ",
        "outputId": "53143424-b062-4b78-ce8f-a996fdaff978",
        "colab": {
          "base_uri": "https://localhost:8080/"
        }
      },
      "execution_count": 28,
      "outputs": [
        {
          "output_type": "stream",
          "name": "stdout",
          "text": [
            "jungkook is bts member\n"
          ]
        }
      ]
    },
    {
      "cell_type": "code",
      "source": [
        "print('Joe stood up and %s to the crowd.' %'spoke')\n",
        "print('There are %d dogs.' %4)\n"
      ],
      "metadata": {
        "colab": {
          "base_uri": "https://localhost:8080/"
        },
        "id": "JDlsNYkrlEES",
        "outputId": "7bae3b11-7e7f-44f3-c58a-d29f147e50f2"
      },
      "execution_count": null,
      "outputs": [
        {
          "output_type": "stream",
          "name": "stdout",
          "text": [
            "Joe stood up and spoke to the crowd.\n",
            "There are 4 dogs.\n"
          ]
        }
      ]
    },
    {
      "cell_type": "code",
      "source": [
        "print('The value of pi is: %5.4f' %(3.141592))\n"
      ],
      "metadata": {
        "colab": {
          "base_uri": "https://localhost:8080/"
        },
        "id": "_ym3UyNFlMyG",
        "outputId": "bb8bce09-09af-4629-f40a-a6b915009860"
      },
      "execution_count": null,
      "outputs": [
        {
          "output_type": "stream",
          "name": "stdout",
          "text": [
            "The value of pi is: 3.1416\n"
          ]
        }
      ]
    },
    {
      "cell_type": "code",
      "source": [
        "print('Floating point numbers: %1.0f' %(13.144))\n"
      ],
      "metadata": {
        "colab": {
          "base_uri": "https://localhost:8080/"
        },
        "id": "O2kdO9R8lVSV",
        "outputId": "b47b1a65-dd75-4e6c-a709-3af70b47d9bc"
      },
      "execution_count": null,
      "outputs": [
        {
          "output_type": "stream",
          "name": "stdout",
          "text": [
            "Floating point numbers: 13\n"
          ]
        }
      ]
    },
    {
      "cell_type": "code",
      "source": [
        "variable = 12\n",
        "string = \"Variable as integer = %d \\n\\\n",
        "Variable as float = %f\" %(variable, variable)\n",
        "print(string)\n"
      ],
      "metadata": {
        "colab": {
          "base_uri": "https://localhost:8080/"
        },
        "id": "GrhTn-WNm24_",
        "outputId": "8f5a22a0-856a-4308-fa69-cba31248d078"
      },
      "execution_count": null,
      "outputs": [
        {
          "output_type": "stream",
          "name": "stdout",
          "text": [
            "Variable as integer = 12 \n",
            "Variable as float = 12.000000\n"
          ]
        }
      ]
    },
    {
      "cell_type": "code",
      "source": [
        "print('We all are {}.'.format('equal'))\n"
      ],
      "metadata": {
        "colab": {
          "base_uri": "https://localhost:8080/"
        },
        "id": "NBTnSQmNqR1h",
        "outputId": "c407c363-3634-49fa-f7ee-2102d12cf9bf"
      },
      "execution_count": null,
      "outputs": [
        {
          "output_type": "stream",
          "name": "stdout",
          "text": [
            "We all are equal.\n"
          ]
        }
      ]
    },
    {
      "cell_type": "code",
      "source": [
        "print('{2} {1} {0}'.format('directions','the', 'Read'))\n",
        "\n"
      ],
      "metadata": {
        "colab": {
          "base_uri": "https://localhost:8080/"
        },
        "id": "uIyJ8OWQqZ4g",
        "outputId": "a3f9b019-3719-4c57-87d3-62474a36a8f6"
      },
      "execution_count": null,
      "outputs": [
        {
          "output_type": "stream",
          "name": "stdout",
          "text": [
            "Read the directions\n"
          ]
        }
      ]
    },
    {
      "cell_type": "code",
      "source": [
        "print('a: {a}, b: {b}, c: {c}'.format(a = 1,b = 'Two',c=12.3))\n",
        "\n",
        "\n"
      ],
      "metadata": {
        "colab": {
          "base_uri": "https://localhost:8080/"
        },
        "id": "-0PEjGVBsMld",
        "outputId": "44668444-162e-4e0e-d3d8-4de213210850"
      },
      "execution_count": null,
      "outputs": [
        {
          "output_type": "stream",
          "name": "stdout",
          "text": [
            "a: 1, b: Two, c: 12.3\n"
          ]
        }
      ]
    },
    {
      "cell_type": "code",
      "source": [
        "print('The first {p} was alright, but the {p} {p} was tough.'.format(p = 'second'))\n"
      ],
      "metadata": {
        "colab": {
          "base_uri": "https://localhost:8080/"
        },
        "id": "qGGU8I-ps1iI",
        "outputId": "37fc844e-3398-4d57-d0d8-0f6fea32fe34"
      },
      "execution_count": null,
      "outputs": [
        {
          "output_type": "stream",
          "name": "stdout",
          "text": [
            "The first second was alright, but the second second was tough.\n"
          ]
        }
      ]
    },
    {
      "cell_type": "code",
      "source": [
        "print('The valueof pi is: %1.5f' %3.141592)\n",
        "print('The valueof pi is: {0:1.5f}'.format(3.141592))\n"
      ],
      "metadata": {
        "id": "bVIhbgHnXTlo",
        "outputId": "6dc9dc97-f94a-4f01-a537-73cc9291db83",
        "colab": {
          "base_uri": "https://localhost:8080/"
        }
      },
      "execution_count": 1,
      "outputs": [
        {
          "output_type": "stream",
          "name": "stdout",
          "text": [
            "The valueof pi is: 3.14159\n",
            "The valueof pi is: 3.14159\n"
          ]
        }
      ]
    },
    {
      "cell_type": "code",
      "source": [
        "print('The valueof pi is: %1.5f' %3.1)\n",
        "print('The valueof pi is: {0:1.5f}'.format(3.1))\n"
      ],
      "metadata": {
        "id": "Vnnkg5YOZ3-Y",
        "outputId": "6e2ebd6a-e32e-4813-c2eb-74360ea37619",
        "colab": {
          "base_uri": "https://localhost:8080/"
        }
      },
      "execution_count": 16,
      "outputs": [
        {
          "output_type": "stream",
          "name": "stdout",
          "text": [
            "The valueof pi is: 3.10000\n",
            "The valueof pi is: 3.10000\n"
          ]
        }
      ]
    },
    {
      "cell_type": "code",
      "source": [
        "name = 'Ele'\n",
        "print(f\"My name is {name}.\")\n"
      ],
      "metadata": {
        "id": "GFyr8y86Xgif",
        "outputId": "49a2540f-53e0-4cc3-b777-5713ec573f8d",
        "colab": {
          "base_uri": "https://localhost:8080/"
        }
      },
      "execution_count": 2,
      "outputs": [
        {
          "output_type": "stream",
          "name": "stdout",
          "text": [
            "My name is Ele.\n"
          ]
        }
      ]
    },
    {
      "cell_type": "code",
      "source": [
        "a = 5\n",
        "b = 10\n",
        "print(f\"He said his age is {2 * (a + b)}.\")\n"
      ],
      "metadata": {
        "id": "uuoLV1QrXo1g",
        "outputId": "2a277b0f-a1c4-401f-ee6e-dd8117732ec6",
        "colab": {
          "base_uri": "https://localhost:8080/"
        }
      },
      "execution_count": 3,
      "outputs": [
        {
          "output_type": "stream",
          "name": "stdout",
          "text": [
            "He said his age is 30.\n"
          ]
        }
      ]
    },
    {
      "cell_type": "code",
      "source": [
        "a = 5\n",
        "b = 10\n",
        "print(f\"He said his age is {2 * (a - b)}.\")\n"
      ],
      "metadata": {
        "id": "S_cz1D2DaGh8",
        "outputId": "9f7d3e9f-dfed-404f-f204-801207594015",
        "colab": {
          "base_uri": "https://localhost:8080/"
        }
      },
      "execution_count": 17,
      "outputs": [
        {
          "output_type": "stream",
          "name": "stdout",
          "text": [
            "He said his age is -10.\n"
          ]
        }
      ]
    },
    {
      "cell_type": "code",
      "source": [
        "a = 5\n",
        "b = 10\n",
        "print(f\"He said his age is {2 + (a - b)}.\")\n"
      ],
      "metadata": {
        "id": "fb3Pvm7xaMV3",
        "outputId": "d03f37a0-b64f-4c5b-e9e1-a9d3725e5a9f",
        "colab": {
          "base_uri": "https://localhost:8080/"
        }
      },
      "execution_count": 18,
      "outputs": [
        {
          "output_type": "stream",
          "name": "stdout",
          "text": [
            "He said his age is -3.\n"
          ]
        }
      ]
    },
    {
      "cell_type": "code",
      "source": [
        "a = 5\n",
        "b = 10\n",
        "print(f\"He said his age is {2 / (a - b)}.\")\n"
      ],
      "metadata": {
        "id": "PWWeBAm_anFw",
        "outputId": "c124a283-15b8-406a-d7bd-662da77bf9eb",
        "colab": {
          "base_uri": "https://localhost:8080/"
        }
      },
      "execution_count": 20,
      "outputs": [
        {
          "output_type": "stream",
          "name": "stdout",
          "text": [
            "He said his age is -0.4.\n"
          ]
        }
      ]
    },
    {
      "cell_type": "code",
      "source": [
        "a = 5\n",
        "b = 10\n",
        "print(f\"He said his age is {2 / (a + b)}.\")\n"
      ],
      "metadata": {
        "id": "dP4sHDdkat11",
        "outputId": "0c41f991-c6b6-4e5a-a2a9-d19dd6745877",
        "colab": {
          "base_uri": "https://localhost:8080/"
        }
      },
      "execution_count": 21,
      "outputs": [
        {
          "output_type": "stream",
          "name": "stdout",
          "text": [
            "He said his age is 0.13333333333333333.\n"
          ]
        }
      ]
    },
    {
      "cell_type": "code",
      "source": [
        "a = 5\n",
        "b = 10\n",
        "print(f\"He said his age is {2 / (a / b)}.\")\n"
      ],
      "metadata": {
        "id": "4BolHP_raycE",
        "outputId": "994138f2-c1f8-42df-e459-e26ed5dc0003",
        "colab": {
          "base_uri": "https://localhost:8080/"
        }
      },
      "execution_count": 22,
      "outputs": [
        {
          "output_type": "stream",
          "name": "stdout",
          "text": [
            "He said his age is 4.0.\n"
          ]
        }
      ]
    },
    {
      "cell_type": "code",
      "source": [
        "a = 5\n",
        "b = 10\n",
        "print(f\"He said his age is {2 * (a * b)}.\")\n"
      ],
      "metadata": {
        "id": "Q-R9P5mTa2OG",
        "outputId": "996fb8f8-aabf-4683-9650-63bac011d428",
        "colab": {
          "base_uri": "https://localhost:8080/"
        }
      },
      "execution_count": 23,
      "outputs": [
        {
          "output_type": "stream",
          "name": "stdout",
          "text": [
            "He said his age is 100.\n"
          ]
        }
      ]
    },
    {
      "cell_type": "code",
      "source": [
        ""
      ],
      "metadata": {
        "id": "K1afhKqqa-YZ"
      },
      "execution_count": null,
      "outputs": []
    },
    {
      "cell_type": "code",
      "source": [
        "a = 5\n",
        "b = 10\n",
        "print(f\"He said his age is {2 - (a + b)}.\")\n"
      ],
      "metadata": {
        "id": "oTwo3aPlaQw3",
        "outputId": "626a81c5-bd85-4cfa-e088-fd9cd1a8d274",
        "colab": {
          "base_uri": "https://localhost:8080/"
        }
      },
      "execution_count": 19,
      "outputs": [
        {
          "output_type": "stream",
          "name": "stdout",
          "text": [
            "He said his age is -13.\n"
          ]
        }
      ]
    },
    {
      "cell_type": "code",
      "source": [
        "print(f\"He said his age is {(lambda x: x*2)(3)}\")\n"
      ],
      "metadata": {
        "id": "zoUeEbf3X09R",
        "outputId": "2fca768d-f59c-46ee-f2bf-b0874002f625",
        "colab": {
          "base_uri": "https://localhost:8080/"
        }
      },
      "execution_count": 4,
      "outputs": [
        {
          "output_type": "stream",
          "name": "stdout",
          "text": [
            "He said his age is 6\n"
          ]
        }
      ]
    },
    {
      "cell_type": "code",
      "source": [
        "print(f\"He said his age is {(lambda x: x+2)(3)}\")\n"
      ],
      "metadata": {
        "id": "Mw29ps-DZdTQ",
        "outputId": "3cf19358-f4ee-41cd-d486-b4ccb047d61c",
        "colab": {
          "base_uri": "https://localhost:8080/"
        }
      },
      "execution_count": 10,
      "outputs": [
        {
          "output_type": "stream",
          "name": "stdout",
          "text": [
            "He said his age is 5\n"
          ]
        }
      ]
    },
    {
      "cell_type": "code",
      "source": [
        "print(f\"He said his age is {(lambda x: x-2)(3)}\")\n"
      ],
      "metadata": {
        "id": "FGgw_BOoZjIo",
        "outputId": "efbf01a6-2dab-4cdc-8ca2-7a8e76a87685",
        "colab": {
          "base_uri": "https://localhost:8080/"
        }
      },
      "execution_count": 11,
      "outputs": [
        {
          "output_type": "stream",
          "name": "stdout",
          "text": [
            "He said his age is 1\n"
          ]
        }
      ]
    },
    {
      "cell_type": "code",
      "source": [
        "print(f\"He said his age is {(lambda x: x/2)(3)}\")\n"
      ],
      "metadata": {
        "id": "twKEY8a1ZoeU",
        "outputId": "dbaff33a-31b0-44a2-99e6-59e994944880",
        "colab": {
          "base_uri": "https://localhost:8080/"
        }
      },
      "execution_count": 13,
      "outputs": [
        {
          "output_type": "stream",
          "name": "stdout",
          "text": [
            "He said his age is 1.5\n"
          ]
        }
      ]
    },
    {
      "cell_type": "code",
      "source": [
        "num = 3.14159\n",
        "print(f\"The valueof pi is: {num:{1}.{5}}\")\n"
      ],
      "metadata": {
        "id": "RwoQ0bG-X52f",
        "outputId": "2d508fde-ef68-47d1-ca83-3e4e0e544b35",
        "colab": {
          "base_uri": "https://localhost:8080/"
        }
      },
      "execution_count": 5,
      "outputs": [
        {
          "output_type": "stream",
          "name": "stdout",
          "text": [
            "The valueof pi is: 3.1416\n"
          ]
        }
      ]
    },
    {
      "cell_type": "code",
      "source": [
        "num = 3.14159\n",
        "print(f\"The valueof pi is: {num:{2}.{6}}\")\n"
      ],
      "metadata": {
        "id": "Mr48ZhynZGkO",
        "outputId": "b5c8ca50-7217-4996-b5b7-1406c8f27290",
        "colab": {
          "base_uri": "https://localhost:8080/"
        }
      },
      "execution_count": 9,
      "outputs": [
        {
          "output_type": "stream",
          "name": "stdout",
          "text": [
            "The valueof pi is: 3.14159\n"
          ]
        }
      ]
    },
    {
      "cell_type": "code",
      "source": [
        ""
      ],
      "metadata": {
        "id": "hZR2rw2PZaHf"
      },
      "execution_count": null,
      "outputs": []
    }
  ]
}