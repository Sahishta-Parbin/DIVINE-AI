{
  "nbformat": 4,
  "nbformat_minor": 0,
  "metadata": {
    "colab": {
      "name": "IF_Program.ipynb",
      "provenance": [],
      "authorship_tag": "ABX9TyOpW2cAIHhYuP/jDudcMAy4",
      "include_colab_link": true
    },
    "kernelspec": {
      "name": "python3",
      "display_name": "Python 3"
    },
    "language_info": {
      "name": "python"
    }
  },
  "cells": [
    {
      "cell_type": "markdown",
      "metadata": {
        "id": "view-in-github",
        "colab_type": "text"
      },
      "source": [
        "<a href=\"https://colab.research.google.com/github/Sahishta-Parbin/DIVINE-AI/blob/main/IF_Program.ipynb\" target=\"_parent\"><img src=\"https://colab.research.google.com/assets/colab-badge.svg\" alt=\"Open In Colab\"/></a>"
      ]
    },
    {
      "cell_type": "code",
      "execution_count": 2,
      "metadata": {
        "colab": {
          "base_uri": "https://localhost:8080/"
        },
        "id": "V4fKRpoa98Hh",
        "outputId": "f6db9337-a11f-4c33-88b0-3474c6d37e14"
      },
      "outputs": [
        {
          "output_type": "stream",
          "name": "stdout",
          "text": [
            "jungkook\n"
          ]
        }
      ],
      "source": [
        "def check():\n",
        "    return \"jungkook\"\n",
        "print (1 and check())\n"
      ]
    },
    {
      "cell_type": "code",
      "source": [
        "print (1 or check())\n"
      ],
      "metadata": {
        "colab": {
          "base_uri": "https://localhost:8080/"
        },
        "id": "AyiMEhBC-WoK",
        "outputId": "02971449-0ad9-49d4-f499-4306417db5da"
      },
      "execution_count": 3,
      "outputs": [
        {
          "output_type": "stream",
          "name": "stdout",
          "text": [
            "1\n"
          ]
        }
      ]
    },
    {
      "cell_type": "code",
      "source": [
        "print (0 or check() or 1)\n"
      ],
      "metadata": {
        "colab": {
          "base_uri": "https://localhost:8080/"
        },
        "id": "eSMLYh00-bLs",
        "outputId": "89fcacb6-f28b-4ab9-ded6-c6d1a224dc04"
      },
      "execution_count": 4,
      "outputs": [
        {
          "output_type": "stream",
          "name": "stdout",
          "text": [
            "jungkook\n"
          ]
        }
      ]
    },
    {
      "cell_type": "code",
      "source": [
        "print (0 or check() and 1)\n"
      ],
      "metadata": {
        "colab": {
          "base_uri": "https://localhost:8080/"
        },
        "id": "p1sZNRa9-ehQ",
        "outputId": "9767604c-6329-45aa-dd93-eda933a84261"
      },
      "execution_count": 5,
      "outputs": [
        {
          "output_type": "stream",
          "name": "stdout",
          "text": [
            "1\n"
          ]
        }
      ]
    },
    {
      "cell_type": "code",
      "source": [
        "def check(i):\n",
        "    print (\"jungkook\")\n",
        "    return i\n",
        "print (all(check(i) for i in [1, 1, 0, 0, 3]))\n",
        "print(\"\\r\")\n"
      ],
      "metadata": {
        "colab": {
          "base_uri": "https://localhost:8080/"
        },
        "id": "zJ6QKJaq-gD9",
        "outputId": "0b174bd3-6f50-40e1-a6ea-15ca6f0a88dd"
      },
      "execution_count": 7,
      "outputs": [
        {
          "output_type": "stream",
          "name": "stdout",
          "text": [
            "jungkook\n",
            "jungkook\n",
            "jungkook\n",
            "False\n",
            "\r\n"
          ]
        }
      ]
    },
    {
      "cell_type": "code",
      "source": [
        "def check(i):\n",
        "    print (\"jungkook\")\n",
        "    return i\n",
        "print (all(check(i) for i in [1, 2, 2, 2, 4]))\n",
        "print(\"\\r\")\n"
      ],
      "metadata": {
        "colab": {
          "base_uri": "https://localhost:8080/"
        },
        "id": "8rAmaikU-06r",
        "outputId": "039cb6d4-dd31-4398-c9f5-d3aaad3e9df9"
      },
      "execution_count": 10,
      "outputs": [
        {
          "output_type": "stream",
          "name": "stdout",
          "text": [
            "jungkook\n",
            "jungkook\n",
            "jungkook\n",
            "jungkook\n",
            "jungkook\n",
            "True\n",
            "\r\n"
          ]
        }
      ]
    },
    {
      "cell_type": "code",
      "source": [
        "print (any(check(i) for i in [0, 0, 0, 1, 3]))\n"
      ],
      "metadata": {
        "colab": {
          "base_uri": "https://localhost:8080/"
        },
        "id": "0BTgoIeK_IEO",
        "outputId": "0cd2c374-d343-4ca7-cee9-34c898dcca5e"
      },
      "execution_count": 11,
      "outputs": [
        {
          "output_type": "stream",
          "name": "stdout",
          "text": [
            "jungkook\n",
            "jungkook\n",
            "jungkook\n",
            "jungkook\n",
            "True\n"
          ]
        }
      ]
    },
    {
      "cell_type": "code",
      "source": [
        "def check(i):\n",
        "    print (\"jungkook\")\n",
        "    return i\n",
        "print( 10 > 11 > check(3) )\n",
        "print (\"\\r\")\n",
        "\n"
      ],
      "metadata": {
        "colab": {
          "base_uri": "https://localhost:8080/"
        },
        "id": "DkxoINAP_Nss",
        "outputId": "71a12923-c061-4466-9973-cab842badff1"
      },
      "execution_count": 12,
      "outputs": [
        {
          "output_type": "stream",
          "name": "stdout",
          "text": [
            "False\n",
            "\r\n"
          ]
        }
      ]
    },
    {
      "cell_type": "code",
      "source": [
        "print( 10 < 11 > check(3) )\n",
        "print (\"\\r\")\n",
        "\n"
      ],
      "metadata": {
        "colab": {
          "base_uri": "https://localhost:8080/"
        },
        "id": "7IKfqiPx_c8O",
        "outputId": "590d7d3b-ac6b-4b05-a61c-66de3a7d94e6"
      },
      "execution_count": 15,
      "outputs": [
        {
          "output_type": "stream",
          "name": "stdout",
          "text": [
            "jungkook\n",
            "True\n",
            "\r\n"
          ]
        }
      ]
    },
    {
      "cell_type": "code",
      "source": [
        "print( 10 < 11 < check(3) )\n",
        "print (\"\\r\")\n",
        "\n"
      ],
      "metadata": {
        "colab": {
          "base_uri": "https://localhost:8080/"
        },
        "id": "Hh9W-qGM_w3o",
        "outputId": "9ffcff86-0b75-4002-9caa-02662fe8fdcf"
      },
      "execution_count": 16,
      "outputs": [
        {
          "output_type": "stream",
          "name": "stdout",
          "text": [
            "jungkook\n",
            "False\n",
            "\r\n"
          ]
        }
      ]
    },
    {
      "cell_type": "code",
      "source": [
        "x = 5\n",
        "print(1 < x < 10)\n",
        "print(10 < x < 20 )\n",
        "print(x < 10 < x*10 < 100)\n",
        "print(10 > x <= 9)\n",
        "print(5 == x > 4)\n"
      ],
      "metadata": {
        "colab": {
          "base_uri": "https://localhost:8080/"
        },
        "id": "KsEwGpKZ_0gb",
        "outputId": "2a1f7019-8a9d-4ed1-ed4a-1f589847edd5"
      },
      "execution_count": 17,
      "outputs": [
        {
          "output_type": "stream",
          "name": "stdout",
          "text": [
            "True\n",
            "False\n",
            "True\n",
            "True\n",
            "True\n"
          ]
        }
      ]
    },
    {
      "cell_type": "code",
      "source": [
        "x = 7\n",
        "print(1 < x < 10)\n",
        "print(10 < x < 20 )\n",
        "print(x < 10 < x*10 < 100)\n",
        "print(10 > x <= 9)\n",
        "print(5 == x > 4)\n"
      ],
      "metadata": {
        "colab": {
          "base_uri": "https://localhost:8080/"
        },
        "id": "YI9iq-JvAh0j",
        "outputId": "6d2da4a7-4a58-4a25-cc78-c48400674b25"
      },
      "execution_count": 18,
      "outputs": [
        {
          "output_type": "stream",
          "name": "stdout",
          "text": [
            "True\n",
            "False\n",
            "True\n",
            "True\n",
            "False\n"
          ]
        }
      ]
    },
    {
      "cell_type": "code",
      "source": [
        "a, b, c, d, e, f = 0, 5, 12, 0, 15, 15\n",
        "exp1 = a <= b < c > d is not e is f\n",
        "exp2 = a is d > f is not c\n",
        "print(exp1)\n",
        "print(exp2)\n"
      ],
      "metadata": {
        "colab": {
          "base_uri": "https://localhost:8080/"
        },
        "id": "bGZ9Wkb5AwY7",
        "outputId": "d063f195-1d0b-456d-82ab-707fc62dfa14"
      },
      "execution_count": 19,
      "outputs": [
        {
          "output_type": "stream",
          "name": "stdout",
          "text": [
            "True\n",
            "False\n"
          ]
        }
      ]
    },
    {
      "cell_type": "code",
      "source": [
        "high_income = False\n",
        "good_credit = False\n",
        "student = False\n",
        "if good_credit or high_income or student:\n",
        "   print(\"eligible for loan\")\n",
        "else:\n",
        "    print(\"xxyyzz\")"
      ],
      "metadata": {
        "colab": {
          "base_uri": "https://localhost:8080/"
        },
        "id": "XkmKJ9zMA7TB",
        "outputId": "9e1cdabe-733e-43ce-9949-fff7a8078e3b"
      },
      "execution_count": 20,
      "outputs": [
        {
          "output_type": "stream",
          "name": "stdout",
          "text": [
            "xxyyzz\n"
          ]
        }
      ]
    },
    {
      "cell_type": "code",
      "source": [
        "high_income = False\n",
        "good_credit = False\n",
        "student = True\n",
        "if good_credit or high_income and student:\n",
        "   print(\"eligible for loan\")\n",
        "else:\n",
        "    print(\"xxyyzz\")"
      ],
      "metadata": {
        "colab": {
          "base_uri": "https://localhost:8080/"
        },
        "id": "SCKbLTPXC9Qa",
        "outputId": "3920f23c-bb87-4cc9-cb97-d971d794afb8"
      },
      "execution_count": 23,
      "outputs": [
        {
          "output_type": "stream",
          "name": "stdout",
          "text": [
            "xxyyzz\n"
          ]
        }
      ]
    },
    {
      "cell_type": "code",
      "source": [
        "high_income = False\n",
        "good_credit = True\n",
        "student = True\n",
        "if good_credit or high_income and student:\n",
        "   print(\"eligible for loan\")\n",
        "else:\n",
        "    print(\"xxyyzz\")"
      ],
      "metadata": {
        "colab": {
          "base_uri": "https://localhost:8080/"
        },
        "id": "Kk7-nb_fDKCZ",
        "outputId": "3539ed24-de47-4f69-f3aa-58ed9da87e7d"
      },
      "execution_count": 22,
      "outputs": [
        {
          "output_type": "stream",
          "name": "stdout",
          "text": [
            "eligible for loan\n"
          ]
        }
      ]
    },
    {
      "cell_type": "code",
      "source": [
        "high_income = True\n",
        "good_credit = True\n",
        "student = True\n",
        "if good_credit or high_income or student:\n",
        "   print(\"eligible for loan\")\n",
        "else:\n",
        "    print(\"xxyyzz\")"
      ],
      "metadata": {
        "colab": {
          "base_uri": "https://localhost:8080/"
        },
        "id": "Cqo8qFXIDbpT",
        "outputId": "35148e98-570f-4ade-fc21-95f8ad10ab45"
      },
      "execution_count": 25,
      "outputs": [
        {
          "output_type": "stream",
          "name": "stdout",
          "text": [
            "eligible for loan\n"
          ]
        }
      ]
    },
    {
      "cell_type": "code",
      "source": [
        "age = int(input(\"enter a number :\"))\n",
        "if age >=18 and age < 65:\n",
        "   print(\"eligible for loan\")\n",
        "else:\n",
        "   print(\"not eligible\")"
      ],
      "metadata": {
        "colab": {
          "base_uri": "https://localhost:8080/"
        },
        "id": "zz9J_l0cDu9w",
        "outputId": "7177ebe4-8079-4c00-9107-7b61238def5d"
      },
      "execution_count": 26,
      "outputs": [
        {
          "output_type": "stream",
          "name": "stdout",
          "text": [
            "enter a number :7\n",
            "not eligible\n"
          ]
        }
      ]
    },
    {
      "cell_type": "code",
      "source": [
        "age = int(input(\"enter a number :\"))\n",
        "if age >=18 and age > 65:\n",
        "   print(\"eligible for loan\")\n",
        "else:\n",
        "   print(\"not eligible\")"
      ],
      "metadata": {
        "colab": {
          "base_uri": "https://localhost:8080/"
        },
        "id": "L08TcrVeETFe",
        "outputId": "b6fd045b-55e6-4b30-d1a0-3935e39d3443"
      },
      "execution_count": 27,
      "outputs": [
        {
          "output_type": "stream",
          "name": "stdout",
          "text": [
            "enter a number :8\n",
            "not eligible\n"
          ]
        }
      ]
    },
    {
      "cell_type": "code",
      "source": [
        "age = int(input(\"enter a number :\"))\n",
        "if age >=18 and age > 65:\n",
        "   print(\"eligible for loan\")\n",
        "else:\n",
        "   print(\"not eligible\")"
      ],
      "metadata": {
        "colab": {
          "base_uri": "https://localhost:8080/"
        },
        "id": "u-Yx8m-PEf67",
        "outputId": "b4b809d2-2117-46ee-88e9-224e6a24da76"
      },
      "execution_count": 28,
      "outputs": [
        {
          "output_type": "stream",
          "name": "stdout",
          "text": [
            "enter a number :85\n",
            "eligible for loan\n"
          ]
        }
      ]
    },
    {
      "cell_type": "code",
      "source": [
        "age = int(input(\"enter a number :\"))\n",
        "if age <=18 and age < 65:\n",
        "   print(\"eligible for loan\")\n",
        "else:\n",
        "   print(\"not eligible\")"
      ],
      "metadata": {
        "colab": {
          "base_uri": "https://localhost:8080/"
        },
        "id": "XtKSwPRqEqyr",
        "outputId": "db16c12b-b7b4-4ab5-cc52-88eaa46e8569"
      },
      "execution_count": 29,
      "outputs": [
        {
          "output_type": "stream",
          "name": "stdout",
          "text": [
            "enter a number :88\n",
            "not eligible\n"
          ]
        }
      ]
    }
  ]
}