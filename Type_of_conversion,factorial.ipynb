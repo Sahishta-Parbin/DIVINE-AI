{
  "nbformat": 4,
  "nbformat_minor": 0,
  "metadata": {
    "colab": {
      "name": "Type of conversion.ipynb",
      "provenance": [],
      "authorship_tag": "ABX9TyPFX8lqkneAFwU5+mz+Gr10",
      "include_colab_link": true
    },
    "kernelspec": {
      "name": "python3",
      "display_name": "Python 3"
    },
    "language_info": {
      "name": "python"
    }
  },
  "cells": [
    {
      "cell_type": "markdown",
      "metadata": {
        "id": "view-in-github",
        "colab_type": "text"
      },
      "source": [
        "<a href=\"https://colab.research.google.com/github/Sahishta-Parbin/DIVINE-AI/blob/main/Type_of_conversion%2Cfactorial.ipynb\" target=\"_parent\"><img src=\"https://colab.research.google.com/assets/colab-badge.svg\" alt=\"Open In Colab\"/></a>"
      ]
    },
    {
      "cell_type": "code",
      "execution_count": null,
      "metadata": {
        "colab": {
          "base_uri": "https://localhost:8080/"
        },
        "id": "xIEr2jKrj2EF",
        "outputId": "e613a161-48cd-405b-ab76-37b43105a11c"
      },
      "outputs": [
        {
          "output_type": "stream",
          "name": "stdout",
          "text": [
            "x is of type: <class 'int'>\n"
          ]
        }
      ],
      "source": [
        "x = 10\n",
        "print(\"x is of type:\",type(x))\n"
      ]
    },
    {
      "cell_type": "code",
      "source": [
        "y = 10.6\n",
        "print(\"y is of type:\",type(y))\n"
      ],
      "metadata": {
        "colab": {
          "base_uri": "https://localhost:8080/"
        },
        "id": "1OinUxaVkCej",
        "outputId": "ef798a6f-e945-46d2-f63d-242bbdf5fbda"
      },
      "execution_count": null,
      "outputs": [
        {
          "output_type": "stream",
          "name": "stdout",
          "text": [
            "y is of type: <class 'float'>\n"
          ]
        }
      ]
    },
    {
      "cell_type": "code",
      "source": [
        "x = 1 #int\n",
        "y = 2.8 #float\n",
        "z = 1j #complex\n",
        "a = float(x)\n",
        "b = float(y)\n",
        "c = complex(z)\n",
        "print(a)\n",
        "print(b)\n",
        "print(c)\n"
      ],
      "metadata": {
        "colab": {
          "base_uri": "https://localhost:8080/"
        },
        "id": "satv9yYyxWX5",
        "outputId": "a66f4a1d-d36a-4d2d-d8c5-bf2fe537cd07"
      },
      "execution_count": null,
      "outputs": [
        {
          "output_type": "stream",
          "name": "stdout",
          "text": [
            "1.0\n",
            "2.8\n",
            "1j\n"
          ]
        }
      ]
    },
    {
      "cell_type": "code",
      "source": [
        "print(type(a))"
      ],
      "metadata": {
        "colab": {
          "base_uri": "https://localhost:8080/"
        },
        "id": "2bGAzDfWyvky",
        "outputId": "086c6f74-3e7a-4c0b-f248-3c044e79d8b3"
      },
      "execution_count": null,
      "outputs": [
        {
          "output_type": "stream",
          "name": "stdout",
          "text": [
            "<class 'float'>\n"
          ]
        }
      ]
    },
    {
      "cell_type": "code",
      "source": [
        "print(type(b))"
      ],
      "metadata": {
        "colab": {
          "base_uri": "https://localhost:8080/"
        },
        "id": "PhSIZZG_y1rl",
        "outputId": "2b2d4dce-e1e3-428c-a215-17169d9b8c7a"
      },
      "execution_count": null,
      "outputs": [
        {
          "output_type": "stream",
          "name": "stdout",
          "text": [
            "<class 'float'>\n"
          ]
        }
      ]
    },
    {
      "cell_type": "code",
      "source": [
        "print(type(c))"
      ],
      "metadata": {
        "colab": {
          "base_uri": "https://localhost:8080/"
        },
        "id": "oet3Uasty4z_",
        "outputId": "12d46721-2da0-4c0d-aaec-b924557b39e1"
      },
      "execution_count": null,
      "outputs": [
        {
          "output_type": "stream",
          "name": "stdout",
          "text": [
            "<class 'complex'>\n"
          ]
        }
      ]
    },
    {
      "cell_type": "code",
      "source": [
        "x = x+y\n",
        "print(x)\n",
        "print(\"x is of type:\",type(x))\n"
      ],
      "metadata": {
        "colab": {
          "base_uri": "https://localhost:8080/"
        },
        "id": "PgryzE4vkMX4",
        "outputId": "15b1eb29-b46a-4b15-9a91-d7517f2236db"
      },
      "execution_count": null,
      "outputs": [
        {
          "output_type": "stream",
          "name": "stdout",
          "text": [
            "41.800000000000004\n",
            "x is of type: <class 'float'>\n"
          ]
        }
      ]
    },
    {
      "cell_type": "code",
      "source": [
        "x = 10\n",
        "print(\"x is of type:\",type(x))\n",
        "y = 10.6\n",
        "print(\"y is of type:\",type(y))\n",
        "x = x+y\n",
        "print(x)\n",
        "print(\"x is of type:\",type(x))\n"
      ],
      "metadata": {
        "colab": {
          "base_uri": "https://localhost:8080/"
        },
        "id": "xIK5EIW_kfbk",
        "outputId": "508619e5-2437-496f-d20a-aec2a1d62a34"
      },
      "execution_count": null,
      "outputs": [
        {
          "output_type": "stream",
          "name": "stdout",
          "text": [
            "x is of type: <class 'int'>\n",
            "y is of type: <class 'float'>\n",
            "20.6\n",
            "x is of type: <class 'float'>\n"
          ]
        }
      ]
    },
    {
      "cell_type": "code",
      "source": [
        "s = \"10010\"\n",
        "c = int(s,2)\n",
        "print (\"After converting to integer base 2 : \", end=\"\")\n",
        "print (c)\n"
      ],
      "metadata": {
        "colab": {
          "base_uri": "https://localhost:8080/"
        },
        "id": "566_UEjnklu9",
        "outputId": "2120154e-c05f-40f9-9e3f-7e20de0de8a9"
      },
      "execution_count": null,
      "outputs": [
        {
          "output_type": "stream",
          "name": "stdout",
          "text": [
            "After converting to integer base 2 : 18\n"
          ]
        }
      ]
    },
    {
      "cell_type": "code",
      "source": [
        "e = float(s)\n",
        "print (\"After converting to float : \", end=\"\")\n",
        "print (e)\n"
      ],
      "metadata": {
        "colab": {
          "base_uri": "https://localhost:8080/"
        },
        "id": "HWN9P8CilIFh",
        "outputId": "dff06fb5-976b-4925-c50b-040badb50889"
      },
      "execution_count": null,
      "outputs": [
        {
          "output_type": "stream",
          "name": "stdout",
          "text": [
            "After converting to float : 10010.0\n"
          ]
        }
      ]
    },
    {
      "cell_type": "code",
      "source": [
        "s = '4'\n",
        "c = ord(s)\n",
        "print (\"After converting character to integer : \",end=\"\")\n",
        "print (c)\n"
      ],
      "metadata": {
        "colab": {
          "base_uri": "https://localhost:8080/"
        },
        "id": "ZmSkTMVUlalz",
        "outputId": "79e3b62a-c544-4bc3-9fcb-d2184edba79a"
      },
      "execution_count": null,
      "outputs": [
        {
          "output_type": "stream",
          "name": "stdout",
          "text": [
            "After converting character to integer : 52\n"
          ]
        }
      ]
    },
    {
      "cell_type": "code",
      "source": [
        "c = hex(56)\n",
        "print (\"After converting 56 to hexadecimal string : \",end=\"\")\n",
        "print (c)\n"
      ],
      "metadata": {
        "colab": {
          "base_uri": "https://localhost:8080/"
        },
        "id": "siolXXLZlrBW",
        "outputId": "c2d29cf5-07f4-4ce5-b15f-0e3543e41ea1"
      },
      "execution_count": null,
      "outputs": [
        {
          "output_type": "stream",
          "name": "stdout",
          "text": [
            "After converting 56 to hexadecimal string : 0x38\n"
          ]
        }
      ]
    },
    {
      "cell_type": "code",
      "source": [
        "c = oct(56)\n",
        "print (\"After converting 56 to octal string : \",end=\"\")\n",
        "print (c)"
      ],
      "metadata": {
        "colab": {
          "base_uri": "https://localhost:8080/"
        },
        "id": "lGgehxh_l6lx",
        "outputId": "bb672cfe-17e9-494d-9001-5eba833c3eba"
      },
      "execution_count": null,
      "outputs": [
        {
          "output_type": "stream",
          "name": "stdout",
          "text": [
            "After converting 56 to octal string : 0o70\n"
          ]
        }
      ]
    },
    {
      "cell_type": "code",
      "source": [
        "s = 'jungkook'\n",
        "c = tuple(s)\n",
        "print (\"After converting string to tuple : \",end=\"\")\n",
        "print (c)\n"
      ],
      "metadata": {
        "colab": {
          "base_uri": "https://localhost:8080/"
        },
        "id": "bBb4QQmFmGUZ",
        "outputId": "35a83991-18e9-46ea-8454-a36b6914ec88"
      },
      "execution_count": null,
      "outputs": [
        {
          "output_type": "stream",
          "name": "stdout",
          "text": [
            "After converting string to tuple : ('j', 'u', 'n', 'g', 'k', 'o', 'o', 'k')\n"
          ]
        }
      ]
    },
    {
      "cell_type": "code",
      "source": [
        "c = set(s)\n",
        "print (\"After converting string to set : \",end=\"\")\n",
        "print (c)\n"
      ],
      "metadata": {
        "colab": {
          "base_uri": "https://localhost:8080/"
        },
        "id": "SQBpEl2Emjpw",
        "outputId": "50e1af72-8828-4bc1-ad86-75271014c38a"
      },
      "execution_count": null,
      "outputs": [
        {
          "output_type": "stream",
          "name": "stdout",
          "text": [
            "After converting string to set : {'4'}\n"
          ]
        }
      ]
    },
    {
      "cell_type": "code",
      "source": [
        "c = list(s)\n",
        "print (\"After converting string to list : \",end=\"\")\n",
        "print (c)"
      ],
      "metadata": {
        "colab": {
          "base_uri": "https://localhost:8080/"
        },
        "id": "0Ji2RJAfnN1P",
        "outputId": "7f23b753-bd02-4a52-b7fc-2f525ec8ba5a"
      },
      "execution_count": null,
      "outputs": [
        {
          "output_type": "stream",
          "name": "stdout",
          "text": [
            "After converting string to list : ['j', 'u', 'n', 'g', 'k', 'o', 'o', 'k']\n"
          ]
        }
      ]
    },
    {
      "cell_type": "code",
      "source": [
        "a = 1\n",
        "b = 2\n",
        "tup = (('a', 1) ,('f', 2), ('g', 3))\n",
        "c = complex(1,2)\n",
        "print (\"After converting integer to complex number : \",end=\"\")\n",
        "print (c)"
      ],
      "metadata": {
        "colab": {
          "base_uri": "https://localhost:8080/"
        },
        "id": "DbVSDnRWnjzj",
        "outputId": "5667f174-e7d3-4bb0-c7a7-21e8cc42354e"
      },
      "execution_count": null,
      "outputs": [
        {
          "output_type": "stream",
          "name": "stdout",
          "text": [
            "After converting integer to complex number : (1+2j)\n"
          ]
        }
      ]
    },
    {
      "cell_type": "code",
      "source": [
        "c = dict(tup)\n",
        "print (\"After converting tuple to dictionary : \",end=\"\")\n",
        "print (c)\n"
      ],
      "metadata": {
        "colab": {
          "base_uri": "https://localhost:8080/"
        },
        "id": "NvpQw0OYoOLh",
        "outputId": "c04f9073-bd3f-42ef-f721-dbe555367ed3"
      },
      "execution_count": null,
      "outputs": [
        {
          "output_type": "stream",
          "name": "stdout",
          "text": [
            "After converting tuple to dictionary : {'a': 1, 'f': 2, 'g': 3}\n"
          ]
        }
      ]
    },
    {
      "cell_type": "code",
      "source": [
        "a = chr(76)\n",
        "b = chr(77)\n",
        "print(a)"
      ],
      "metadata": {
        "colab": {
          "base_uri": "https://localhost:8080/"
        },
        "id": "WVfQbWKrrMVh",
        "outputId": "a7920fbe-c3bc-4344-acfe-514523f2b4fd"
      },
      "execution_count": null,
      "outputs": [
        {
          "output_type": "stream",
          "name": "stdout",
          "text": [
            "L\n"
          ]
        }
      ]
    },
    {
      "cell_type": "code",
      "source": [
        "print(b)"
      ],
      "metadata": {
        "colab": {
          "base_uri": "https://localhost:8080/"
        },
        "id": "D7hQuIHarhrA",
        "outputId": "e076e243-d40c-4cba-a7a9-fc1579024968"
      },
      "execution_count": null,
      "outputs": [
        {
          "output_type": "stream",
          "name": "stdout",
          "text": [
            "M\n"
          ]
        }
      ]
    },
    {
      "cell_type": "code",
      "source": [
        "a = chr(7)\n",
        "b = chr(8)\n",
        "print(a)"
      ],
      "metadata": {
        "colab": {
          "base_uri": "https://localhost:8080/"
        },
        "id": "rD0_vax2rmux",
        "outputId": "cb17a8d3-5fe7-4231-8cff-5d0a3d85481d"
      },
      "execution_count": null,
      "outputs": [
        {
          "output_type": "stream",
          "name": "stdout",
          "text": [
            "\u0007\n"
          ]
        }
      ]
    },
    {
      "cell_type": "code",
      "source": [
        "print(b)"
      ],
      "metadata": {
        "colab": {
          "base_uri": "https://localhost:8080/"
        },
        "id": "H5OLVklxrstJ",
        "outputId": "a305d4c6-7f68-4897-dbb0-f418fe14dee2"
      },
      "execution_count": null,
      "outputs": [
        {
          "output_type": "stream",
          "name": "stdout",
          "text": [
            "\b\n"
          ]
        }
      ]
    },
    {
      "cell_type": "code",
      "source": [
        "a = chr(85)\n",
        "b = chr(86)\n",
        "print(a)"
      ],
      "metadata": {
        "colab": {
          "base_uri": "https://localhost:8080/"
        },
        "id": "GgQHrQn7rwfb",
        "outputId": "30ed1672-ffe2-4585-9072-f61a4df10811"
      },
      "execution_count": null,
      "outputs": [
        {
          "output_type": "stream",
          "name": "stdout",
          "text": [
            "U\n"
          ]
        }
      ]
    },
    {
      "cell_type": "code",
      "source": [
        "a = chr(85)\n",
        "b = chr(86)\n",
        "print(b)"
      ],
      "metadata": {
        "colab": {
          "base_uri": "https://localhost:8080/"
        },
        "id": "paPmm0MstC55",
        "outputId": "5145bbab-8427-4705-a7e3-ef1cc961ba2c"
      },
      "execution_count": null,
      "outputs": [
        {
          "output_type": "stream",
          "name": "stdout",
          "text": [
            "V\n"
          ]
        }
      ]
    },
    {
      "cell_type": "code",
      "source": [
        "num_int = 123\n",
        "num_flo = 1.23\n",
        "num_new = num_int + num_flo\n",
        "print(\"datatype of num_int:\",type(num_int))\n",
        "print(\"datatype of num_flo:\",type(num_flo))\n"
      ],
      "metadata": {
        "colab": {
          "base_uri": "https://localhost:8080/"
        },
        "id": "CCxzKTR7tGNT",
        "outputId": "e5e72423-e41d-4ebb-fcba-2a54dbc5db7d"
      },
      "execution_count": null,
      "outputs": [
        {
          "output_type": "stream",
          "name": "stdout",
          "text": [
            "datatype of num_int: <class 'int'>\n",
            "datatype of num_flo: <class 'float'>\n"
          ]
        }
      ]
    },
    {
      "cell_type": "code",
      "source": [
        "print(\"Value of num_new:\",num_new)\n",
        "print(\"datatype of num_new:\",type(num_new))\n"
      ],
      "metadata": {
        "colab": {
          "base_uri": "https://localhost:8080/"
        },
        "id": "WPVRob0ivIhu",
        "outputId": "f9258239-8cf6-4700-98bd-7f1135e9c398"
      },
      "execution_count": null,
      "outputs": [
        {
          "output_type": "stream",
          "name": "stdout",
          "text": [
            "Value of num_new: 124.23\n",
            "datatype of num_new: <class 'float'>\n"
          ]
        }
      ]
    },
    {
      "cell_type": "code",
      "source": [
        "num_int = 123\n",
        "num_str = \"456\"\n",
        "print(\"Data type of num_int:\",type(num_int))\n",
        "print(\"Data type of num_str:\",type(num_str))\n"
      ],
      "metadata": {
        "colab": {
          "base_uri": "https://localhost:8080/"
        },
        "id": "wRhEMVMPvOe-",
        "outputId": "d827f993-1966-4414-a1f9-81276006b51d"
      },
      "execution_count": null,
      "outputs": [
        {
          "output_type": "stream",
          "name": "stdout",
          "text": [
            "Data type of num_int: <class 'int'>\n",
            "Data type of num_str: <class 'str'>\n"
          ]
        }
      ]
    },
    {
      "cell_type": "code",
      "source": [
        "num_int = 123\n",
        "num_str = \"456\"\n",
        "print(\"Data type of num_int:\",type(num_int))\n"
      ],
      "metadata": {
        "colab": {
          "base_uri": "https://localhost:8080/"
        },
        "id": "SS3iY-RuvsyL",
        "outputId": "05b5e51d-93cb-46f4-e7fb-159bf7dc2a43"
      },
      "execution_count": null,
      "outputs": [
        {
          "output_type": "stream",
          "name": "stdout",
          "text": [
            "Data type of num_int: <class 'int'>\n"
          ]
        }
      ]
    },
    {
      "cell_type": "code",
      "source": [
        "print(\"Data type of num_str after Type Casting:\",type(num_str))\n"
      ],
      "metadata": {
        "colab": {
          "base_uri": "https://localhost:8080/"
        },
        "id": "ZOQzZcS0wwaL",
        "outputId": "c5ec8f55-dc1a-4bd8-d0d5-9cb4f3988709"
      },
      "execution_count": null,
      "outputs": [
        {
          "output_type": "stream",
          "name": "stdout",
          "text": [
            "Data type of num_str after Type Casting: <class 'str'>\n"
          ]
        }
      ]
    },
    {
      "cell_type": "code",
      "source": [
        "print(\"Data type of num_str before Type Casting:\",type(num_str))\n"
      ],
      "metadata": {
        "colab": {
          "base_uri": "https://localhost:8080/"
        },
        "id": "9aPPo1N0wBcH",
        "outputId": "eda3d721-ac5a-487c-90be-a65f840d2fb2"
      },
      "execution_count": null,
      "outputs": [
        {
          "output_type": "stream",
          "name": "stdout",
          "text": [
            "Data type of num_str before Type Casting: <class 'str'>\n"
          ]
        }
      ]
    },
    {
      "cell_type": "code",
      "source": [
        "n = 23\n",
        "fact = 1\n",
        "for i in range(1,n+1):\n",
        "    fact = fact * i\n",
        "print (\"The factorial of 23 is : \",end=\"\")\n",
        "print (fact)\n",
        "\n"
      ],
      "metadata": {
        "colab": {
          "base_uri": "https://localhost:8080/"
        },
        "id": "G-lJDSR7_yjV",
        "outputId": "17b484e8-8308-4fe6-98f1-816b0982947f"
      },
      "execution_count": 1,
      "outputs": [
        {
          "output_type": "stream",
          "name": "stdout",
          "text": [
            "The factorial of 23 is : 25852016738884976640000\n"
          ]
        }
      ]
    },
    {
      "cell_type": "code",
      "source": [
        "n = 23\n",
        "fact = 1\n",
        "for i in range(1,n+1):\n",
        "    fact = fact + i\n",
        "print (\"The factorial of 23 is : \",end=\"\")\n",
        "print (fact)\n",
        "\n"
      ],
      "metadata": {
        "colab": {
          "base_uri": "https://localhost:8080/"
        },
        "id": "taXPPyrKAGBV",
        "outputId": "8c2fac4c-efbf-4005-f849-482c86d4cca2"
      },
      "execution_count": 2,
      "outputs": [
        {
          "output_type": "stream",
          "name": "stdout",
          "text": [
            "The factorial of 23 is : 277\n"
          ]
        }
      ]
    },
    {
      "cell_type": "code",
      "source": [
        "n = 23\n",
        "fact = 1\n",
        "for i in range(1,n*1):\n",
        "    fact = fact + i\n",
        "print (\"The factorial of 23 is : \",end=\"\")\n",
        "print (fact)\n",
        "\n"
      ],
      "metadata": {
        "colab": {
          "base_uri": "https://localhost:8080/"
        },
        "id": "2mkhFCTBAOPA",
        "outputId": "27d9497b-6b69-44d4-ca58-88b284c251ea"
      },
      "execution_count": 3,
      "outputs": [
        {
          "output_type": "stream",
          "name": "stdout",
          "text": [
            "The factorial of 23 is : 254\n"
          ]
        }
      ]
    },
    {
      "cell_type": "code",
      "source": [
        "n = 24\n",
        "fact = 2\n",
        "for i in range(2,n+1):\n",
        "    fact = fact * i\n",
        "print (\"The factorial of 24 is : \",end=\"\")\n",
        "print (fact)\n",
        "\n"
      ],
      "metadata": {
        "colab": {
          "base_uri": "https://localhost:8080/"
        },
        "id": "a7E2SAlMAVl8",
        "outputId": "058fb5a1-9d89-4e0c-9f3b-ed69c3664079"
      },
      "execution_count": 4,
      "outputs": [
        {
          "output_type": "stream",
          "name": "stdout",
          "text": [
            "The factorial of 24 is : 1240896803466478878720000\n"
          ]
        }
      ]
    },
    {
      "cell_type": "code",
      "source": [
        "import math\n",
        "print (\"The factorial of 23 is : \", end=\"\")\n",
        "print (math.factorial(23))\n"
      ],
      "metadata": {
        "colab": {
          "base_uri": "https://localhost:8080/"
        },
        "id": "JWvTKM88AgTP",
        "outputId": "9aa110ab-8643-4d8a-b61f-fdf5fefb400a"
      },
      "execution_count": 5,
      "outputs": [
        {
          "output_type": "stream",
          "name": "stdout",
          "text": [
            "The factorial of 23 is : 25852016738884976640000\n"
          ]
        }
      ]
    },
    {
      "cell_type": "code",
      "source": [
        "import math\n",
        "print (\"The factorial of -5 is : \",end=\"\")\n",
        "print (math.factorial(-5))\n"
      ],
      "metadata": {
        "colab": {
          "base_uri": "https://localhost:8080/",
          "height": 217
        },
        "id": "WWt1aSSfA0j3",
        "outputId": "71c22814-202f-4626-8f40-d1bc13cfac6c"
      },
      "execution_count": 6,
      "outputs": [
        {
          "output_type": "stream",
          "name": "stdout",
          "text": [
            "The factorial of -5 is : "
          ]
        },
        {
          "output_type": "error",
          "ename": "ValueError",
          "evalue": "ignored",
          "traceback": [
            "\u001b[0;31m---------------------------------------------------------------------------\u001b[0m",
            "\u001b[0;31mValueError\u001b[0m                                Traceback (most recent call last)",
            "\u001b[0;32m<ipython-input-6-b8ec1d760ef6>\u001b[0m in \u001b[0;36m<module>\u001b[0;34m()\u001b[0m\n\u001b[1;32m      1\u001b[0m \u001b[0;32mimport\u001b[0m \u001b[0mmath\u001b[0m\u001b[0;34m\u001b[0m\u001b[0;34m\u001b[0m\u001b[0m\n\u001b[1;32m      2\u001b[0m \u001b[0mprint\u001b[0m \u001b[0;34m(\u001b[0m\u001b[0;34m\"The factorial of -5 is : \"\u001b[0m\u001b[0;34m,\u001b[0m\u001b[0mend\u001b[0m\u001b[0;34m=\u001b[0m\u001b[0;34m\"\"\u001b[0m\u001b[0;34m)\u001b[0m\u001b[0;34m\u001b[0m\u001b[0;34m\u001b[0m\u001b[0m\n\u001b[0;32m----> 3\u001b[0;31m \u001b[0mprint\u001b[0m \u001b[0;34m(\u001b[0m\u001b[0mmath\u001b[0m\u001b[0;34m.\u001b[0m\u001b[0mfactorial\u001b[0m\u001b[0;34m(\u001b[0m\u001b[0;34m-\u001b[0m\u001b[0;36m5\u001b[0m\u001b[0;34m)\u001b[0m\u001b[0;34m)\u001b[0m\u001b[0;34m\u001b[0m\u001b[0;34m\u001b[0m\u001b[0m\n\u001b[0m",
            "\u001b[0;31mValueError\u001b[0m: factorial() not defined for negative values"
          ]
        }
      ]
    },
    {
      "cell_type": "code",
      "source": [
        "import math\n",
        "print (\"The factorial of -5 is : \",end=\"\")\n",
        "print (math.factorial(5.6))\n"
      ],
      "metadata": {
        "colab": {
          "base_uri": "https://localhost:8080/",
          "height": 217
        },
        "id": "j5ApuB8lBIiX",
        "outputId": "5329a37a-0838-4f05-844d-9c0b1454114f"
      },
      "execution_count": 7,
      "outputs": [
        {
          "output_type": "stream",
          "name": "stdout",
          "text": [
            "The factorial of -5 is : "
          ]
        },
        {
          "output_type": "error",
          "ename": "ValueError",
          "evalue": "ignored",
          "traceback": [
            "\u001b[0;31m---------------------------------------------------------------------------\u001b[0m",
            "\u001b[0;31mValueError\u001b[0m                                Traceback (most recent call last)",
            "\u001b[0;32m<ipython-input-7-5b38357209c2>\u001b[0m in \u001b[0;36m<module>\u001b[0;34m()\u001b[0m\n\u001b[1;32m      1\u001b[0m \u001b[0;32mimport\u001b[0m \u001b[0mmath\u001b[0m\u001b[0;34m\u001b[0m\u001b[0;34m\u001b[0m\u001b[0m\n\u001b[1;32m      2\u001b[0m \u001b[0mprint\u001b[0m \u001b[0;34m(\u001b[0m\u001b[0;34m\"The factorial of -5 is : \"\u001b[0m\u001b[0;34m,\u001b[0m\u001b[0mend\u001b[0m\u001b[0;34m=\u001b[0m\u001b[0;34m\"\"\u001b[0m\u001b[0;34m)\u001b[0m\u001b[0;34m\u001b[0m\u001b[0;34m\u001b[0m\u001b[0m\n\u001b[0;32m----> 3\u001b[0;31m \u001b[0mprint\u001b[0m \u001b[0;34m(\u001b[0m\u001b[0mmath\u001b[0m\u001b[0;34m.\u001b[0m\u001b[0mfactorial\u001b[0m\u001b[0;34m(\u001b[0m\u001b[0;36m5.6\u001b[0m\u001b[0;34m)\u001b[0m\u001b[0;34m)\u001b[0m\u001b[0;34m\u001b[0m\u001b[0;34m\u001b[0m\u001b[0m\n\u001b[0m",
            "\u001b[0;31mValueError\u001b[0m: factorial() only accepts integral values"
          ]
        }
      ]
    },
    {
      "cell_type": "code",
      "source": [
        "import math \n",
        "x = 5\n",
        "print (\"The factorial of 5 is : \", end =\"\") \n",
        "print (math.factorial(x))\n"
      ],
      "metadata": {
        "colab": {
          "base_uri": "https://localhost:8080/"
        },
        "id": "sl_0t_NKBNrC",
        "outputId": "ea58608e-51cb-46f8-8f6b-10bbaaa6b097"
      },
      "execution_count": 8,
      "outputs": [
        {
          "output_type": "stream",
          "name": "stdout",
          "text": [
            "The factorial of 5 is : 120\n"
          ]
        }
      ]
    },
    {
      "cell_type": "code",
      "source": [
        "x=5\n",
        "y=15\n",
        "z=8\n",
        "print (\"The factorial of 5 is : \", math.factorial(x))\n",
        "print (\"The factorial of 15 is : \", math.factorial(y))\n",
        "print (\"The factorial of 8 is : \", math.factorial(z))\n"
      ],
      "metadata": {
        "colab": {
          "base_uri": "https://localhost:8080/"
        },
        "id": "pzVHQoRoCCnq",
        "outputId": "95536f0d-e347-4e6e-d4c9-02f977e8263d"
      },
      "execution_count": 9,
      "outputs": [
        {
          "output_type": "stream",
          "name": "stdout",
          "text": [
            "The factorial of 5 is :  120\n",
            "The factorial of 15 is :  1307674368000\n",
            "The factorial of 8 is :  40320\n"
          ]
        }
      ]
    },
    {
      "cell_type": "code",
      "source": [
        "print (\"math.factorial(13.7) : \", math.factorial(13.7))\n"
      ],
      "metadata": {
        "colab": {
          "base_uri": "https://localhost:8080/",
          "height": 165
        },
        "id": "LkGuxPaOCz9t",
        "outputId": "8183f4df-8e42-4fef-a1cd-24ab8d3fb306"
      },
      "execution_count": 10,
      "outputs": [
        {
          "output_type": "error",
          "ename": "ValueError",
          "evalue": "ignored",
          "traceback": [
            "\u001b[0;31m---------------------------------------------------------------------------\u001b[0m",
            "\u001b[0;31mValueError\u001b[0m                                Traceback (most recent call last)",
            "\u001b[0;32m<ipython-input-10-2f052e2b8fac>\u001b[0m in \u001b[0;36m<module>\u001b[0;34m()\u001b[0m\n\u001b[0;32m----> 1\u001b[0;31m \u001b[0mprint\u001b[0m \u001b[0;34m(\u001b[0m\u001b[0;34m\"math.factorial(13.7) : \"\u001b[0m\u001b[0;34m,\u001b[0m \u001b[0mmath\u001b[0m\u001b[0;34m.\u001b[0m\u001b[0mfactorial\u001b[0m\u001b[0;34m(\u001b[0m\u001b[0;36m13.7\u001b[0m\u001b[0;34m)\u001b[0m\u001b[0;34m)\u001b[0m\u001b[0;34m\u001b[0m\u001b[0;34m\u001b[0m\u001b[0m\n\u001b[0m",
            "\u001b[0;31mValueError\u001b[0m: factorial() only accepts integral values"
          ]
        }
      ]
    }
  ]
}