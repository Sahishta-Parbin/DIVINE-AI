{
  "nbformat": 4,
  "nbformat_minor": 0,
  "metadata": {
    "colab": {
      "name": "Dictionary.ipynb",
      "provenance": [],
      "authorship_tag": "ABX9TyOVG2jqJC1lTdF9D5owpkqR",
      "include_colab_link": true
    },
    "kernelspec": {
      "name": "python3",
      "display_name": "Python 3"
    },
    "language_info": {
      "name": "python"
    }
  },
  "cells": [
    {
      "cell_type": "markdown",
      "metadata": {
        "id": "view-in-github",
        "colab_type": "text"
      },
      "source": [
        "<a href=\"https://colab.research.google.com/github/Sahishta-Parbin/DIVINE-AI/blob/main/Dictionary.ipynb\" target=\"_parent\"><img src=\"https://colab.research.google.com/assets/colab-badge.svg\" alt=\"Open In Colab\"/></a>"
      ]
    },
    {
      "cell_type": "code",
      "source": [
        "point = {\"x\":1 , \"y\":2}\n",
        "point = dict(x = 1,y = 2)\n",
        "print(point)"
      ],
      "metadata": {
        "id": "xcJ52R9JRk6u",
        "outputId": "e82b1b41-c759-496f-ea15-efe7f32d1c32",
        "colab": {
          "base_uri": "https://localhost:8080/"
        }
      },
      "execution_count": null,
      "outputs": [
        {
          "output_type": "stream",
          "name": "stdout",
          "text": [
            "{'x': 1, 'y': 2}\n"
          ]
        }
      ]
    },
    {
      "cell_type": "code",
      "source": [
        "point = dict(x=1,y=2)\n",
        "point[\"x\"]=10\n",
        "point[\"z\"]=20\n",
        "print(point)\n"
      ],
      "metadata": {
        "id": "0GxEHPfSR6tk",
        "outputId": "4817f12a-9ca6-44b6-be1e-c311c2f137e1",
        "colab": {
          "base_uri": "https://localhost:8080/"
        }
      },
      "execution_count": null,
      "outputs": [
        {
          "output_type": "stream",
          "name": "stdout",
          "text": [
            "{'x': 10, 'y': 2, 'z': 20}\n"
          ]
        }
      ]
    },
    {
      "cell_type": "code",
      "source": [
        "point = dict(x=1,y=2)\n",
        "point[\"x\"]=10\n",
        "point[\"z\"]=20\n",
        "print(point[\"z\"])\n"
      ],
      "metadata": {
        "id": "TLOufoF5SR5W",
        "outputId": "e377e827-d518-4da7-895b-6db4150b6f38",
        "colab": {
          "base_uri": "https://localhost:8080/"
        }
      },
      "execution_count": null,
      "outputs": [
        {
          "output_type": "stream",
          "name": "stdout",
          "text": [
            "20\n"
          ]
        }
      ]
    },
    {
      "cell_type": "code",
      "source": [
        "point = dict(x=1,y=2)\n",
        "point[\"x\"]=10\n",
        "point[\"z\"]=20\n",
        "print(point.get(\"b\"))\n"
      ],
      "metadata": {
        "id": "lz9SMiSsSY8W",
        "outputId": "16f1f547-1775-4815-c69e-45800d0bc90a",
        "colab": {
          "base_uri": "https://localhost:8080/"
        }
      },
      "execution_count": null,
      "outputs": [
        {
          "output_type": "stream",
          "name": "stdout",
          "text": [
            "None\n"
          ]
        }
      ]
    },
    {
      "cell_type": "code",
      "source": [
        "point = dict(x=1,y=2)\n",
        "point[\"x\"]=10\n",
        "point[\"z\"]=20\n",
        "del point[\"x\"]\n",
        "print(point)"
      ],
      "metadata": {
        "id": "WTHAKumySpZk",
        "outputId": "b3e8826b-f0a7-4809-b816-b1eb26813f01",
        "colab": {
          "base_uri": "https://localhost:8080/"
        }
      },
      "execution_count": null,
      "outputs": [
        {
          "output_type": "stream",
          "name": "stdout",
          "text": [
            "{'y': 2, 'z': 20}\n"
          ]
        }
      ]
    },
    {
      "cell_type": "code",
      "source": [
        "point = dict(x=1,y=2)\n",
        "point[\"x\"]=10\n",
        "point[\"z\"]=20\n",
        "for x in point.items():\n",
        "    print(x)"
      ],
      "metadata": {
        "id": "yz69zICwS8R3",
        "outputId": "f0bde22b-ea8e-4606-9b45-4d18c0fcbb88",
        "colab": {
          "base_uri": "https://localhost:8080/"
        }
      },
      "execution_count": null,
      "outputs": [
        {
          "output_type": "stream",
          "name": "stdout",
          "text": [
            "('x', 10)\n",
            "('y', 2)\n",
            "('z', 20)\n"
          ]
        }
      ]
    },
    {
      "cell_type": "code",
      "execution_count": null,
      "metadata": {
        "colab": {
          "base_uri": "https://localhost:8080/"
        },
        "id": "xcRYDm9-B1jj",
        "outputId": "e518e8a6-a87d-48bf-b2e1-39b2a9e62284"
      },
      "outputs": [
        {
          "output_type": "stream",
          "name": "stdout",
          "text": [
            "\n",
            "Dictionary with the use of Integer Keys: \n",
            "{1: 'jungkook', 2: 'For', 3: 'jungkook'}\n"
          ]
        }
      ],
      "source": [
        "Dict = {1: 'jungkook', 2: 'For', 3: 'jungkook'}\n",
        "print(\"\\nDictionary with the use of Integer Keys: \")\n",
        "print(Dict)"
      ]
    },
    {
      "cell_type": "code",
      "source": [
        "Dict = {'Name': 'jungkook', 1: [1, 2, 3, 4]}\n",
        "print(\"\\nDictionary with the use of Mixed Keys: \")\n",
        "print(Dict)"
      ],
      "metadata": {
        "colab": {
          "base_uri": "https://localhost:8080/"
        },
        "id": "gquMStXCCMUm",
        "outputId": "e1b3ff26-3852-41c1-a310-6d8c8a264dfe"
      },
      "execution_count": null,
      "outputs": [
        {
          "output_type": "stream",
          "name": "stdout",
          "text": [
            "\n",
            "Dictionary with the use of Mixed Keys: \n",
            "{'Name': 'jungkook', 1: [1, 2, 3, 4]}\n"
          ]
        }
      ]
    },
    {
      "cell_type": "code",
      "source": [
        "Dict = {}\n",
        "print(\"Empty Dictionary: \")\n",
        "print(Dict)\n"
      ],
      "metadata": {
        "colab": {
          "base_uri": "https://localhost:8080/"
        },
        "id": "jZjy0MoXC848",
        "outputId": "d10217ae-1521-4881-9cbe-1fea7b427b5e"
      },
      "execution_count": null,
      "outputs": [
        {
          "output_type": "stream",
          "name": "stdout",
          "text": [
            "Empty Dictionary: \n",
            "{}\n"
          ]
        }
      ]
    },
    {
      "cell_type": "code",
      "source": [
        "Dict = dict({1: 'Geeks', 2: 'For', 3:'Geeks'})\n",
        "print(\"\\nDictionary with the use of dict(): \")\n",
        "print(Dict)\n"
      ],
      "metadata": {
        "colab": {
          "base_uri": "https://localhost:8080/"
        },
        "id": "t-99M5tlDMFc",
        "outputId": "cb237ae5-6076-4dbf-9bb8-a4238093af34"
      },
      "execution_count": null,
      "outputs": [
        {
          "output_type": "stream",
          "name": "stdout",
          "text": [
            "\n",
            "Dictionary with the use of dict(): \n",
            "{1: 'Geeks', 2: 'For', 3: 'Geeks'}\n"
          ]
        }
      ]
    },
    {
      "cell_type": "code",
      "source": [
        "Dict = dict([(1, 'Geeks'), (2, 'For')])\n",
        "print(\"\\nDictionary with each item as a pair: \")\n",
        "print(Dict)\n"
      ],
      "metadata": {
        "colab": {
          "base_uri": "https://localhost:8080/"
        },
        "id": "vkMf_ID2DVUZ",
        "outputId": "ebdf9f1b-05e2-4333-c5cf-c0963de39357"
      },
      "execution_count": null,
      "outputs": [
        {
          "output_type": "stream",
          "name": "stdout",
          "text": [
            "\n",
            "Dictionary with each item as a pair: \n",
            "{1: 'Geeks', 2: 'For'}\n"
          ]
        }
      ]
    },
    {
      "cell_type": "code",
      "source": [
        "Dict = {1: 'jin', 2: 'For',\n",
        "        3:{'A' : 'Welcome', 'B' : 'To', 'C' : 'jin'}}\n",
        "print(Dict)\n"
      ],
      "metadata": {
        "colab": {
          "base_uri": "https://localhost:8080/"
        },
        "id": "3F0o6h3xCjNU",
        "outputId": "0e4ee33e-5794-4ceb-9f66-5e4dd5d51186"
      },
      "execution_count": null,
      "outputs": [
        {
          "output_type": "stream",
          "name": "stdout",
          "text": [
            "{1: 'jin', 2: 'For', 3: {'A': 'Welcome', 'B': 'To', 'C': 'jin'}}\n"
          ]
        }
      ]
    },
    {
      "cell_type": "code",
      "source": [
        "Dict = {}\n",
        "print(\"Empty Dictionary: \")\n",
        "print(Dict)\n"
      ],
      "metadata": {
        "colab": {
          "base_uri": "https://localhost:8080/"
        },
        "id": "-scCFEGdDein",
        "outputId": "e77f7938-75c8-4d71-a436-074112da42dc"
      },
      "execution_count": null,
      "outputs": [
        {
          "output_type": "stream",
          "name": "stdout",
          "text": [
            "Empty Dictionary: \n",
            "{}\n"
          ]
        }
      ]
    },
    {
      "cell_type": "code",
      "source": [
        "Dict[0] = 'jk'\n",
        "Dict[2] = 'For'\n",
        "Dict[1] = 1\n",
        "print(\"\\nDictionary after adding 3 elements: \")\n",
        "print(Dict)"
      ],
      "metadata": {
        "colab": {
          "base_uri": "https://localhost:8080/"
        },
        "id": "NzrxbCJjEGlg",
        "outputId": "dffcc2f1-46c6-4a61-8f40-2c2f0861bdb1"
      },
      "execution_count": null,
      "outputs": [
        {
          "output_type": "stream",
          "name": "stdout",
          "text": [
            "\n",
            "Dictionary after adding 3 elements: \n",
            "{0: 'jk', 2: 'For', 1: 1, 'Value_set': (2, 3, 4)}\n"
          ]
        }
      ]
    },
    {
      "cell_type": "code",
      "source": [
        "Dict['Value_set'] = 2, 3, 4\n",
        "print(\"\\nDictionary after adding 3 elements: \")\n",
        "print(Dict)"
      ],
      "metadata": {
        "colab": {
          "base_uri": "https://localhost:8080/"
        },
        "id": "pBT-dCDFEans",
        "outputId": "b16f1ae6-d0db-4473-97b5-36679fe482e9"
      },
      "execution_count": null,
      "outputs": [
        {
          "output_type": "stream",
          "name": "stdout",
          "text": [
            "\n",
            "Dictionary after adding 3 elements: \n",
            "{0: 'Geeks', 2: 'For', 1: 1, 'Value_set': (2, 3, 4)}\n"
          ]
        }
      ]
    },
    {
      "cell_type": "code",
      "source": [
        "Dict[2] = 'Welcome'\n",
        "print(\"\\nUpdated key value: \")\n",
        "print(Dict)"
      ],
      "metadata": {
        "colab": {
          "base_uri": "https://localhost:8080/"
        },
        "id": "TbZX1OGjEibM",
        "outputId": "fedd1e64-a1e3-40d2-eef4-aacef30ed1a4"
      },
      "execution_count": null,
      "outputs": [
        {
          "output_type": "stream",
          "name": "stdout",
          "text": [
            "\n",
            "Updated key value: \n",
            "{0: 'jk', 2: 'Welcome', 1: 1, 'Value_set': (2, 3, 4)}\n"
          ]
        }
      ]
    },
    {
      "cell_type": "code",
      "source": [
        "Dict[5] = {'Nested' :{'1' : 'Life', '2' : 'jk'}}\n",
        "print(\"\\nAdding a Nested Key: \")\n",
        "print(Dict)"
      ],
      "metadata": {
        "colab": {
          "base_uri": "https://localhost:8080/"
        },
        "id": "EHEpYyHIEx5R",
        "outputId": "9694778a-0d00-4a77-aed7-209e5511f5ac"
      },
      "execution_count": null,
      "outputs": [
        {
          "output_type": "stream",
          "name": "stdout",
          "text": [
            "\n",
            "Adding a Nested Key: \n",
            "{0: 'jk', 2: 'Welcome', 1: 1, 'Value_set': (2, 3, 4), 5: {'Nested': {'1': 'Life', '2': 'jk'}}}\n"
          ]
        }
      ]
    },
    {
      "cell_type": "code",
      "source": [
        "Dict = {1: 'jk', 'name': 'For', 3: 'jk'}\n",
        "print(\"Accessing a element using key:\")\n",
        "print(Dict['name'])\n"
      ],
      "metadata": {
        "colab": {
          "base_uri": "https://localhost:8080/"
        },
        "id": "644CzKWgE-5X",
        "outputId": "92ab0191-204d-473a-a501-201232aac533"
      },
      "execution_count": null,
      "outputs": [
        {
          "output_type": "stream",
          "name": "stdout",
          "text": [
            "Accessing a element using key:\n",
            "For\n"
          ]
        }
      ]
    },
    {
      "cell_type": "code",
      "source": [
        "print(\"Accessing a element using key:\")\n",
        "print(Dict[1])"
      ],
      "metadata": {
        "colab": {
          "base_uri": "https://localhost:8080/"
        },
        "id": "52MCJQCiFe2M",
        "outputId": "a6311211-4e67-439a-90bd-58c298cae4c8"
      },
      "execution_count": null,
      "outputs": [
        {
          "output_type": "stream",
          "name": "stdout",
          "text": [
            "Accessing a element using key:\n",
            "jk\n"
          ]
        }
      ]
    },
    {
      "cell_type": "code",
      "source": [
        "Dict = {1: 'jin', 'name': 'For', 3: 'jin'}\n",
        "print(\"Accessing a element using get:\")\n",
        "print(Dict.get(3))\n"
      ],
      "metadata": {
        "colab": {
          "base_uri": "https://localhost:8080/"
        },
        "id": "70BU6iIfFplA",
        "outputId": "b922aedc-cbc0-4265-d0dd-a6515f46e918"
      },
      "execution_count": null,
      "outputs": [
        {
          "output_type": "stream",
          "name": "stdout",
          "text": [
            "Accessing a element using get:\n",
            "jin\n"
          ]
        }
      ]
    },
    {
      "cell_type": "code",
      "source": [
        "Dict = {'Dict1': {1: 'jin'},\n",
        "        'Dict2': {'Name': 'For'}}\n",
        "print(Dict['Dict1'])\n",
        "print(Dict['Dict1'][1])\n",
        "print(Dict['Dict2']['Name'])\n"
      ],
      "metadata": {
        "id": "j6uySXpGF2rx",
        "outputId": "cfdfa75e-f751-4c74-b33c-2fc63bb4c9c1",
        "colab": {
          "base_uri": "https://localhost:8080/"
        }
      },
      "execution_count": null,
      "outputs": [
        {
          "output_type": "stream",
          "name": "stdout",
          "text": [
            "{1: 'jin'}\n",
            "jin\n",
            "For\n"
          ]
        }
      ]
    },
    {
      "cell_type": "code",
      "source": [
        "Dict = { 5 : 'Welcome', 6 : 'To', 7 : 'jk',\n",
        "        'A' : {1 : 'jin', 2 : 'For', 3 : 'jimin'},\n",
        "        'B' : {1 : 'suga', 2 : 'Life'}}\n",
        "print(\"Initial Dictionary: \")\n",
        "print(Dict)"
      ],
      "metadata": {
        "id": "Nj-xvY2vPK2X",
        "outputId": "d198b6ec-6ac2-4a1e-b716-66e55233fcfe",
        "colab": {
          "base_uri": "https://localhost:8080/"
        }
      },
      "execution_count": null,
      "outputs": [
        {
          "output_type": "stream",
          "name": "stdout",
          "text": [
            "Initial Dictionary: \n",
            "{5: 'Welcome', 6: 'To', 7: 'jk', 'A': {1: 'jin', 2: 'For', 3: 'jimin'}, 'B': {1: 'suga', 2: 'Life'}}\n"
          ]
        }
      ]
    },
    {
      "cell_type": "code",
      "source": [
        "del Dict[6]\n",
        "print(\"\\nDeleting a specific key: \")\n",
        "print(Dict)"
      ],
      "metadata": {
        "id": "xI9KR-75Poyj",
        "outputId": "5118cd5b-acfc-4ed3-a2a8-f09dd8db60be",
        "colab": {
          "base_uri": "https://localhost:8080/"
        }
      },
      "execution_count": null,
      "outputs": [
        {
          "output_type": "stream",
          "name": "stdout",
          "text": [
            "\n",
            "Deleting a specific key: \n",
            "{5: 'Welcome', 7: 'jk', 'A': {1: 'jin', 2: 'For', 3: 'jimin'}, 'B': {1: 'suga', 2: 'Life'}}\n"
          ]
        }
      ]
    },
    {
      "cell_type": "code",
      "source": [
        "del Dict['A'][2]\n",
        "print(\"\\nDeleting a key from Nested Dictionary: \")\n",
        "print(Dict)"
      ],
      "metadata": {
        "id": "EP-GQFdRPxkK",
        "outputId": "c2474299-b401-49a7-e485-9380ce4ce796",
        "colab": {
          "base_uri": "https://localhost:8080/"
        }
      },
      "execution_count": null,
      "outputs": [
        {
          "output_type": "stream",
          "name": "stdout",
          "text": [
            "\n",
            "Deleting a key from Nested Dictionary: \n",
            "{5: 'Welcome', 7: 'jk', 'A': {1: 'jin', 3: 'jimin'}, 'B': {1: 'suga', 2: 'Life'}}\n"
          ]
        }
      ]
    },
    {
      "cell_type": "code",
      "source": [
        "Dict = {1: 'Geeks', 'name': 'For', 3: 'Geeks'}\n",
        "Dict.clear()\n",
        "print(\"\\nDeleting Entire Dictionary: \")\n",
        "print(Dict)\n"
      ],
      "metadata": {
        "id": "-tkBkmSjP5Si",
        "outputId": "2ec94c15-97d1-4e24-ef5a-06b0bcefb3f2",
        "colab": {
          "base_uri": "https://localhost:8080/"
        }
      },
      "execution_count": null,
      "outputs": [
        {
          "output_type": "stream",
          "name": "stdout",
          "text": [
            "\n",
            "Deleting Entire Dictionary: \n",
            "{}\n"
          ]
        }
      ]
    },
    {
      "cell_type": "code",
      "source": [
        "values = []\n",
        "for x in range(5):\n",
        "    values.append(x*2)\n",
        "    print(values)"
      ],
      "metadata": {
        "id": "2EjMscYRTQy9",
        "outputId": "d4f68184-a56a-467e-9e63-75cb03a8861f",
        "colab": {
          "base_uri": "https://localhost:8080/"
        }
      },
      "execution_count": null,
      "outputs": [
        {
          "output_type": "stream",
          "name": "stdout",
          "text": [
            "[0]\n",
            "[0, 2]\n",
            "[0, 2, 4]\n",
            "[0, 2, 4, 6]\n",
            "[0, 2, 4, 6, 8]\n"
          ]
        }
      ]
    },
    {
      "cell_type": "code",
      "source": [
        "values ={x*2 for x in range(5)}\n",
        "print(values)"
      ],
      "metadata": {
        "id": "caEzrlYUTg7m",
        "outputId": "3a3a5055-b9b2-4166-94b2-41b56c09ee9c",
        "colab": {
          "base_uri": "https://localhost:8080/"
        }
      },
      "execution_count": null,
      "outputs": [
        {
          "output_type": "stream",
          "name": "stdout",
          "text": [
            "{0, 2, 4, 6, 8}\n"
          ]
        }
      ]
    },
    {
      "cell_type": "code",
      "source": [
        "values = {x:x*2 for x in range(5)}\n",
        "print(values)"
      ],
      "metadata": {
        "id": "nLxcbWvQTsRX",
        "outputId": "9b35dafe-3c97-4718-b769-d7647ae6bf1c",
        "colab": {
          "base_uri": "https://localhost:8080/"
        }
      },
      "execution_count": null,
      "outputs": [
        {
          "output_type": "stream",
          "name": "stdout",
          "text": [
            "{0: 0, 1: 2, 2: 4, 3: 6, 4: 8}\n"
          ]
        }
      ]
    },
    {
      "cell_type": "code",
      "source": [
        "numbers=[1,2,3,4]\n",
        "print(*numbers)\n",
        "print(numbers)"
      ],
      "metadata": {
        "id": "AKBEDo34UCjL",
        "outputId": "8b54d22e-19bd-42fa-af9f-400d478ff702",
        "colab": {
          "base_uri": "https://localhost:8080/"
        }
      },
      "execution_count": 16,
      "outputs": [
        {
          "output_type": "stream",
          "name": "stdout",
          "text": [
            "1 2 3 4\n",
            "[1, 2, 3, 4]\n"
          ]
        }
      ]
    },
    {
      "cell_type": "code",
      "source": [
        "values = list(range(5))\n",
        "values =[*range(5),*'hello']\n",
        "print(values)"
      ],
      "metadata": {
        "id": "kwcQ41HYUUIu",
        "outputId": "26b2aeb1-6105-4b42-d444-3964bb50a4a5",
        "colab": {
          "base_uri": "https://localhost:8080/"
        }
      },
      "execution_count": 17,
      "outputs": [
        {
          "output_type": "stream",
          "name": "stdout",
          "text": [
            "[0, 1, 2, 3, 4, 'h', 'e', 'l', 'l', 'o']\n"
          ]
        }
      ]
    },
    {
      "cell_type": "code",
      "source": [
        "print(\"enter the num1\")\n",
        "num1 = input()\n",
        "print(\"enter the num2\")\n",
        "num2 = input()\n",
        "print(\"the sum of num1 and num2 is\",int(num1)+int(num2))\n",
        "print(\"this line is important\")"
      ],
      "metadata": {
        "id": "0fvybHleUo2F"
      },
      "execution_count": null,
      "outputs": []
    },
    {
      "cell_type": "code",
      "source": [
        "print(\"this line is important\")"
      ],
      "metadata": {
        "id": "vo1j4SVmVSA-",
        "outputId": "a314bffd-103d-4a43-f82d-bf142ac9dc5b",
        "colab": {
          "base_uri": "https://localhost:8080/"
        }
      },
      "execution_count": 19,
      "outputs": [
        {
          "output_type": "stream",
          "name": "stdout",
          "text": [
            "this line is important\n"
          ]
        }
      ]
    }
  ]
}