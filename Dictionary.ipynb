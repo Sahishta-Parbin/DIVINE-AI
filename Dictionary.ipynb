{
  "nbformat": 4,
  "nbformat_minor": 0,
  "metadata": {
    "colab": {
      "name": "Dictionary.ipynb",
      "provenance": [],
      "authorship_tag": "ABX9TyOSiTwINwL8POzSIZC9CGOV",
      "include_colab_link": true
    },
    "kernelspec": {
      "name": "python3",
      "display_name": "Python 3"
    },
    "language_info": {
      "name": "python"
    }
  },
  "cells": [
    {
      "cell_type": "markdown",
      "metadata": {
        "id": "view-in-github",
        "colab_type": "text"
      },
      "source": [
        "<a href=\"https://colab.research.google.com/github/Sahishta-Parbin/DIVINE-AI/blob/main/Dictionary.ipynb\" target=\"_parent\"><img src=\"https://colab.research.google.com/assets/colab-badge.svg\" alt=\"Open In Colab\"/></a>"
      ]
    },
    {
      "cell_type": "code",
      "execution_count": 3,
      "metadata": {
        "colab": {
          "base_uri": "https://localhost:8080/"
        },
        "id": "xcRYDm9-B1jj",
        "outputId": "e518e8a6-a87d-48bf-b2e1-39b2a9e62284"
      },
      "outputs": [
        {
          "output_type": "stream",
          "name": "stdout",
          "text": [
            "\n",
            "Dictionary with the use of Integer Keys: \n",
            "{1: 'jungkook', 2: 'For', 3: 'jungkook'}\n"
          ]
        }
      ],
      "source": [
        "Dict = {1: 'jungkook', 2: 'For', 3: 'jungkook'}\n",
        "print(\"\\nDictionary with the use of Integer Keys: \")\n",
        "print(Dict)"
      ]
    },
    {
      "cell_type": "code",
      "source": [
        "Dict = {'Name': 'jungkook', 1: [1, 2, 3, 4]}\n",
        "print(\"\\nDictionary with the use of Mixed Keys: \")\n",
        "print(Dict)"
      ],
      "metadata": {
        "colab": {
          "base_uri": "https://localhost:8080/"
        },
        "id": "gquMStXCCMUm",
        "outputId": "e1b3ff26-3852-41c1-a310-6d8c8a264dfe"
      },
      "execution_count": 5,
      "outputs": [
        {
          "output_type": "stream",
          "name": "stdout",
          "text": [
            "\n",
            "Dictionary with the use of Mixed Keys: \n",
            "{'Name': 'jungkook', 1: [1, 2, 3, 4]}\n"
          ]
        }
      ]
    },
    {
      "cell_type": "code",
      "source": [
        "Dict = {}\n",
        "print(\"Empty Dictionary: \")\n",
        "print(Dict)\n"
      ],
      "metadata": {
        "colab": {
          "base_uri": "https://localhost:8080/"
        },
        "id": "jZjy0MoXC848",
        "outputId": "d10217ae-1521-4881-9cbe-1fea7b427b5e"
      },
      "execution_count": 7,
      "outputs": [
        {
          "output_type": "stream",
          "name": "stdout",
          "text": [
            "Empty Dictionary: \n",
            "{}\n"
          ]
        }
      ]
    },
    {
      "cell_type": "code",
      "source": [
        "Dict = dict({1: 'Geeks', 2: 'For', 3:'Geeks'})\n",
        "print(\"\\nDictionary with the use of dict(): \")\n",
        "print(Dict)\n"
      ],
      "metadata": {
        "colab": {
          "base_uri": "https://localhost:8080/"
        },
        "id": "t-99M5tlDMFc",
        "outputId": "cb237ae5-6076-4dbf-9bb8-a4238093af34"
      },
      "execution_count": 8,
      "outputs": [
        {
          "output_type": "stream",
          "name": "stdout",
          "text": [
            "\n",
            "Dictionary with the use of dict(): \n",
            "{1: 'Geeks', 2: 'For', 3: 'Geeks'}\n"
          ]
        }
      ]
    },
    {
      "cell_type": "code",
      "source": [
        "Dict = dict([(1, 'Geeks'), (2, 'For')])\n",
        "print(\"\\nDictionary with each item as a pair: \")\n",
        "print(Dict)\n"
      ],
      "metadata": {
        "colab": {
          "base_uri": "https://localhost:8080/"
        },
        "id": "vkMf_ID2DVUZ",
        "outputId": "ebdf9f1b-05e2-4333-c5cf-c0963de39357"
      },
      "execution_count": 9,
      "outputs": [
        {
          "output_type": "stream",
          "name": "stdout",
          "text": [
            "\n",
            "Dictionary with each item as a pair: \n",
            "{1: 'Geeks', 2: 'For'}\n"
          ]
        }
      ]
    },
    {
      "cell_type": "code",
      "source": [
        "Dict = {1: 'jin', 2: 'For',\n",
        "        3:{'A' : 'Welcome', 'B' : 'To', 'C' : 'jin'}}\n",
        "print(Dict)\n"
      ],
      "metadata": {
        "colab": {
          "base_uri": "https://localhost:8080/"
        },
        "id": "3F0o6h3xCjNU",
        "outputId": "0e4ee33e-5794-4ceb-9f66-5e4dd5d51186"
      },
      "execution_count": 6,
      "outputs": [
        {
          "output_type": "stream",
          "name": "stdout",
          "text": [
            "{1: 'jin', 2: 'For', 3: {'A': 'Welcome', 'B': 'To', 'C': 'jin'}}\n"
          ]
        }
      ]
    },
    {
      "cell_type": "code",
      "source": [
        "Dict = {}\n",
        "print(\"Empty Dictionary: \")\n",
        "print(Dict)\n"
      ],
      "metadata": {
        "colab": {
          "base_uri": "https://localhost:8080/"
        },
        "id": "-scCFEGdDein",
        "outputId": "e77f7938-75c8-4d71-a436-074112da42dc"
      },
      "execution_count": 10,
      "outputs": [
        {
          "output_type": "stream",
          "name": "stdout",
          "text": [
            "Empty Dictionary: \n",
            "{}\n"
          ]
        }
      ]
    },
    {
      "cell_type": "code",
      "source": [
        "Dict[0] = 'jk'\n",
        "Dict[2] = 'For'\n",
        "Dict[1] = 1\n",
        "print(\"\\nDictionary after adding 3 elements: \")\n",
        "print(Dict)"
      ],
      "metadata": {
        "colab": {
          "base_uri": "https://localhost:8080/"
        },
        "id": "NzrxbCJjEGlg",
        "outputId": "dffcc2f1-46c6-4a61-8f40-2c2f0861bdb1"
      },
      "execution_count": 14,
      "outputs": [
        {
          "output_type": "stream",
          "name": "stdout",
          "text": [
            "\n",
            "Dictionary after adding 3 elements: \n",
            "{0: 'jk', 2: 'For', 1: 1, 'Value_set': (2, 3, 4)}\n"
          ]
        }
      ]
    },
    {
      "cell_type": "code",
      "source": [
        "Dict['Value_set'] = 2, 3, 4\n",
        "print(\"\\nDictionary after adding 3 elements: \")\n",
        "print(Dict)"
      ],
      "metadata": {
        "colab": {
          "base_uri": "https://localhost:8080/"
        },
        "id": "pBT-dCDFEans",
        "outputId": "b16f1ae6-d0db-4473-97b5-36679fe482e9"
      },
      "execution_count": 12,
      "outputs": [
        {
          "output_type": "stream",
          "name": "stdout",
          "text": [
            "\n",
            "Dictionary after adding 3 elements: \n",
            "{0: 'Geeks', 2: 'For', 1: 1, 'Value_set': (2, 3, 4)}\n"
          ]
        }
      ]
    },
    {
      "cell_type": "code",
      "source": [
        "Dict[2] = 'Welcome'\n",
        "print(\"\\nUpdated key value: \")\n",
        "print(Dict)"
      ],
      "metadata": {
        "colab": {
          "base_uri": "https://localhost:8080/"
        },
        "id": "TbZX1OGjEibM",
        "outputId": "fedd1e64-a1e3-40d2-eef4-aacef30ed1a4"
      },
      "execution_count": 15,
      "outputs": [
        {
          "output_type": "stream",
          "name": "stdout",
          "text": [
            "\n",
            "Updated key value: \n",
            "{0: 'jk', 2: 'Welcome', 1: 1, 'Value_set': (2, 3, 4)}\n"
          ]
        }
      ]
    },
    {
      "cell_type": "code",
      "source": [
        "Dict[5] = {'Nested' :{'1' : 'Life', '2' : 'jk'}}\n",
        "print(\"\\nAdding a Nested Key: \")\n",
        "print(Dict)"
      ],
      "metadata": {
        "colab": {
          "base_uri": "https://localhost:8080/"
        },
        "id": "EHEpYyHIEx5R",
        "outputId": "9694778a-0d00-4a77-aed7-209e5511f5ac"
      },
      "execution_count": 17,
      "outputs": [
        {
          "output_type": "stream",
          "name": "stdout",
          "text": [
            "\n",
            "Adding a Nested Key: \n",
            "{0: 'jk', 2: 'Welcome', 1: 1, 'Value_set': (2, 3, 4), 5: {'Nested': {'1': 'Life', '2': 'jk'}}}\n"
          ]
        }
      ]
    },
    {
      "cell_type": "code",
      "source": [
        "Dict = {1: 'jk', 'name': 'For', 3: 'jk'}\n",
        "print(\"Accessing a element using key:\")\n",
        "print(Dict['name'])\n"
      ],
      "metadata": {
        "colab": {
          "base_uri": "https://localhost:8080/"
        },
        "id": "644CzKWgE-5X",
        "outputId": "92ab0191-204d-473a-a501-201232aac533"
      },
      "execution_count": 19,
      "outputs": [
        {
          "output_type": "stream",
          "name": "stdout",
          "text": [
            "Accessing a element using key:\n",
            "For\n"
          ]
        }
      ]
    },
    {
      "cell_type": "code",
      "source": [
        "print(\"Accessing a element using key:\")\n",
        "print(Dict[1])"
      ],
      "metadata": {
        "colab": {
          "base_uri": "https://localhost:8080/"
        },
        "id": "52MCJQCiFe2M",
        "outputId": "a6311211-4e67-439a-90bd-58c298cae4c8"
      },
      "execution_count": 20,
      "outputs": [
        {
          "output_type": "stream",
          "name": "stdout",
          "text": [
            "Accessing a element using key:\n",
            "jk\n"
          ]
        }
      ]
    },
    {
      "cell_type": "code",
      "source": [
        "Dict = {1: 'jin', 'name': 'For', 3: 'jin'}\n",
        "print(\"Accessing a element using get:\")\n",
        "print(Dict.get(3))\n"
      ],
      "metadata": {
        "colab": {
          "base_uri": "https://localhost:8080/"
        },
        "id": "70BU6iIfFplA",
        "outputId": "b922aedc-cbc0-4265-d0dd-a6515f46e918"
      },
      "execution_count": 21,
      "outputs": [
        {
          "output_type": "stream",
          "name": "stdout",
          "text": [
            "Accessing a element using get:\n",
            "jin\n"
          ]
        }
      ]
    },
    {
      "cell_type": "code",
      "source": [
        ""
      ],
      "metadata": {
        "id": "j6uySXpGF2rx"
      },
      "execution_count": null,
      "outputs": []
    }
  ]
}