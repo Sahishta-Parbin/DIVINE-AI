{
  "nbformat": 4,
  "nbformat_minor": 0,
  "metadata": {
    "colab": {
      "name": "python program 2.ipynb",
      "provenance": [],
      "authorship_tag": "ABX9TyM+bJ3hMYE/3QjtTnsosGq8",
      "include_colab_link": true
    },
    "kernelspec": {
      "name": "python3",
      "display_name": "Python 3"
    },
    "language_info": {
      "name": "python"
    }
  },
  "cells": [
    {
      "cell_type": "markdown",
      "metadata": {
        "id": "view-in-github",
        "colab_type": "text"
      },
      "source": [
        "<a href=\"https://colab.research.google.com/github/Sahishta-Parbin/DIVINE-AI/blob/main/python_program_2.ipynb\" target=\"_parent\"><img src=\"https://colab.research.google.com/assets/colab-badge.svg\" alt=\"Open In Colab\"/></a>"
      ]
    },
    {
      "cell_type": "code",
      "execution_count": 1,
      "metadata": {
        "colab": {
          "base_uri": "https://localhost:8080/"
        },
        "id": "vgPeaktvd_OQ",
        "outputId": "fef5d2a8-8b37-46d3-ab44-175a345d8b5e"
      },
      "outputs": [
        {
          "output_type": "stream",
          "name": "stdout",
          "text": [
            "type of the variables...\n",
            "type of a:  <class 'int'>\n",
            "type of b:  <class 'int'>\n",
            "type of c:  <class 'int'>\n",
            "type of d:  <class 'int'>\n",
            "type of e:  <class 'int'>\n"
          ]
        }
      ],
      "source": [
        "a = 0b1010\n",
        "b = 0b1010\n",
        "c = 0b1010\n",
        "d = 0b1010\n",
        "e = 0b1010\n",
        "\n",
        "print(\"type of the variables...\")\n",
        "print(\"type of a: \", type(a))\n",
        "print(\"type of b: \", type(b))\n",
        "print(\"type of c: \", type(c))\n",
        "print(\"type of d: \", type(d))\n",
        "print(\"type of e: \", type(e))\n"
      ]
    },
    {
      "cell_type": "code",
      "source": [
        "print(\"value of the variables in decimal format...\")\n",
        "print(\"value of a: \", a)\n",
        "print(\"value of b: \", b)\n",
        "print(\"value of c: \", c)\n",
        "print(\"value of d: \", d)\n",
        "print(\"value of e: \", e)\n"
      ],
      "metadata": {
        "colab": {
          "base_uri": "https://localhost:8080/"
        },
        "id": "dN9uPX2Ffuvz",
        "outputId": "80c36eec-6950-4953-91ef-862a5b8ada7b"
      },
      "execution_count": 2,
      "outputs": [
        {
          "output_type": "stream",
          "name": "stdout",
          "text": [
            "value of the variables in decimal format...\n",
            "value of a:  10\n",
            "value of b:  10\n",
            "value of c:  10\n",
            "value of d:  10\n",
            "value of e:  10\n"
          ]
        }
      ]
    },
    {
      "cell_type": "code",
      "source": [
        "print(\"value of the variables in binary format...\")\n",
        "print(\"value of a: \", bin(a))\n",
        "print(\"value of b: \", bin(b))\n",
        "print(\"value of c: \", bin(c))\n",
        "print(\"value of d: \", bin(d))\n",
        "print(\"value of e: \", bin(e))\n"
      ],
      "metadata": {
        "colab": {
          "base_uri": "https://localhost:8080/"
        },
        "id": "Y4RSGa6Jf7k2",
        "outputId": "adfb8d90-36e7-4bd2-c249-7769ab45250d"
      },
      "execution_count": 3,
      "outputs": [
        {
          "output_type": "stream",
          "name": "stdout",
          "text": [
            "value of the variables in binary format...\n",
            "value of a:  0b1010\n",
            "value of b:  0b1010\n",
            "value of c:  0b1010\n",
            "value of d:  0b1010\n",
            "value of e:  0b1010\n"
          ]
        }
      ]
    },
    {
      "cell_type": "code",
      "source": [
        "a = 0o1234567\n",
        "b = 0o1234567\n",
        "c = 0o1234567\n",
        "d = 0o1234567\n",
        "e = 0o1234567\n",
        "\n",
        "print(\"type of the variables...\")\n",
        "print(\"type of a:\", type(a))\n",
        "print(\"type of b:\",type (b))\n",
        "print(\"type of c:\",type(c))\n",
        "print(\"type of d:\", type(d))\n",
        "print(\"type of e:\",type(e))\n",
        "\n"
      ],
      "metadata": {
        "colab": {
          "base_uri": "https://localhost:8080/"
        },
        "id": "K1T7r5pbgOs_",
        "outputId": "40af086c-944f-4eaa-96ab-91bd9bf108e8"
      },
      "execution_count": 7,
      "outputs": [
        {
          "output_type": "stream",
          "name": "stdout",
          "text": [
            "type of the variables...\n",
            "type of a: <class 'int'>\n",
            "type of b: <class 'int'>\n",
            "type of c: <class 'int'>\n",
            "type of d: <class 'int'>\n",
            "type of e: <class 'int'>\n"
          ]
        }
      ]
    },
    {
      "cell_type": "code",
      "source": [
        "print(\"value of the variables in decimal format...\")\n",
        "print(\"value of a: \", a)\n",
        "print(\"value of b: \", b)\n",
        "print(\"value of c: \", c)\n",
        "print(\"value of d: \", d)\n",
        "print(\"value of e: \", e)\n"
      ],
      "metadata": {
        "colab": {
          "base_uri": "https://localhost:8080/"
        },
        "id": "bgD97qrXhkuv",
        "outputId": "77ea2fe6-11ab-4238-9f6e-0391119dabcc"
      },
      "execution_count": 8,
      "outputs": [
        {
          "output_type": "stream",
          "name": "stdout",
          "text": [
            "value of the variables in decimal format...\n",
            "value of a:  342391\n",
            "value of b:  342391\n",
            "value of c:  342391\n",
            "value of d:  342391\n",
            "value of e:  342391\n"
          ]
        }
      ]
    },
    {
      "cell_type": "code",
      "source": [
        "print(\"value of the variables in octal format...\")\n",
        "print(\"value of a: \", oct(a))\n",
        "print(\"value of b: \", oct(b))\n",
        "print(\"value of c: \", oct(c))\n",
        "print(\"value of d: \", oct(d))\n",
        "print(\"value of e: \", oct(e))\n",
        "\n",
        "\n",
        "\n"
      ],
      "metadata": {
        "colab": {
          "base_uri": "https://localhost:8080/"
        },
        "id": "AuRYrbMRhIy9",
        "outputId": "b894f903-08f4-4da5-8916-0da8f734f454"
      },
      "execution_count": 6,
      "outputs": [
        {
          "output_type": "stream",
          "name": "stdout",
          "text": [
            "value of the variables in octal format...\n",
            "value of a:  0o1234567\n",
            "value of b:  0o1234567\n",
            "value of c:  0o1234567\n",
            "value of d:  0o1234567\n",
            "value of e:  0o1234567\n"
          ]
        }
      ]
    },
    {
      "cell_type": "code",
      "source": [
        "a = 0x123\n",
        "a = 0x123\n",
        "a = 0x123\n",
        "a = 0x123\n",
        "a = 0x123\n",
        "\n",
        "print(\"type of the variables...\")\n",
        "print(\"type of a: \", type(a))\n",
        "print(\"type of b: \", type(b))\n",
        "print(\"type of c: \", type(c))\n",
        "print(\"type of d: \", type(d))\n",
        "print(\"type of e: \", type(e))\n"
      ],
      "metadata": {
        "colab": {
          "base_uri": "https://localhost:8080/"
        },
        "id": "8l9ndKybiI2g",
        "outputId": "e8500e2a-e21d-46d7-cd36-e6fc5d2b8d11"
      },
      "execution_count": 9,
      "outputs": [
        {
          "output_type": "stream",
          "name": "stdout",
          "text": [
            "type of the variables...\n",
            "type of a:  <class 'int'>\n",
            "type of b:  <class 'int'>\n",
            "type of c:  <class 'int'>\n",
            "type of d:  <class 'int'>\n",
            "type of e:  <class 'int'>\n"
          ]
        }
      ]
    },
    {
      "cell_type": "code",
      "source": [
        "print(\"value of the variables in decimal format...\")\n",
        "print(\"value of a: \", a)\n",
        "print(\"value of b: \", b)\n",
        "print(\"value of c: \", c)\n",
        "print(\"value of d: \", d)\n",
        "print(\"value of e: \", e)\n"
      ],
      "metadata": {
        "colab": {
          "base_uri": "https://localhost:8080/"
        },
        "id": "gDmNUQ8Vijvm",
        "outputId": "2990d4f1-050b-4ee4-a32a-827a5cba296b"
      },
      "execution_count": 10,
      "outputs": [
        {
          "output_type": "stream",
          "name": "stdout",
          "text": [
            "value of the variables in decimal format...\n",
            "value of a:  291\n",
            "value of b:  342391\n",
            "value of c:  342391\n",
            "value of d:  342391\n",
            "value of e:  342391\n"
          ]
        }
      ]
    },
    {
      "cell_type": "code",
      "source": [
        "print(\"value of the variables in hexadecimal format...\")\n",
        "print(\"value of a: \", hex(a))\n",
        "print(\"value of b: \", hex(b))\n",
        "print(\"value of c: \", hex(c))\n",
        "print(\"value of d: \", hex(d))\n",
        "print(\"value of e: \", hex(e))\n"
      ],
      "metadata": {
        "colab": {
          "base_uri": "https://localhost:8080/"
        },
        "id": "0wAd28whixBA",
        "outputId": "e5c47800-fe7b-4099-f19c-2e5fd04a6d88"
      },
      "execution_count": 11,
      "outputs": [
        {
          "output_type": "stream",
          "name": "stdout",
          "text": [
            "value of the variables in hexadecimal format...\n",
            "value of a:  0x123\n",
            "value of b:  0x53977\n",
            "value of c:  0x53977\n",
            "value of d:  0x53977\n",
            "value of e:  0x53977\n"
          ]
        }
      ]
    }
  ]
}