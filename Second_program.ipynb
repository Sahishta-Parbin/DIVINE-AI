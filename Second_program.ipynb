{
  "nbformat": 4,
  "nbformat_minor": 0,
  "metadata": {
    "colab": {
      "name": "second program.ipynb",
      "provenance": [],
      "authorship_tag": "ABX9TyP2C9PoxvulTcuhlQux9+aA",
      "include_colab_link": true
    },
    "kernelspec": {
      "name": "python3",
      "display_name": "Python 3"
    },
    "language_info": {
      "name": "python"
    }
  },
  "cells": [
    {
      "cell_type": "markdown",
      "metadata": {
        "id": "view-in-github",
        "colab_type": "text"
      },
      "source": [
        "<a href=\"https://colab.research.google.com/github/Sahishta-Parbin/DIVINE-AI/blob/main/Second_program.ipynb\" target=\"_parent\"><img src=\"https://colab.research.google.com/assets/colab-badge.svg\" alt=\"Open In Colab\"/></a>"
      ]
    },
    {
      "cell_type": "code",
      "execution_count": null,
      "metadata": {
        "colab": {
          "base_uri": "https://localhost:8080/"
        },
        "id": "1dHM12eFLULt",
        "outputId": "cf785c3d-eb8b-4b9d-b79d-74002e80061c"
      },
      "outputs": [
        {
          "output_type": "stream",
          "name": "stdout",
          "text": [
            "Hello from python\n"
          ]
        }
      ],
      "source": [
        "print (\"Hello from python\")"
      ]
    },
    {
      "cell_type": "code",
      "source": [
        "print(30)"
      ],
      "metadata": {
        "colab": {
          "base_uri": "https://localhost:8080/"
        },
        "id": "-a7xPSl1LpSN",
        "outputId": "4738ba76-a454-441b-d44a-574ed3aaad56"
      },
      "execution_count": null,
      "outputs": [
        {
          "output_type": "stream",
          "name": "stdout",
          "text": [
            "30\n"
          ]
        }
      ]
    },
    {
      "cell_type": "code",
      "source": [
        "print(2 + 5)"
      ],
      "metadata": {
        "colab": {
          "base_uri": "https://localhost:8080/"
        },
        "id": "9Uin0LTDLx8k",
        "outputId": "8e21fab8-20a7-49c6-d12d-b921d9f0a7d6"
      },
      "execution_count": null,
      "outputs": [
        {
          "output_type": "stream",
          "name": "stdout",
          "text": [
            "7\n"
          ]
        }
      ]
    },
    {
      "cell_type": "code",
      "source": [
        "print(\"The answer:\",38)"
      ],
      "metadata": {
        "colab": {
          "base_uri": "https://localhost:8080/"
        },
        "id": "ZBY8FZCXL-v2",
        "outputId": "1d619f0e-eacf-43c2-bba9-37d05e869ff5"
      },
      "execution_count": null,
      "outputs": [
        {
          "output_type": "stream",
          "name": "stdout",
          "text": [
            "The answer: 38\n"
          ]
        }
      ]
    },
    {
      "cell_type": "code",
      "source": [
        "x = 7\n",
        "print(x)"
      ],
      "metadata": {
        "colab": {
          "base_uri": "https://localhost:8080/"
        },
        "id": "VUc8Vnx-MLUH",
        "outputId": "0b10939a-0cd5-4a43-cd9c-91e5315a4a8f"
      },
      "execution_count": null,
      "outputs": [
        {
          "output_type": "stream",
          "name": "stdout",
          "text": [
            "7\n"
          ]
        }
      ]
    },
    {
      "cell_type": "code",
      "source": [
        "x = 4 + 3\n",
        "print(x)"
      ],
      "metadata": {
        "colab": {
          "base_uri": "https://localhost:8080/"
        },
        "id": "OY0q22iqMlyr",
        "outputId": "9b49513f-dafa-4096-cf69-9ca290b7724c"
      },
      "execution_count": null,
      "outputs": [
        {
          "output_type": "stream",
          "name": "stdout",
          "text": [
            "7\n"
          ]
        }
      ]
    },
    {
      "cell_type": "code",
      "source": [
        "name = \"Rose\"\n",
        "print(name,\"is his name\")"
      ],
      "metadata": {
        "colab": {
          "base_uri": "https://localhost:8080/"
        },
        "id": "RzKtHNytM4QD",
        "outputId": "d6b0ee17-bed2-4ae3-e5f4-6fcd0586ca8f"
      },
      "execution_count": null,
      "outputs": [
        {
          "output_type": "stream",
          "name": "stdout",
          "text": [
            "Rose is his name\n"
          ]
        }
      ]
    },
    {
      "cell_type": "code",
      "source": [
        "8 + 4\n"
      ],
      "metadata": {
        "colab": {
          "base_uri": "https://localhost:8080/"
        },
        "id": "C79TkuPsNVRw",
        "outputId": "a1de54ee-f6b2-4675-b1e3-54e84bfa6a24"
      },
      "execution_count": null,
      "outputs": [
        {
          "output_type": "execute_result",
          "data": {
            "text/plain": [
              "12"
            ]
          },
          "metadata": {},
          "execution_count": 11
        }
      ]
    },
    {
      "cell_type": "code",
      "source": [
        "x=7\n",
        "3*x"
      ],
      "metadata": {
        "colab": {
          "base_uri": "https://localhost:8080/"
        },
        "id": "5FjTg0r5NbTq",
        "outputId": "15c471f8-b919-4cb6-a143-9122f4baef35"
      },
      "execution_count": null,
      "outputs": [
        {
          "output_type": "execute_result",
          "data": {
            "text/plain": [
              "21"
            ]
          },
          "metadata": {},
          "execution_count": 12
        }
      ]
    },
    {
      "cell_type": "code",
      "source": [
        "x = 7\n",
        "y = x * 9\n",
        "print(y)"
      ],
      "metadata": {
        "colab": {
          "base_uri": "https://localhost:8080/"
        },
        "id": "lw329ZrUNnAc",
        "outputId": "5f871523-341f-46f3-cf9c-0b87ddbd5ca2"
      },
      "execution_count": null,
      "outputs": [
        {
          "output_type": "stream",
          "name": "stdout",
          "text": [
            "63\n"
          ]
        }
      ]
    },
    {
      "cell_type": "code",
      "source": [
        "y"
      ],
      "metadata": {
        "colab": {
          "base_uri": "https://localhost:8080/"
        },
        "id": "gomaqzfEN3lc",
        "outputId": "80ab3d28-91c8-46bc-d8e7-148e2d0805fc"
      },
      "execution_count": null,
      "outputs": [
        {
          "output_type": "execute_result",
          "data": {
            "text/plain": [
              "63"
            ]
          },
          "metadata": {},
          "execution_count": 14
        }
      ]
    },
    {
      "cell_type": "code",
      "source": [
        "y = y + 2\n",
        "y"
      ],
      "metadata": {
        "colab": {
          "base_uri": "https://localhost:8080/"
        },
        "id": "SsdivGeUOB9r",
        "outputId": "6869499e-4264-43e5-aae7-5a1648a08649"
      },
      "execution_count": null,
      "outputs": [
        {
          "output_type": "execute_result",
          "data": {
            "text/plain": [
              "65"
            ]
          },
          "metadata": {},
          "execution_count": 15
        }
      ]
    },
    {
      "cell_type": "code",
      "source": [
        "y +=2\n",
        "y"
      ],
      "metadata": {
        "colab": {
          "base_uri": "https://localhost:8080/"
        },
        "id": "GzxzxuxCOInL",
        "outputId": "9bb5c225-b6a3-4bfe-b4cf-5877ae0c2fee"
      },
      "execution_count": null,
      "outputs": [
        {
          "output_type": "execute_result",
          "data": {
            "text/plain": [
              "67"
            ]
          },
          "metadata": {},
          "execution_count": 16
        }
      ]
    },
    {
      "cell_type": "code",
      "source": [
        "a=True\n",
        "b=False\n",
        "print(a,b)\n",
        "\n",
        "x=15>5\n",
        "print(x)"
      ],
      "metadata": {
        "colab": {
          "base_uri": "https://localhost:8080/"
        },
        "id": "znsK_b4rOT74",
        "outputId": "94e70d37-f11f-4bce-bb1f-6bd552a1a8cf"
      },
      "execution_count": null,
      "outputs": [
        {
          "output_type": "stream",
          "name": "stdout",
          "text": [
            "True False\n",
            "True\n"
          ]
        }
      ]
    },
    {
      "cell_type": "code",
      "source": [
        "i = -7\n",
        "j = 120\n",
        "print(i,j)"
      ],
      "metadata": {
        "colab": {
          "base_uri": "https://localhost:8080/"
        },
        "id": "j2CknkUROq28",
        "outputId": "f25015c8-3508-4465-dd9f-49b92757c19c"
      },
      "execution_count": null,
      "outputs": [
        {
          "output_type": "stream",
          "name": "stdout",
          "text": [
            "-7 120\n"
          ]
        }
      ]
    },
    {
      "cell_type": "code",
      "source": [
        "x=3.14509\n",
        "y=-38.8\n",
        "print(x*y)"
      ],
      "metadata": {
        "colab": {
          "base_uri": "https://localhost:8080/"
        },
        "id": "_aU_m6q1O1nW",
        "outputId": "346fcd99-7e56-4c8c-a420-339cb85bf5fc"
      },
      "execution_count": null,
      "outputs": [
        {
          "output_type": "stream",
          "name": "stdout",
          "text": [
            "-122.02949199999999\n"
          ]
        }
      ]
    },
    {
      "cell_type": "code",
      "source": [
        "k=1.5e3\n",
        "l=3e-2\n",
        "print(k)\n",
        "print(l)"
      ],
      "metadata": {
        "colab": {
          "base_uri": "https://localhost:8080/"
        },
        "id": "2T7yA_0aPHLD",
        "outputId": "1b035bbe-14fe-4df2-f505-d38500578b73"
      },
      "execution_count": null,
      "outputs": [
        {
          "output_type": "stream",
          "name": "stdout",
          "text": [
            "1500.0\n",
            "0.03\n"
          ]
        }
      ]
    },
    {
      "cell_type": "code",
      "source": [
        "s=\"string with double quotes\"\n",
        "t=\"string with single quotes\"\n",
        "u=\"it's a string with apostrophes\"\n",
        "\"\"\"A string that extends\n",
        "over multiple lines\"\"\""
      ],
      "metadata": {
        "colab": {
          "base_uri": "https://localhost:8080/",
          "height": 35
        },
        "id": "Y_6_yIyjPrYF",
        "outputId": "b890d622-89ba-4844-cd96-d178f5fb6db7"
      },
      "execution_count": null,
      "outputs": [
        {
          "output_type": "execute_result",
          "data": {
            "application/vnd.google.colaboratory.intrinsic+json": {
              "type": "string"
            },
            "text/plain": [
              "'A string that extends\\nover multiple lines'"
            ]
          },
          "metadata": {},
          "execution_count": 22
        }
      ]
    },
    {
      "cell_type": "code",
      "source": [
        "z=None\n",
        "print(z)"
      ],
      "metadata": {
        "colab": {
          "base_uri": "https://localhost:8080/"
        },
        "id": "zJ7aFWwwRLPa",
        "outputId": "642f6034-7436-478f-b48a-8a7eda916914"
      },
      "execution_count": null,
      "outputs": [
        {
          "output_type": "stream",
          "name": "stdout",
          "text": [
            "None\n"
          ]
        }
      ]
    },
    {
      "cell_type": "code",
      "source": [
        "a=True\n",
        "print(a,\"is of\",type(a))"
      ],
      "metadata": {
        "colab": {
          "base_uri": "https://localhost:8080/"
        },
        "id": "5TPaMP9iRU54",
        "outputId": "8d2a15f4-b02f-4f0e-e42c-f74ccca517ca"
      },
      "execution_count": null,
      "outputs": [
        {
          "output_type": "stream",
          "name": "stdout",
          "text": [
            "True is of <class 'bool'>\n"
          ]
        }
      ]
    },
    {
      "cell_type": "code",
      "source": [
        "j=30\n",
        "print(j,\"is of\",type(a))"
      ],
      "metadata": {
        "colab": {
          "base_uri": "https://localhost:8080/"
        },
        "id": "myn_dbFDRiga",
        "outputId": "aa717e5b-0a92-498e-c2ff-507cf74ce589"
      },
      "execution_count": null,
      "outputs": [
        {
          "output_type": "stream",
          "name": "stdout",
          "text": [
            "30 is of <class 'bool'>\n"
          ]
        }
      ]
    },
    {
      "cell_type": "code",
      "source": [
        "s=29.8\n",
        "print(s,\"is of\",type(s))"
      ],
      "metadata": {
        "colab": {
          "base_uri": "https://localhost:8080/"
        },
        "id": "K_1jSxNaSYH_",
        "outputId": "3fe926fe-526f-4a2c-9a91-4bbfacaddd1b"
      },
      "execution_count": null,
      "outputs": [
        {
          "output_type": "stream",
          "name": "stdout",
          "text": [
            "29.8 is of <class 'float'>\n"
          ]
        }
      ]
    },
    {
      "cell_type": "code",
      "source": [
        "j=\"Music\"\n",
        "print(j,\"is of\",type(j))"
      ],
      "metadata": {
        "colab": {
          "base_uri": "https://localhost:8080/"
        },
        "id": "rnM-UCydSwrJ",
        "outputId": "817e0273-5365-4f34-bcd4-6403a4fb795c"
      },
      "execution_count": null,
      "outputs": [
        {
          "output_type": "stream",
          "name": "stdout",
          "text": [
            "Music is of <class 'str'>\n"
          ]
        }
      ]
    },
    {
      "cell_type": "code",
      "source": [
        "r=\"None\"\n",
        "print(r,\"is of\",type(r))"
      ],
      "metadata": {
        "colab": {
          "base_uri": "https://localhost:8080/"
        },
        "id": "qwvWlqRaTgRx",
        "outputId": "bcff3f54-db36-49c9-df2a-4bbff421b560"
      },
      "execution_count": null,
      "outputs": [
        {
          "output_type": "stream",
          "name": "stdout",
          "text": [
            "None is of <class 'str'>\n"
          ]
        }
      ]
    },
    {
      "cell_type": "code",
      "source": [
        "print(\"Hello\") # this will be ignored\n",
        "# as will this\n",
        "print(\"Goodbye\")\n",
        "# print \"never seen\""
      ],
      "metadata": {
        "colab": {
          "base_uri": "https://localhost:8080/"
        },
        "id": "ZuZcn3hrUGLq",
        "outputId": "73e503b9-2cfa-4f1b-a1dc-731b86884c36"
      },
      "execution_count": null,
      "outputs": [
        {
          "output_type": "stream",
          "name": "stdout",
          "text": [
            "Hello\n",
            "Goodbye\n"
          ]
        }
      ]
    },
    {
      "cell_type": "code",
      "source": [
        "x=7.5\n",
        "y=3\n",
        "\n",
        "print('x=',x,'y=',y)\n",
        "print('Additionx+y=',x+y)\n",
        "print('Substractionx-y',x-y)\n",
        "print('Multiplicationx*y',x*y)\n",
        "print('Divisionx/y',x/y)"
      ],
      "metadata": {
        "colab": {
          "base_uri": "https://localhost:8080/"
        },
        "id": "SeMh5keiUwiq",
        "outputId": "457383f6-6039-4d53-ad5c-98a010dd5692"
      },
      "execution_count": null,
      "outputs": [
        {
          "output_type": "stream",
          "name": "stdout",
          "text": [
            "x= 7.5 y= 3\n",
            "Additionx+y= 10.5\n",
            "Substractionx-y 4.5\n",
            "Multiplicationx*y 22.5\n",
            "Divisionx/y 2.5\n"
          ]
        }
      ]
    },
    {
      "cell_type": "code",
      "source": [
        "x=7.5\n",
        "y=3\n",
        "\n",
        "print('x=',x,'y=',y)\n",
        "print('divisionx/y=',x/y)\n",
        "print('floored divisionx//y',x//y)\n",
        "print(type(x//y))\n",
        "print('modulus(remainder of x/y)x%y=',x%y)\n",
        "print('exponentx**y=',10**2)"
      ],
      "metadata": {
        "colab": {
          "base_uri": "https://localhost:8080/"
        },
        "id": "0lourCFrWZwJ",
        "outputId": "9db71764-f60b-467e-9123-ec9d5c8309e0"
      },
      "execution_count": null,
      "outputs": [
        {
          "output_type": "stream",
          "name": "stdout",
          "text": [
            "x= 7.5 y= 3\n",
            "divisionx/y= 2.5\n",
            "floored divisionx//y 2.0\n",
            "<class 'float'>\n",
            "modulus(remainder of x/y)x%y= 1.5\n",
            "exponentx**y= 100\n"
          ]
        }
      ]
    },
    {
      "cell_type": "code",
      "source": [
        "x=7\n",
        "y=13\n",
        "\n",
        "print('x*(3+y)=',x*(3+y))\n",
        "print('(x*3)+y=',(x*3)+y)\n",
        "print('x*3+y=',x*3+y)\n"
      ],
      "metadata": {
        "id": "uIEwrzzHXnlZ"
      },
      "execution_count": null,
      "outputs": []
    },
    {
      "cell_type": "code",
      "source": [
        "int(7+0.5)"
      ],
      "metadata": {
        "colab": {
          "base_uri": "https://localhost:8080/"
        },
        "id": "xIaWlvzNcot_",
        "outputId": "b89201bd-926b-4b1b-ef96-75f91ab19ee6"
      },
      "execution_count": null,
      "outputs": [
        {
          "output_type": "execute_result",
          "data": {
            "text/plain": [
              "7"
            ]
          },
          "metadata": {},
          "execution_count": 56
        }
      ]
    },
    {
      "cell_type": "code",
      "source": [
        "float(7) + float(3)"
      ],
      "metadata": {
        "colab": {
          "base_uri": "https://localhost:8080/"
        },
        "id": "jN3mgvUccyng",
        "outputId": "410f2b69-0687-46d3-96bd-f72351c9202b"
      },
      "execution_count": null,
      "outputs": [
        {
          "output_type": "execute_result",
          "data": {
            "text/plain": [
              "10.0"
            ]
          },
          "metadata": {},
          "execution_count": 57
        }
      ]
    },
    {
      "cell_type": "code",
      "source": [
        "int(6.123)+2\n",
        "\n",
        "+2+2"
      ],
      "metadata": {
        "colab": {
          "base_uri": "https://localhost:8080/"
        },
        "id": "lYHsZ2osc6eB",
        "outputId": "8989d406-0436-478f-98f5-0299b155e2c1"
      },
      "execution_count": null,
      "outputs": [
        {
          "output_type": "execute_result",
          "data": {
            "text/plain": [
              "4"
            ]
          },
          "metadata": {},
          "execution_count": 60
        }
      ]
    },
    {
      "cell_type": "code",
      "source": [
        "print('Number'+ str(7))\n"
      ],
      "metadata": {
        "colab": {
          "base_uri": "https://localhost:8080/"
        },
        "id": "8C-A44OxdOm6",
        "outputId": "448fd715-ae25-4fd1-c42c-049116e092cf"
      },
      "execution_count": null,
      "outputs": [
        {
          "output_type": "stream",
          "name": "stdout",
          "text": [
            "Number7\n"
          ]
        }
      ]
    },
    {
      "cell_type": "code",
      "source": [
        "user=\"sahishta\"\n",
        "lines=50\n",
        "print(\"congratulations,\"+user+\"!you just wrote\"+str(lines)+\"lines of code.\")"
      ],
      "metadata": {
        "colab": {
          "base_uri": "https://localhost:8080/"
        },
        "id": "DJHYrOwPVFFS",
        "outputId": "25741169-c22e-46a4-ed0e-eea8a0cfca5a"
      },
      "execution_count": 10,
      "outputs": [
        {
          "output_type": "stream",
          "name": "stdout",
          "text": [
            "congratulations,sahishta!you just wrote50lines of code.\n"
          ]
        }
      ]
    },
    {
      "cell_type": "code",
      "source": [
        "print(str(137.7))\n",
        "f=336.7\n",
        "print(str(f))"
      ],
      "metadata": {
        "colab": {
          "base_uri": "https://localhost:8080/"
        },
        "id": "LEDvR9x5WTv4",
        "outputId": "f132aeeb-2c9f-47a4-b5a3-7a458c2572fb"
      },
      "execution_count": 11,
      "outputs": [
        {
          "output_type": "stream",
          "name": "stdout",
          "text": [
            "137.7\n",
            "336.7\n"
          ]
        }
      ]
    },
    {
      "cell_type": "code",
      "source": [
        "f=336.7\n",
        "print(\"sahishta has\"+str(f)+\"points.\")"
      ],
      "metadata": {
        "colab": {
          "base_uri": "https://localhost:8080/"
        },
        "id": "OnnbtKwwWlR4",
        "outputId": "c4c3b1f2-5a2e-4dec-f39c-16bbf39d1f63"
      },
      "execution_count": 12,
      "outputs": [
        {
          "output_type": "stream",
          "name": "stdout",
          "text": [
            "sahishta has336.7points.\n"
          ]
        }
      ]
    },
    {
      "cell_type": "code",
      "source": [
        "lines_yesterday='50'\n",
        "lines_today='108'\n",
        "lines_more=int(lines_today)-int(lines_yesterday)\n",
        "print(lines_more)"
      ],
      "metadata": {
        "colab": {
          "base_uri": "https://localhost:8080/"
        },
        "id": "pe85W1XPXXg3",
        "outputId": "f51d207e-2cd3-4fc3-c17c-bf7c3e2087f3"
      },
      "execution_count": 14,
      "outputs": [
        {
          "output_type": "stream",
          "name": "stdout",
          "text": [
            "58\n"
          ]
        }
      ]
    },
    {
      "cell_type": "code",
      "source": [
        "total_points=\"5524.53\"\n",
        "new_points=\"45.30\"\n",
        "new_total_points=total_points+new_points\n",
        "print(new_total_points)"
      ],
      "metadata": {
        "colab": {
          "base_uri": "https://localhost:8080/"
        },
        "id": "GJ_37mDXYG4T",
        "outputId": "c2a9cde9-b6f4-43a4-e8e3-685abb5a4d0d"
      },
      "execution_count": 18,
      "outputs": [
        {
          "output_type": "stream",
          "name": "stdout",
          "text": [
            "5524.5345.30\n"
          ]
        }
      ]
    },
    {
      "cell_type": "code",
      "source": [
        "total_points=\"5524.53\"\n",
        "new_points=\"45.30\"\n",
        "new_total_points=float(total_points)+float(new_points)\n",
        "print(new_total_points)"
      ],
      "metadata": {
        "colab": {
          "base_uri": "https://localhost:8080/"
        },
        "outputId": "bb6a6b1c-d0cf-432a-ebd1-2cdaf1e1cbee",
        "id": "twi11F8zY3gJ"
      },
      "execution_count": 19,
      "outputs": [
        {
          "output_type": "stream",
          "name": "stdout",
          "text": [
            "5569.83\n"
          ]
        }
      ]
    },
    {
      "cell_type": "code",
      "source": [
        "print(\"3/4=\",3/4)\n",
        "print(\"3.0/4=\",3.0/4)\n",
        "print(\"float(3)/4=\",float(3)/4)"
      ],
      "metadata": {
        "colab": {
          "base_uri": "https://localhost:8080/"
        },
        "id": "M7rzvX1feyoH",
        "outputId": "97440b71-065e-4531-abc5-0ff36fdbfa5b"
      },
      "execution_count": null,
      "outputs": [
        {
          "output_type": "stream",
          "name": "stdout",
          "text": [
            "3/4= 0.75\n",
            "3.0/4= 0.75\n",
            "float(3)/4= 0.75\n"
          ]
        }
      ]
    },
    {
      "cell_type": "code",
      "source": [
        "num=23.45678\n",
        "print(f'My number is:{num:{10}.{2}}')\n",
        "print(f'Number is:{num:10.2f}')\n",
        "\n"
      ],
      "metadata": {
        "colab": {
          "base_uri": "https://localhost:8080/"
        },
        "id": "01sYP1acS41G",
        "outputId": "cc64ea3d-b68b-400f-c42d-099e8e02736c"
      },
      "execution_count": 1,
      "outputs": [
        {
          "output_type": "stream",
          "name": "stdout",
          "text": [
            "My number is:   2.3e+01\n",
            "Number is:     23.46\n"
          ]
        }
      ]
    },
    {
      "cell_type": "code",
      "source": [
        "num=3.4\n",
        "print(f'My number is:{num:{8}.{2}}')\n",
        "print(f'Number is:{num:8.2f}')\n",
        "\n"
      ],
      "metadata": {
        "outputId": "8e07e2c4-4be9-4dd5-ea80-be81fa57376d",
        "colab": {
          "base_uri": "https://localhost:8080/"
        },
        "id": "wXhJpG8yTxuI"
      },
      "execution_count": 4,
      "outputs": [
        {
          "output_type": "stream",
          "name": "stdout",
          "text": [
            "My number is:     3.4\n",
            "Number is:    3.40\n"
          ]
        }
      ]
    },
    {
      "cell_type": "code",
      "source": [
        "num=3.45\n",
        "print(f'My number is:{num:{11}.{2}}')\n",
        "print(f'Number is:{num:11.2f}')\n",
        "\n"
      ],
      "metadata": {
        "outputId": "9e1e6b6f-8dcf-4e2f-a8fd-ee88f3ba0dda",
        "colab": {
          "base_uri": "https://localhost:8080/"
        },
        "id": "xawW6-LHUCzx"
      },
      "execution_count": 7,
      "outputs": [
        {
          "output_type": "stream",
          "name": "stdout",
          "text": [
            "My number is:        3.5\n",
            "Number is:       3.45\n"
          ]
        }
      ]
    },
    {
      "cell_type": "code",
      "source": [
        "gfg = \"12\"\n",
        "#float(gfg) gives 12.0\n",
        "print(float(gfg)+2.0)"
      ],
      "metadata": {
        "colab": {
          "base_uri": "https://localhost:8080/"
        },
        "id": "BqR3yK58UTCY",
        "outputId": "862b68fa-bc0e-44f0-89c0-7fb2f0b64b8b"
      },
      "execution_count": 22,
      "outputs": [
        {
          "output_type": "stream",
          "name": "stdout",
          "text": [
            "14.0\n"
          ]
        }
      ]
    },
    {
      "cell_type": "code",
      "source": [
        "gfg = 100\n",
        "#str(gfg) gives '100'\n",
        "print(str(gfg)+\" is a 3 digit number\")\n",
        "print(str(gfg)+\"200\")"
      ],
      "metadata": {
        "colab": {
          "base_uri": "https://localhost:8080/"
        },
        "id": "L90n3K1kaHGM",
        "outputId": "8a94d213-02ec-44ec-b2c7-bdbc38811d72"
      },
      "execution_count": 26,
      "outputs": [
        {
          "output_type": "stream",
          "name": "stdout",
          "text": [
            "100 is a 3 digit number\n",
            "100200\n"
          ]
        }
      ]
    },
    {
      "cell_type": "code",
      "source": [
        "gfg = 20.0\n",
        "#str(gfg) becomes '20.0'\n",
        "print(str(gfg)+\" is now a string\")\n",
        "print(str(gfg)+\"30.0\")"
      ],
      "metadata": {
        "outputId": "f303a364-f4e6-408a-dfeb-8af48486ad39",
        "colab": {
          "base_uri": "https://localhost:8080/"
        },
        "id": "Y59kI1vubK2_"
      },
      "execution_count": 27,
      "outputs": [
        {
          "output_type": "stream",
          "name": "stdout",
          "text": [
            "20.0 is now a string\n",
            "20.030.0\n"
          ]
        }
      ]
    }
  ]
}