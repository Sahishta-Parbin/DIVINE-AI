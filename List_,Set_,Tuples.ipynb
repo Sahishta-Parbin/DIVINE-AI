{
  "nbformat": 4,
  "nbformat_minor": 0,
  "metadata": {
    "colab": {
      "name": "list ,set ,tuples.ipynb",
      "provenance": [],
      "authorship_tag": "ABX9TyNZXrGA0UtiRkOTGE0/Y+Kw",
      "include_colab_link": true
    },
    "kernelspec": {
      "name": "python3",
      "display_name": "Python 3"
    },
    "language_info": {
      "name": "python"
    }
  },
  "cells": [
    {
      "cell_type": "markdown",
      "metadata": {
        "id": "view-in-github",
        "colab_type": "text"
      },
      "source": [
        "<a href=\"https://colab.research.google.com/github/Sahishta-Parbin/DIVINE-AI/blob/main/List_%2CSet_%2CTuples.ipynb\" target=\"_parent\"><img src=\"https://colab.research.google.com/assets/colab-badge.svg\" alt=\"Open In Colab\"/></a>"
      ]
    },
    {
      "cell_type": "code",
      "execution_count": 1,
      "metadata": {
        "colab": {
          "base_uri": "https://localhost:8080/"
        },
        "id": "4RVqrSmtSLvW",
        "outputId": "b88d0e80-aac8-4466-ada5-e33db422f911"
      },
      "outputs": [
        {
          "output_type": "stream",
          "name": "stdout",
          "text": [
            "hello\n",
            "140586076869744\n"
          ]
        }
      ],
      "source": [
        "name='hello'\n",
        "print (name)\n",
        "print(id(name))"
      ]
    },
    {
      "cell_type": "code",
      "source": [
        "name='hel\"lo'\n",
        "print (name)\n"
      ],
      "metadata": {
        "colab": {
          "base_uri": "https://localhost:8080/"
        },
        "id": "VuNQAIO1S1Jo",
        "outputId": "d5768f96-4efe-4f02-bb32-b67e46bcfd97"
      },
      "execution_count": 3,
      "outputs": [
        {
          "output_type": "stream",
          "name": "stdout",
          "text": [
            "hel\"lo\n"
          ]
        }
      ]
    },
    {
      "cell_type": "code",
      "source": [
        "name=\"hel'lo\"\n",
        "print (name)\n"
      ],
      "metadata": {
        "colab": {
          "base_uri": "https://localhost:8080/"
        },
        "id": "zB98-RtdTCQ_",
        "outputId": "ac354115-f6a5-49a8-9630-922cd4c7fdec"
      },
      "execution_count": 5,
      "outputs": [
        {
          "output_type": "stream",
          "name": "stdout",
          "text": [
            "hel'lo\n"
          ]
        }
      ]
    },
    {
      "cell_type": "code",
      "source": [
        "print(7+3)"
      ],
      "metadata": {
        "colab": {
          "base_uri": "https://localhost:8080/"
        },
        "id": "aitPy4kKTYu4",
        "outputId": "5babbaf5-6269-494e-e4c9-a85613b6e031"
      },
      "execution_count": 6,
      "outputs": [
        {
          "output_type": "stream",
          "name": "stdout",
          "text": [
            "10\n"
          ]
        }
      ]
    },
    {
      "cell_type": "code",
      "source": [
        "print('hi'+'')"
      ],
      "metadata": {
        "colab": {
          "base_uri": "https://localhost:8080/"
        },
        "id": "fchkTHRyTeW6",
        "outputId": "b101598f-1942-475c-a5a5-6b48c638ee93"
      },
      "execution_count": 7,
      "outputs": [
        {
          "output_type": "stream",
          "name": "stdout",
          "text": [
            "hi\n"
          ]
        }
      ]
    },
    {
      "cell_type": "code",
      "source": [
        "print('hi'+'howru')"
      ],
      "metadata": {
        "colab": {
          "base_uri": "https://localhost:8080/"
        },
        "id": "3uV2nkm9TsJu",
        "outputId": "17c3a3fe-2371-40da-d08f-b40284e3bd4d"
      },
      "execution_count": 8,
      "outputs": [
        {
          "output_type": "stream",
          "name": "stdout",
          "text": [
            "hihowru\n"
          ]
        }
      ]
    },
    {
      "cell_type": "code",
      "source": [
        "print(\"7'+*'howru\")"
      ],
      "metadata": {
        "colab": {
          "base_uri": "https://localhost:8080/"
        },
        "id": "E_buAwmgT7KI",
        "outputId": "5312bd74-6e9c-4087-a4df-feedb7140c38"
      },
      "execution_count": 10,
      "outputs": [
        {
          "output_type": "stream",
          "name": "stdout",
          "text": [
            "7'+*'howru\n"
          ]
        }
      ]
    },
    {
      "cell_type": "code",
      "source": [
        "print(7*'+=howru')"
      ],
      "metadata": {
        "colab": {
          "base_uri": "https://localhost:8080/"
        },
        "id": "QAuOkKdoULjx",
        "outputId": "69abe339-b8ca-4c01-c7f5-af2312ed6712"
      },
      "execution_count": 11,
      "outputs": [
        {
          "output_type": "stream",
          "name": "stdout",
          "text": [
            "+=howru+=howru+=howru+=howru+=howru+=howru+=howru\n"
          ]
        }
      ]
    },
    {
      "cell_type": "code",
      "source": [
        "print('-'*100)"
      ],
      "metadata": {
        "colab": {
          "base_uri": "https://localhost:8080/"
        },
        "id": "mxyx9hRSUgS3",
        "outputId": "44582e12-fe58-4c89-ab77-1a36afdc6dd8"
      },
      "execution_count": 13,
      "outputs": [
        {
          "output_type": "stream",
          "name": "stdout",
          "text": [
            "----------------------------------------------------------------------------------------------------\n"
          ]
        }
      ]
    },
    {
      "cell_type": "code",
      "source": [
        "name='hello'\n",
        "name\n",
        "id(name)"
      ],
      "metadata": {
        "colab": {
          "base_uri": "https://localhost:8080/"
        },
        "id": "gGCAk8QRSfwM",
        "outputId": "e2a28bde-5a82-4193-c404-0c1c1bb61f57"
      },
      "execution_count": 2,
      "outputs": [
        {
          "output_type": "execute_result",
          "data": {
            "text/plain": [
              "140586076869744"
            ]
          },
          "metadata": {},
          "execution_count": 2
        }
      ]
    },
    {
      "cell_type": "code",
      "source": [
        "name+='j'\n",
        "print(name)\n",
        "print(id(name))"
      ],
      "metadata": {
        "colab": {
          "base_uri": "https://localhost:8080/"
        },
        "id": "ZC5ZxKzFU8om",
        "outputId": "975f7123-8a87-42d7-f6e5-629b2f3213b7"
      },
      "execution_count": 14,
      "outputs": [
        {
          "output_type": "stream",
          "name": "stdout",
          "text": [
            "hel'loj\n",
            "140586062803376\n"
          ]
        }
      ]
    },
    {
      "cell_type": "code",
      "source": [
        "name +=\"j\"\n",
        "print(name)\n",
        "print(id(name))"
      ],
      "metadata": {
        "colab": {
          "base_uri": "https://localhost:8080/"
        },
        "id": "zE1tRSNDVJVI",
        "outputId": "e9cc4992-6b7e-4e2e-9be0-8930f95f243c"
      },
      "execution_count": 15,
      "outputs": [
        {
          "output_type": "stream",
          "name": "stdout",
          "text": [
            "hel'lojj\n",
            "140586001144048\n"
          ]
        }
      ]
    },
    {
      "cell_type": "code",
      "source": [
        "name +='g'\n",
        "print(name)\n",
        "print(id(name))"
      ],
      "metadata": {
        "colab": {
          "base_uri": "https://localhost:8080/"
        },
        "id": "U5ZBNpNHVlmh",
        "outputId": "42ac07c0-e3e4-44ba-9d06-bd8ce8d6b587"
      },
      "execution_count": 17,
      "outputs": [
        {
          "output_type": "stream",
          "name": "stdout",
          "text": [
            "hel'lojjg\n",
            "140586001318704\n"
          ]
        }
      ]
    },
    {
      "cell_type": "code",
      "source": [
        "name='computer'\n",
        "print(id(name))"
      ],
      "metadata": {
        "colab": {
          "base_uri": "https://localhost:8080/"
        },
        "id": "QpiLNTNCV6Yu",
        "outputId": "cc7a9d21-44e8-4ed1-d4e4-aac38111a6ed"
      },
      "execution_count": 18,
      "outputs": [
        {
          "output_type": "stream",
          "name": "stdout",
          "text": [
            "140586001339888\n"
          ]
        }
      ]
    },
    {
      "cell_type": "code",
      "source": [
        "A = '7'\n",
        "B = A+'1'\n",
        "C = int(A) + int(B)\n",
        "print(C)"
      ],
      "metadata": {
        "colab": {
          "base_uri": "https://localhost:8080/"
        },
        "id": "jlzceJ16WYwf",
        "outputId": "db757131-99ab-4a6f-f175-7c69915fe3c1"
      },
      "execution_count": 20,
      "outputs": [
        {
          "output_type": "stream",
          "name": "stdout",
          "text": [
            "78\n"
          ]
        }
      ]
    },
    {
      "cell_type": "code",
      "source": [
        "A = '10'\n",
        "B = A+'1'\n",
        "C = int(A) + int(B)\n",
        "print(C)"
      ],
      "metadata": {
        "colab": {
          "base_uri": "https://localhost:8080/"
        },
        "id": "UdFxIIepWuzx",
        "outputId": "2580677c-3444-4678-c89d-885cfa914c8c"
      },
      "execution_count": 21,
      "outputs": [
        {
          "output_type": "stream",
          "name": "stdout",
          "text": [
            "111\n"
          ]
        }
      ]
    },
    {
      "cell_type": "code",
      "source": [
        "List = [1,2,3,4,5,tuple]\n",
        "print(List)"
      ],
      "metadata": {
        "colab": {
          "base_uri": "https://localhost:8080/"
        },
        "id": "NyNHj7Spb7KK",
        "outputId": "4e729ab1-a458-45d9-c167-129d3ee863cd"
      },
      "execution_count": 37,
      "outputs": [
        {
          "output_type": "stream",
          "name": "stdout",
          "text": [
            "[1, 2, 3, 4, 5, (1, 2, 'hi', [20, 2, 3, 7, 5])]\n"
          ]
        }
      ]
    },
    {
      "cell_type": "code",
      "source": [
        "List = [1,2,'howru',4,5,tuple]\n",
        "print(List)"
      ],
      "metadata": {
        "colab": {
          "base_uri": "https://localhost:8080/"
        },
        "id": "rTVf-NfHcXhx",
        "outputId": "cca93243-813b-4a0d-a76d-205f4e923974"
      },
      "execution_count": 40,
      "outputs": [
        {
          "output_type": "stream",
          "name": "stdout",
          "text": [
            "[1, 2, 'howru', 4, 5, (1, 2, 'hi', [20, 2, 3, 7, 5])]\n"
          ]
        }
      ]
    },
    {
      "cell_type": "code",
      "source": [
        "List = [1,2,'howru',4,5,tuple,List]\n",
        "print(List)"
      ],
      "metadata": {
        "colab": {
          "base_uri": "https://localhost:8080/"
        },
        "id": "fMk-Ur8Bc04H",
        "outputId": "5507c86f-3fa5-4a4a-da1a-ab6171eb6832"
      },
      "execution_count": 41,
      "outputs": [
        {
          "output_type": "stream",
          "name": "stdout",
          "text": [
            "[1, 2, 'howru', 4, 5, (1, 2, 'hi', [20, 2, 3, 7, 5]), [1, 2, 'howru', 4, 5, (1, 2, 'hi', [20, 2, 3, 7, 5])]]\n"
          ]
        }
      ]
    },
    {
      "cell_type": "code",
      "source": [
        "List = [1,2,3,'howru',5,tuple,List]\n",
        "print(List)"
      ],
      "metadata": {
        "colab": {
          "base_uri": "https://localhost:8080/"
        },
        "id": "hrk54DDBdCtw",
        "outputId": "ee4baa2e-1ca1-49a9-9f87-eedec2269971"
      },
      "execution_count": 42,
      "outputs": [
        {
          "output_type": "stream",
          "name": "stdout",
          "text": [
            "[1, 2, 3, 'howru', 5, (1, 2, 'hi', [20, 2, 3, 7, 5]), [1, 2, 'howru', 4, 5, (1, 2, 'hi', [20, 2, 3, 7, 5]), [1, 2, 'howru', 4, 5, (1, 2, 'hi', [20, 2, 3, 7, 5])]]]\n"
          ]
        }
      ]
    },
    {
      "cell_type": "code",
      "source": [
        "List = [1,2,3,4,5]\n",
        "print(List)"
      ],
      "metadata": {
        "colab": {
          "base_uri": "https://localhost:8080/"
        },
        "id": "QERSrNo9X1RQ",
        "outputId": "35e4a4a1-5ae1-4f63-c696-9cd6ff5018b0"
      },
      "execution_count": 27,
      "outputs": [
        {
          "output_type": "stream",
          "name": "stdout",
          "text": [
            "[1, 2, 3, 4, 5]\n"
          ]
        }
      ]
    },
    {
      "cell_type": "code",
      "source": [
        "List[0]=20\n",
        "print(List)"
      ],
      "metadata": {
        "colab": {
          "base_uri": "https://localhost:8080/"
        },
        "id": "2d_P8B0nYGU8",
        "outputId": "b08acd60-e025-4573-c8fd-46ed9855f3d8"
      },
      "execution_count": 39,
      "outputs": [
        {
          "output_type": "stream",
          "name": "stdout",
          "text": [
            "[20, 2, 3, 4, 5, (1, 2, 'hi', [20, 2, 3, 7, 5])]\n"
          ]
        }
      ]
    },
    {
      "cell_type": "code",
      "source": [
        "List[3] = 7\n",
        "print(List)"
      ],
      "metadata": {
        "colab": {
          "base_uri": "https://localhost:8080/"
        },
        "id": "AKx2QIPcYQv2",
        "outputId": "b1382abd-ec02-492d-997f-17f52d347dbb"
      },
      "execution_count": 29,
      "outputs": [
        {
          "output_type": "stream",
          "name": "stdout",
          "text": [
            "[20, 2, 3, 7, 5]\n"
          ]
        }
      ]
    },
    {
      "cell_type": "code",
      "source": [
        "tuple =(1,2,3,4,5)\n",
        "print(tuple)"
      ],
      "metadata": {
        "colab": {
          "base_uri": "https://localhost:8080/"
        },
        "id": "IJ7Czo3OY1fL",
        "outputId": "b9bad29c-d5c9-4f5a-a305-93221ea96907"
      },
      "execution_count": 33,
      "outputs": [
        {
          "output_type": "stream",
          "name": "stdout",
          "text": [
            "(1, 2, 3, 4, 5)\n"
          ]
        }
      ]
    },
    {
      "cell_type": "code",
      "source": [
        "tuple=(1,2,'hi',List)\n",
        "print(tuple)"
      ],
      "metadata": {
        "colab": {
          "base_uri": "https://localhost:8080/"
        },
        "id": "b0wm6fs6brIo",
        "outputId": "48e967b0-e1b4-4b80-be9f-2d5e757204e8"
      },
      "execution_count": 36,
      "outputs": [
        {
          "output_type": "stream",
          "name": "stdout",
          "text": [
            "(1, 2, 'hi', [20, 2, 3, 7, 5])\n"
          ]
        }
      ]
    },
    {
      "cell_type": "code",
      "source": [
        "print(tuple[0])"
      ],
      "metadata": {
        "colab": {
          "base_uri": "https://localhost:8080/"
        },
        "id": "qFthC5p_dS5B",
        "outputId": "ac87ae71-0456-455d-aa66-17d1ad5359ca"
      },
      "execution_count": 47,
      "outputs": [
        {
          "output_type": "stream",
          "name": "stdout",
          "text": [
            "1\n"
          ]
        }
      ]
    },
    {
      "cell_type": "code",
      "source": [
        "print(tuple[2][1])"
      ],
      "metadata": {
        "colab": {
          "base_uri": "https://localhost:8080/"
        },
        "id": "6AnwA31Md1_N",
        "outputId": "5a8a6cea-5dc7-4f30-f194-322344a452c5"
      },
      "execution_count": 48,
      "outputs": [
        {
          "output_type": "stream",
          "name": "stdout",
          "text": [
            "i\n"
          ]
        }
      ]
    },
    {
      "cell_type": "code",
      "source": [
        "sub = 'a'in 'ram'\n",
        "print(sub)"
      ],
      "metadata": {
        "colab": {
          "base_uri": "https://localhost:8080/"
        },
        "id": "-NKuvWn5gxTi",
        "outputId": "ac401c28-21d4-40d0-e191-17367502011c"
      },
      "execution_count": 53,
      "outputs": [
        {
          "output_type": "stream",
          "name": "stdout",
          "text": [
            "True\n"
          ]
        }
      ]
    },
    {
      "cell_type": "code",
      "source": [
        "sub = 'a' not in 'ram'\n",
        "print(sub)\n"
      ],
      "metadata": {
        "colab": {
          "base_uri": "https://localhost:8080/"
        },
        "id": "bleDzSJIg5DK",
        "outputId": "a2af392b-a7cc-4d09-e3de-9ff92736b456"
      },
      "execution_count": 55,
      "outputs": [
        {
          "output_type": "stream",
          "name": "stdout",
          "text": [
            "False\n"
          ]
        }
      ]
    },
    {
      "cell_type": "code",
      "source": [
        "sub = 't' in 'ram'\n",
        "print(sub)\n"
      ],
      "metadata": {
        "colab": {
          "base_uri": "https://localhost:8080/"
        },
        "id": "eJxGDH1phFFf",
        "outputId": "334ddc1e-c20b-4411-a001-f2d8de2f9bcd"
      },
      "execution_count": 56,
      "outputs": [
        {
          "output_type": "stream",
          "name": "stdout",
          "text": [
            "False\n"
          ]
        }
      ]
    },
    {
      "cell_type": "code",
      "source": [
        "sub = 't' not in 'ram'\n",
        "print(sub)"
      ],
      "metadata": {
        "colab": {
          "base_uri": "https://localhost:8080/"
        },
        "id": "PJGSRzJ_hORU",
        "outputId": "8c7b6dff-c00e-4923-e473-b5e6d1bfe296"
      },
      "execution_count": 57,
      "outputs": [
        {
          "output_type": "stream",
          "name": "stdout",
          "text": [
            "True\n"
          ]
        }
      ]
    },
    {
      "cell_type": "code",
      "source": [
        "name = \"Bts\"\n",
        "name[2]"
      ],
      "metadata": {
        "colab": {
          "base_uri": "https://localhost:8080/",
          "height": 35
        },
        "id": "QfVWyvIOh3i7",
        "outputId": "845d8a3c-352d-45d5-8f57-b5b80e3e060c"
      },
      "execution_count": 58,
      "outputs": [
        {
          "output_type": "execute_result",
          "data": {
            "application/vnd.google.colaboratory.intrinsic+json": {
              "type": "string"
            },
            "text/plain": [
              "'s'"
            ]
          },
          "metadata": {},
          "execution_count": 58
        }
      ]
    },
    {
      "cell_type": "code",
      "source": [
        "name = \"Bts\"\n",
        "name[-1]"
      ],
      "metadata": {
        "colab": {
          "base_uri": "https://localhost:8080/",
          "height": 35
        },
        "id": "TflQgpmEiEep",
        "outputId": "3299d6c6-37eb-4285-b7d8-ee9ca1bece15"
      },
      "execution_count": 59,
      "outputs": [
        {
          "output_type": "execute_result",
          "data": {
            "application/vnd.google.colaboratory.intrinsic+json": {
              "type": "string"
            },
            "text/plain": [
              "'s'"
            ]
          },
          "metadata": {},
          "execution_count": 59
        }
      ]
    },
    {
      "cell_type": "code",
      "source": [
        "name = \"Bts\"\n",
        "name[:1]"
      ],
      "metadata": {
        "colab": {
          "base_uri": "https://localhost:8080/",
          "height": 35
        },
        "id": "BvCZyjyLiJGQ",
        "outputId": "06ceac4e-6524-4c67-a729-614c8d5d1641"
      },
      "execution_count": 60,
      "outputs": [
        {
          "output_type": "execute_result",
          "data": {
            "application/vnd.google.colaboratory.intrinsic+json": {
              "type": "string"
            },
            "text/plain": [
              "'B'"
            ]
          },
          "metadata": {},
          "execution_count": 60
        }
      ]
    },
    {
      "cell_type": "code",
      "source": [
        "name = \"Bts\"\n",
        "name[1:]"
      ],
      "metadata": {
        "colab": {
          "base_uri": "https://localhost:8080/",
          "height": 35
        },
        "id": "utaY_VvuiPxr",
        "outputId": "937e581c-dbc0-4e9d-bcd1-2fb438e8ba00"
      },
      "execution_count": 61,
      "outputs": [
        {
          "output_type": "execute_result",
          "data": {
            "application/vnd.google.colaboratory.intrinsic+json": {
              "type": "string"
            },
            "text/plain": [
              "'ts'"
            ]
          },
          "metadata": {},
          "execution_count": 61
        }
      ]
    },
    {
      "cell_type": "code",
      "source": [
        "name = \"Bts\"\n",
        "name[1:0]"
      ],
      "metadata": {
        "colab": {
          "base_uri": "https://localhost:8080/",
          "height": 35
        },
        "id": "bh9wY7F4iWNE",
        "outputId": "218a2997-1c91-49ee-9fcb-d970f87752d1"
      },
      "execution_count": 63,
      "outputs": [
        {
          "output_type": "execute_result",
          "data": {
            "application/vnd.google.colaboratory.intrinsic+json": {
              "type": "string"
            },
            "text/plain": [
              "''"
            ]
          },
          "metadata": {},
          "execution_count": 63
        }
      ]
    },
    {
      "cell_type": "code",
      "source": [
        "animals = [\"dog\",\"cat\",\"pig\"]\n",
        "animals[1][-2]"
      ],
      "metadata": {
        "colab": {
          "base_uri": "https://localhost:8080/",
          "height": 35
        },
        "id": "Dh08jPLdijVC",
        "outputId": "8afa7872-e5ac-4d0b-a41b-e6c7a9e25fe6"
      },
      "execution_count": 66,
      "outputs": [
        {
          "output_type": "execute_result",
          "data": {
            "application/vnd.google.colaboratory.intrinsic+json": {
              "type": "string"
            },
            "text/plain": [
              "'a'"
            ]
          },
          "metadata": {},
          "execution_count": 66
        }
      ]
    },
    {
      "cell_type": "code",
      "source": [
        "animals = ['cat','dog','pig']\n",
        "animals[2]='rabbit'\n",
        "print(animals)"
      ],
      "metadata": {
        "colab": {
          "base_uri": "https://localhost:8080/"
        },
        "id": "4xQm9xT7jEM6",
        "outputId": "150ef920-a152-4c9f-c9e1-94e347c05f00"
      },
      "execution_count": 67,
      "outputs": [
        {
          "output_type": "stream",
          "name": "stdout",
          "text": [
            "['cat', 'dog', 'rabbit']\n"
          ]
        }
      ]
    },
    {
      "cell_type": "code",
      "source": [
        "animals=['cat','dog','pig','frog']\n",
        "animals.append('turtle')\n",
        "print(animals)\n"
      ],
      "metadata": {
        "colab": {
          "base_uri": "https://localhost:8080/"
        },
        "id": "PDXbFK4qi7DU",
        "outputId": "14b96b70-1c9d-4d24-f4b9-f0d69ee2904a"
      },
      "execution_count": 70,
      "outputs": [
        {
          "output_type": "stream",
          "name": "stdout",
          "text": [
            "['cat', 'dog', 'pig', 'frog', 'turtle']\n"
          ]
        }
      ]
    },
    {
      "cell_type": "code",
      "source": [
        "animals=['cat','dog','pig','frog']\n",
        "animals.insert(3,'fish')\n",
        "print(animals)\n"
      ],
      "metadata": {
        "colab": {
          "base_uri": "https://localhost:8080/"
        },
        "id": "a9_2A1nUkVWO",
        "outputId": "ffe2c499-891d-413a-fe0f-600860b9154a"
      },
      "execution_count": 71,
      "outputs": [
        {
          "output_type": "stream",
          "name": "stdout",
          "text": [
            "['cat', 'dog', 'pig', 'fish', 'frog']\n"
          ]
        }
      ]
    },
    {
      "cell_type": "code",
      "source": [
        "animals=['cat','dog','pig','frog']\n",
        "animals.remove('cat')\n",
        "print(animals)\n"
      ],
      "metadata": {
        "colab": {
          "base_uri": "https://localhost:8080/"
        },
        "id": "gtkDRx4Uj3Oo",
        "outputId": "6121a828-b586-4886-abb7-562509efaa42"
      },
      "execution_count": 72,
      "outputs": [
        {
          "output_type": "stream",
          "name": "stdout",
          "text": [
            "['dog', 'pig', 'frog']\n"
          ]
        }
      ]
    },
    {
      "cell_type": "code",
      "source": [
        "animals=['cat','dog','pig','frog','dog','pig']\n",
        "animals.count('dog')"
      ],
      "metadata": {
        "colab": {
          "base_uri": "https://localhost:8080/"
        },
        "id": "6RNTWMMdk0h5",
        "outputId": "868a2640-4402-4031-d288-90712ce78a7d"
      },
      "execution_count": 73,
      "outputs": [
        {
          "output_type": "execute_result",
          "data": {
            "text/plain": [
              "2"
            ]
          },
          "metadata": {},
          "execution_count": 73
        }
      ]
    },
    {
      "cell_type": "code",
      "source": [
        "animals=['cat','dog','pig','frog','dog','pig']\n",
        "animals.reverse()\n",
        "print(animals)"
      ],
      "metadata": {
        "colab": {
          "base_uri": "https://localhost:8080/"
        },
        "id": "0JwaPRN-mDGI",
        "outputId": "60648c73-54e4-4e78-cf7e-a6f4eb3a0c39"
      },
      "execution_count": 74,
      "outputs": [
        {
          "output_type": "stream",
          "name": "stdout",
          "text": [
            "['pig', 'dog', 'frog', 'pig', 'dog', 'cat']\n"
          ]
        }
      ]
    },
    {
      "cell_type": "code",
      "source": [
        "animals=['cat','dog','pig','frog','dog','pig']\n",
        "animals.sort()\n",
        "print(animals)"
      ],
      "metadata": {
        "colab": {
          "base_uri": "https://localhost:8080/"
        },
        "id": "g88jh0U9mPtL",
        "outputId": "023652e1-676a-4304-afe1-7aade4fe0a87"
      },
      "execution_count": 75,
      "outputs": [
        {
          "output_type": "stream",
          "name": "stdout",
          "text": [
            "['cat', 'dog', 'dog', 'frog', 'pig', 'pig']\n"
          ]
        }
      ]
    },
    {
      "cell_type": "code",
      "source": [
        "Friends=[]\n",
        "name= input(\"Enter a friend's name or DONE:\")\n",
        "while(name!= \"DONE\"):\n",
        "      Friends.append(name)\n",
        "      Friends.sort(name)\n",
        "      print(Friends)\n",
        "      name= input(\"Enter a friend's name or DONE:\")\n"
      ],
      "metadata": {
        "colab": {
          "base_uri": "https://localhost:8080/"
        },
        "id": "TePvqYYBmXdz",
        "outputId": "b40184a7-35a3-45c6-adc1-8a227917befa"
      },
      "execution_count": 5,
      "outputs": [
        {
          "name": "stdout",
          "output_type": "stream",
          "text": [
            "Enter a friend's name or DONE:DONE\n"
          ]
        }
      ]
    },
    {
      "cell_type": "code",
      "source": [
        "cloths = [['top','blue','short slevee'], ['top','red','graphic telephone'], ['bottom','blue','fashion jeans']]\n",
        "print(cloths)"
      ],
      "metadata": {
        "colab": {
          "base_uri": "https://localhost:8080/"
        },
        "id": "ocLNCz1Ln8Yx",
        "outputId": "311b648a-6861-436b-b276-571c647142d4"
      },
      "execution_count": 6,
      "outputs": [
        {
          "output_type": "stream",
          "name": "stdout",
          "text": [
            "[['top', 'blue', 'short slevee'], ['top', 'red', 'graphic telephone'], ['bottom', 'blue', 'fashion jeans']]\n"
          ]
        }
      ]
    },
    {
      "cell_type": "code",
      "source": [
        "cloths = [['top','blue','short slevee'], ['top','red','graphic telephone'], ['bottom','blue','fashion jeans']]\n",
        "print(cloths)"
      ],
      "metadata": {
        "colab": {
          "base_uri": "https://localhost:8080/"
        },
        "id": "ndZ5g0PcpJ_L",
        "outputId": "a5e7d496-21d9-4e85-ae30-fb6c1ff74cea"
      },
      "execution_count": 10,
      "outputs": [
        {
          "output_type": "stream",
          "name": "stdout",
          "text": [
            "['top', 'red', 'graphic telephone']\n"
          ]
        }
      ]
    },
    {
      "cell_type": "code",
      "source": [
        "cloths=[['top','blue','short slevee'], ['top','red','graphic telephone'], ['bottom','blue','fashion jeans']]\n",
        "print(cloths[1][0])"
      ],
      "metadata": {
        "colab": {
          "base_uri": "https://localhost:8080/"
        },
        "id": "gvRA6qUwpYb5",
        "outputId": "ff040a30-1ad6-4228-8292-09245e77e57c"
      },
      "execution_count": 12,
      "outputs": [
        {
          "output_type": "stream",
          "name": "stdout",
          "text": [
            "top\n"
          ]
        }
      ]
    },
    {
      "cell_type": "code",
      "source": [
        "cloths.append(['dress','black','cocktail'])\n",
        "print(cloths)"
      ],
      "metadata": {
        "colab": {
          "base_uri": "https://localhost:8080/"
        },
        "id": "KwufgMZYph5c",
        "outputId": "5c5fdbe0-1c41-4f81-a276-7f70a20288ca"
      },
      "execution_count": 13,
      "outputs": [
        {
          "output_type": "stream",
          "name": "stdout",
          "text": [
            "[['top', 'blue', 'short slevee'], ['top', 'red', 'graphic telephone'], ['bottom', 'blue', 'fashion jeans'], ['dress', 'black', 'cocktail']]\n"
          ]
        }
      ]
    }
  ]
}