{
  "nbformat": 4,
  "nbformat_minor": 0,
  "metadata": {
    "colab": {
      "name": "Python program 1.ipynb",
      "provenance": [],
      "authorship_tag": "ABX9TyNixvJ+xHlvc5yl9RoA+qGu",
      "include_colab_link": true
    },
    "kernelspec": {
      "name": "python3",
      "display_name": "Python 3"
    },
    "language_info": {
      "name": "python"
    }
  },
  "cells": [
    {
      "cell_type": "markdown",
      "metadata": {
        "id": "view-in-github",
        "colab_type": "text"
      },
      "source": [
        "<a href=\"https://colab.research.google.com/github/Sahishta-Parbin/DIVINE-AI/blob/main/Python_program_1.ipynb\" target=\"_parent\"><img src=\"https://colab.research.google.com/assets/colab-badge.svg\" alt=\"Open In Colab\"/></a>"
      ]
    },
    {
      "cell_type": "code",
      "execution_count": 2,
      "metadata": {
        "colab": {
          "base_uri": "https://localhost:8080/"
        },
        "id": "cMkEZ49e7ntS",
        "outputId": "dc44986f-4e9b-4a92-8ff4-061fb90b8e87"
      },
      "outputs": [
        {
          "output_type": "stream",
          "name": "stdout",
          "text": [
            "12\n",
            "12.56\n",
            "Hello\n",
            "True\n"
          ]
        }
      ],
      "source": [
        "print(12)\n",
        "print(12.56)\n",
        "print(\"Hello\")\n",
        "print(True)\n"
      ]
    },
    {
      "cell_type": "code",
      "source": [
        "print(12+30)\n",
        "print(12.56+12.45)\n",
        "print(\"Hello\" + \"World\")\n",
        "print(True+False)\n"
      ],
      "metadata": {
        "colab": {
          "base_uri": "https://localhost:8080/"
        },
        "id": "cZ-FuZf3_Wgc",
        "outputId": "75b3f683-4eb8-47c0-9c61-935427a49738"
      },
      "execution_count": 3,
      "outputs": [
        {
          "output_type": "stream",
          "name": "stdout",
          "text": [
            "42\n",
            "25.009999999999998\n",
            "HelloWorld\n",
            "1\n"
          ]
        }
      ]
    },
    {
      "cell_type": "code",
      "source": [
        "a =12\n",
        "b =12.56\n",
        "c =(\"Hello\")\n",
        "d =True\n",
        "\n",
        "print(a)\n",
        "print(b)\n",
        "print(c)\n",
        "print(d)\n"
      ],
      "metadata": {
        "colab": {
          "base_uri": "https://localhost:8080/"
        },
        "id": "vuO0DlLK_rTy",
        "outputId": "b4bea7b0-976a-4fbf-a48f-c2d47ffb61f7"
      },
      "execution_count": 4,
      "outputs": [
        {
          "output_type": "stream",
          "name": "stdout",
          "text": [
            "12\n",
            "12.56\n",
            "Hello\n",
            "True\n"
          ]
        }
      ]
    },
    {
      "cell_type": "code",
      "source": [
        "a =12\n",
        "b =12.56\n",
        "c =(\"Hello\")\n",
        "d =True\n",
        "\n",
        "print(\"Integer\\t:\",a)\n",
        "print(\"Float\\t:\",b)\n",
        "print(\"String\\t:\",c)\n",
        "print(\"Boolean\\t\",d)\n"
      ],
      "metadata": {
        "colab": {
          "base_uri": "https://localhost:8080/"
        },
        "id": "vQXs90d3ATO2",
        "outputId": "007280d9-2fea-4818-cb44-dd9470c833f3"
      },
      "execution_count": 5,
      "outputs": [
        {
          "output_type": "stream",
          "name": "stdout",
          "text": [
            "Integer\t: 12\n",
            "Float\t: 12.56\n",
            "String\t: Hello\n",
            "Boolean\t True\n"
          ]
        }
      ]
    },
    {
      "cell_type": "code",
      "source": [
        "a =12\n",
        "b =12.56\n",
        "c =(\"Hello\")\n",
        "d =True\n",
        "\n",
        "print(\"Integer\\t:\" +str(a))\n",
        "print(\"Float\\t:\" +str(b))\n",
        "print(\"String\\t:\" +str(c))\n",
        "print(\"Boolean\\t\" +str(d))\n"
      ],
      "metadata": {
        "colab": {
          "base_uri": "https://localhost:8080/"
        },
        "id": "RqdPnx8jBBcY",
        "outputId": "d51f94d1-402e-4983-e1b0-7708fe85a483"
      },
      "execution_count": 6,
      "outputs": [
        {
          "output_type": "stream",
          "name": "stdout",
          "text": [
            "Integer\t:12\n",
            "Float\t:12.56\n",
            "String\t:Hello\n",
            "Boolean\tTrue\n"
          ]
        }
      ]
    },
    {
      "cell_type": "code",
      "source": [
        "print(\"Numbers\")\n",
        "print(\"---------------------------------\")\n",
        "a = 7\n",
        "print(type(a),id(a),a)\n",
        "a = 23.6\n",
        "print(type(a),id(a),a)\n",
        "a = 2 + 3j\n",
        "print(type(a),id(a),a)\n"
      ],
      "metadata": {
        "colab": {
          "base_uri": "https://localhost:8080/"
        },
        "id": "7Cr59gdhBcWZ",
        "outputId": "657eadf8-1c0d-484b-ac1d-5b2a219a56cd"
      },
      "execution_count": 7,
      "outputs": [
        {
          "output_type": "stream",
          "name": "stdout",
          "text": [
            "Numbers\n",
            "---------------------------------\n",
            "<class 'int'> 94198771063488 7\n",
            "<class 'float'> 140391069927312 23.6\n",
            "<class 'complex'> 140391069929136 (2+3j)\n"
          ]
        }
      ]
    },
    {
      "cell_type": "code",
      "source": [
        "print(\"\\nText\")\n",
        "print(\"---------------------------------\")\n",
        "a='h'\n",
        "print(type(a),id(a),a)\n",
        "a=\"h\"\n",
        "print(type(a),id(a),a)\n",
        "a='hello'\n",
        "print(type(a),id(a),a)\n",
        "a=\"hello\"\n",
        "print(type(a),id(a),a)\n",
        "\n"
      ],
      "metadata": {
        "colab": {
          "base_uri": "https://localhost:8080/"
        },
        "id": "c0pgjfRMCV-a",
        "outputId": "db77205c-435f-48d7-de70-78e8cf48ea8c"
      },
      "execution_count": 8,
      "outputs": [
        {
          "output_type": "stream",
          "name": "stdout",
          "text": [
            "\n",
            "Text\n",
            "---------------------------------\n",
            "<class 'str'> 140391725703728 h\n",
            "<class 'str'> 140391725703728 h\n",
            "<class 'str'> 140391167341296 hello\n",
            "<class 'str'> 140391167341296 hello\n"
          ]
        }
      ]
    },
    {
      "cell_type": "code",
      "source": [
        "print(\"\\nBoolean\")\n",
        "print(\"---------------------------------\")\n",
        "a = True\n",
        "print(type(a),id(a),a)\n"
      ],
      "metadata": {
        "colab": {
          "base_uri": "https://localhost:8080/"
        },
        "id": "6byJc-Y3Dnf8",
        "outputId": "e02b089f-31b6-4836-d63a-3dc95d8f35c2"
      },
      "execution_count": 9,
      "outputs": [
        {
          "output_type": "stream",
          "name": "stdout",
          "text": [
            "\n",
            "Boolean\n",
            "---------------------------------\n",
            "<class 'bool'> 94198770389248 True\n"
          ]
        }
      ]
    },
    {
      "cell_type": "code",
      "source": [
        "print(\"\\nFunction\")\n",
        "print(\"---------------------------------\")\n",
        "def fun1():\n",
        "    return \"I am Function\"\n",
        "a=fun1\n",
        "print(type(a),id(a),a())\n"
      ],
      "metadata": {
        "colab": {
          "base_uri": "https://localhost:8080/"
        },
        "id": "eNGaEBdRDzcO",
        "outputId": "4c81e3c9-4367-4fe2-d9de-3616ea39135c"
      },
      "execution_count": 10,
      "outputs": [
        {
          "output_type": "stream",
          "name": "stdout",
          "text": [
            "\n",
            "Function\n",
            "---------------------------------\n",
            "<class 'function'> 140391069073632 I am Function\n"
          ]
        }
      ]
    },
    {
      "cell_type": "code",
      "source": [
        "print(\"\\nObjects\")\n",
        "print(\"---------------------------------\")\n",
        "class Demo:\n",
        "    def hi(self):\n",
        "        return \"Hi\"\n",
        "a=Demo()\n",
        "print(type(a),id(a),a.hi())\n"
      ],
      "metadata": {
        "colab": {
          "base_uri": "https://localhost:8080/"
        },
        "id": "jZn0oS2sEQCS",
        "outputId": "3384c27a-16db-467e-d7be-180687c88b7f"
      },
      "execution_count": 12,
      "outputs": [
        {
          "output_type": "stream",
          "name": "stdout",
          "text": [
            "\n",
            "Objects\n",
            "---------------------------------\n",
            "<class '__main__.Demo'> 140391069044944 Hi\n"
          ]
        }
      ]
    },
    {
      "cell_type": "code",
      "source": [
        "print(\"\\nCollections\")\n",
        "print(\"---------------------------------\")\n",
        "a=[1,2,3]\n",
        "print(type(a),id(a),a)\n",
        "a = []\n",
        "print(type(a),id(a),a)\n",
        "a=(1,2,3)\n",
        "print(type(a),id(a),a)\n",
        "a=()\n",
        "print(type(a),id(a),a)\n",
        "a=1,2,3\n",
        "print(type(a),id(a),a)\n",
        "a={1,2,3}\n",
        "print(type(a),id(a),a)\n",
        "a = {}\n",
        "print(type(a),id(a),a)\n",
        "a={\"id\":1,\"name\":\"jungkook\"}\n",
        "print(type(a),id(a),a)\n"
      ],
      "metadata": {
        "colab": {
          "base_uri": "https://localhost:8080/"
        },
        "id": "OM0z-4UbEuSA",
        "outputId": "317c28b7-6ad9-42d4-bd9d-fea1145a3cb0"
      },
      "execution_count": 13,
      "outputs": [
        {
          "output_type": "stream",
          "name": "stdout",
          "text": [
            "\n",
            "Collections\n",
            "---------------------------------\n",
            "<class 'list'> 140391068869488 [1, 2, 3]\n",
            "<class 'list'> 140391068871008 []\n",
            "<class 'tuple'> 140391068678336 (1, 2, 3)\n",
            "<class 'tuple'> 140391726592080 ()\n",
            "<class 'tuple'> 140391069109456 (1, 2, 3)\n",
            "<class 'set'> 140391069259248 {1, 2, 3}\n",
            "<class 'dict'> 140391069042480 {}\n",
            "<class 'dict'> 140391069042720 {'id': 1, 'name': 'jungkook'}\n"
          ]
        }
      ]
    }
  ]
}