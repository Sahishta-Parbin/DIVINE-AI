{
  "nbformat": 4,
  "nbformat_minor": 0,
  "metadata": {
    "colab": {
      "name": "stack queue.ipynb",
      "provenance": [],
      "authorship_tag": "ABX9TyOsKOs4PVU62KJRBzIwXJz+",
      "include_colab_link": true
    },
    "kernelspec": {
      "name": "python3",
      "display_name": "Python 3"
    },
    "language_info": {
      "name": "python"
    }
  },
  "cells": [
    {
      "cell_type": "markdown",
      "metadata": {
        "id": "view-in-github",
        "colab_type": "text"
      },
      "source": [
        "<a href=\"https://colab.research.google.com/github/Sahishta-Parbin/DIVINE-AI/blob/main/stack_queue%20tuple.ipynb\" target=\"_parent\"><img src=\"https://colab.research.google.com/assets/colab-badge.svg\" alt=\"Open In Colab\"/></a>"
      ]
    },
    {
      "cell_type": "code",
      "source": [
        "browsing = []\n",
        "browsing.append(1)\n",
        "browsing.append(2)\n",
        "browsing.append(3)\n",
        "browsing.append(40)\n",
        "browsing.append('c')\n",
        "print(browsing)"
      ],
      "metadata": {
        "id": "HfmLKAY_wnDw",
        "outputId": "0577db45-0e81-46a2-8980-9d94b4cb4d5e",
        "colab": {
          "base_uri": "https://localhost:8080/"
        }
      },
      "execution_count": null,
      "outputs": [
        {
          "output_type": "stream",
          "name": "stdout",
          "text": [
            "[1, 2, 3, 40, 'c']\n"
          ]
        }
      ]
    },
    {
      "cell_type": "code",
      "execution_count": null,
      "metadata": {
        "colab": {
          "base_uri": "https://localhost:8080/"
        },
        "id": "LwzQJjYnK-2g",
        "outputId": "e3f90469-0989-4c3e-c480-a616344e57ad"
      },
      "outputs": [
        {
          "output_type": "stream",
          "name": "stdout",
          "text": [
            "Initial stack\n",
            "['a', 'b', 'c']\n"
          ]
        }
      ],
      "source": [
        "stack = []\n",
        "stack.append('a')\n",
        "stack.append('b')\n",
        "stack.append('c')\n",
        "print('Initial stack')\n",
        "print(stack)\n"
      ]
    },
    {
      "cell_type": "code",
      "source": [
        "print('\\nElements popped from stack:')\n",
        "print(stack.pop())\n",
        "print(stack.pop())\n",
        "print(stack.pop())\n"
      ],
      "metadata": {
        "colab": {
          "base_uri": "https://localhost:8080/"
        },
        "id": "gGFIoI0tLfFF",
        "outputId": "997d8c24-54c6-4f34-cc3d-25ff98ae4d91"
      },
      "execution_count": null,
      "outputs": [
        {
          "output_type": "stream",
          "name": "stdout",
          "text": [
            "\n",
            "Elements popped from stack:\n",
            "c\n",
            "b\n",
            "a\n"
          ]
        }
      ]
    },
    {
      "cell_type": "code",
      "source": [
        "print('\\nStack after elements are popped:')\n",
        "print(stack)\n"
      ],
      "metadata": {
        "colab": {
          "base_uri": "https://localhost:8080/"
        },
        "id": "l0OYrOn9Lsm7",
        "outputId": "5e4b36dc-6d60-4d5c-b55c-7f1abacc89c0"
      },
      "execution_count": null,
      "outputs": [
        {
          "output_type": "stream",
          "name": "stdout",
          "text": [
            "\n",
            "Stack after elements are popped:\n",
            "[]\n"
          ]
        }
      ]
    },
    {
      "cell_type": "code",
      "source": [
        "from collections import deque\n",
        "stack = deque()\n",
        "stack.append('a')\n",
        "stack.append('b')\n",
        "stack.append('c')\n",
        "print('Initial stack:')\n",
        "print(stack)"
      ],
      "metadata": {
        "colab": {
          "base_uri": "https://localhost:8080/"
        },
        "id": "sZ2HrWN2Lzui",
        "outputId": "d123a748-ca78-4748-a49b-7621e29c7aff"
      },
      "execution_count": null,
      "outputs": [
        {
          "output_type": "stream",
          "name": "stdout",
          "text": [
            "Initial stack:\n",
            "deque(['a', 'b', 'c'])\n"
          ]
        }
      ]
    },
    {
      "cell_type": "code",
      "source": [
        "print('\\nElements popped from stack:')\n",
        "print(stack.pop())\n",
        "print(stack.pop())\n",
        "print(stack.pop())\n"
      ],
      "metadata": {
        "colab": {
          "base_uri": "https://localhost:8080/"
        },
        "id": "3wkDyBmUMHF8",
        "outputId": "d7af4cf6-738a-481a-d143-c8406bf0e64f"
      },
      "execution_count": null,
      "outputs": [
        {
          "output_type": "stream",
          "name": "stdout",
          "text": [
            "\n",
            "Elements popped from stack:\n",
            "c\n",
            "b\n",
            "a\n"
          ]
        }
      ]
    },
    {
      "cell_type": "code",
      "source": [
        "print('\\nStack after elements are popped:')\n",
        "print(stack)"
      ],
      "metadata": {
        "colab": {
          "base_uri": "https://localhost:8080/"
        },
        "id": "Bc2hX1dTMO1c",
        "outputId": "963dc976-6044-44d5-b04e-8f737dea747c"
      },
      "execution_count": null,
      "outputs": [
        {
          "output_type": "stream",
          "name": "stdout",
          "text": [
            "\n",
            "Stack after elements are popped:\n",
            "deque([])\n"
          ]
        }
      ]
    },
    {
      "cell_type": "code",
      "source": [
        "from queue import LifoQueue\n",
        "stack = LifoQueue(maxsize=3)\n",
        "print(stack.qsize())\n",
        "stack.put('a')\n",
        "stack.put('b')\n",
        "stack.put('c')\n"
      ],
      "metadata": {
        "colab": {
          "base_uri": "https://localhost:8080/"
        },
        "id": "RdjJFCB0MVe0",
        "outputId": "a713b3d6-7f8e-463e-8173-2cb726aa59d9"
      },
      "execution_count": null,
      "outputs": [
        {
          "output_type": "stream",
          "name": "stdout",
          "text": [
            "0\n"
          ]
        }
      ]
    },
    {
      "cell_type": "code",
      "source": [
        "print(\"Full: \", stack.full())\n",
        "print(\"Size: \", stack.qsize())\n"
      ],
      "metadata": {
        "colab": {
          "base_uri": "https://localhost:8080/"
        },
        "id": "0OCEMSYqN6lt",
        "outputId": "3f2af4fe-0165-4390-e2c3-2b4d9d70ca71"
      },
      "execution_count": null,
      "outputs": [
        {
          "output_type": "stream",
          "name": "stdout",
          "text": [
            "Full:  True\n",
            "Size:  3\n"
          ]
        }
      ]
    },
    {
      "cell_type": "code",
      "source": [
        "print('\\nElements popped from the stack')\n",
        "print(stack.get())\n",
        "print(stack.get())\n",
        "print(stack.get())\n"
      ],
      "metadata": {
        "colab": {
          "base_uri": "https://localhost:8080/"
        },
        "id": "X76Z53WEOBq5",
        "outputId": "fb154761-1b94-407d-f413-bfec171f5b12"
      },
      "execution_count": null,
      "outputs": [
        {
          "output_type": "stream",
          "name": "stdout",
          "text": [
            "\n",
            "Elements popped from the stack\n",
            "c\n",
            "b\n",
            "a\n"
          ]
        }
      ]
    },
    {
      "cell_type": "code",
      "source": [
        "print(\"\\nEmpty: \", stack.empty())\n"
      ],
      "metadata": {
        "colab": {
          "base_uri": "https://localhost:8080/"
        },
        "id": "QlVHFyJLOJdo",
        "outputId": "47b80356-d87b-4db5-da69-587109c9f5a3"
      },
      "execution_count": null,
      "outputs": [
        {
          "output_type": "stream",
          "name": "stdout",
          "text": [
            "\n",
            "Empty:  True\n"
          ]
        }
      ]
    },
    {
      "cell_type": "code",
      "source": [
        "stack = [\"Amar\", \"Akbar\", \"Anthony\"]\n",
        "stack.append(\"Ram\")\n",
        "stack.append(\"iqbal\")\n",
        "print(stack)\n"
      ],
      "metadata": {
        "colab": {
          "base_uri": "https://localhost:8080/"
        },
        "id": "Q9H-aSXyRhb-",
        "outputId": "9d866275-fc4c-4624-e2b6-0c7072da6c9c"
      },
      "execution_count": null,
      "outputs": [
        {
          "output_type": "stream",
          "name": "stdout",
          "text": [
            "['Amar', 'Akbar', 'Anthony', 'Ram', 'iqbal']\n"
          ]
        }
      ]
    },
    {
      "cell_type": "code",
      "source": [
        "print(stack.pop())\n",
        "print(stack)"
      ],
      "metadata": {
        "colab": {
          "base_uri": "https://localhost:8080/"
        },
        "id": "1D9cNBpRRwax",
        "outputId": "7a5c724c-82be-43a8-93aa-2c5ec0a31012"
      },
      "execution_count": null,
      "outputs": [
        {
          "output_type": "stream",
          "name": "stdout",
          "text": [
            "iqbal\n",
            "['Amar', 'Akbar', 'Anthony', 'Ram']\n"
          ]
        }
      ]
    },
    {
      "cell_type": "code",
      "source": [
        "print(stack.pop())\n",
        "print(stack)"
      ],
      "metadata": {
        "colab": {
          "base_uri": "https://localhost:8080/"
        },
        "id": "Kb0ezFEHSduq",
        "outputId": "7578792c-e9c0-44d3-a140-7e4e472e50cf"
      },
      "execution_count": null,
      "outputs": [
        {
          "output_type": "stream",
          "name": "stdout",
          "text": [
            "Ram\n",
            "['Amar', 'Akbar', 'Anthony']\n"
          ]
        }
      ]
    },
    {
      "cell_type": "code",
      "source": [
        "queue = [\"v\", \"jimin\", \"jin\"]\n",
        "queue.append(\"v\")\n",
        "queue.append(\"jin\")\n",
        "print(queue)"
      ],
      "metadata": {
        "colab": {
          "base_uri": "https://localhost:8080/"
        },
        "id": "Y24-aBnfSkvr",
        "outputId": "becce2c0-7928-46ab-c2ce-2f911a1221cf"
      },
      "execution_count": null,
      "outputs": [
        {
          "output_type": "stream",
          "name": "stdout",
          "text": [
            "['v', 'jimin', 'jin', 'v', 'jin']\n"
          ]
        }
      ]
    },
    {
      "cell_type": "code",
      "source": [
        "print(queue.pop(0))\n",
        "print(queue)"
      ],
      "metadata": {
        "colab": {
          "base_uri": "https://localhost:8080/"
        },
        "id": "O9oQFpMyS7DH",
        "outputId": "f8ea34cc-a2b0-40a0-e792-ffe828a14e5b"
      },
      "execution_count": null,
      "outputs": [
        {
          "output_type": "stream",
          "name": "stdout",
          "text": [
            "v\n",
            "['jimin', 'jin', 'v', 'jin']\n"
          ]
        }
      ]
    },
    {
      "cell_type": "code",
      "source": [
        "print(queue.pop(0))\n",
        "print(queue)"
      ],
      "metadata": {
        "colab": {
          "base_uri": "https://localhost:8080/"
        },
        "id": "gm0EZcjqS-uK",
        "outputId": "4e7cdc3f-90ce-4355-b702-02cd5a9afd5e"
      },
      "execution_count": null,
      "outputs": [
        {
          "output_type": "stream",
          "name": "stdout",
          "text": [
            "jimin\n",
            "['jin', 'v', 'jin']\n"
          ]
        }
      ]
    },
    {
      "cell_type": "code",
      "source": [
        "queue = []\n",
        "queue.append('a')\n",
        "queue.append('b')\n",
        "queue.append('c')\n"
      ],
      "metadata": {
        "id": "hK28olhwPsDB"
      },
      "execution_count": null,
      "outputs": []
    },
    {
      "cell_type": "code",
      "source": [
        "print(\"Initial queue\")\n",
        "print(queue)"
      ],
      "metadata": {
        "colab": {
          "base_uri": "https://localhost:8080/"
        },
        "id": "2PLUE-yaP7f6",
        "outputId": "20ca5faf-522f-44cf-8fee-6562279e39d2"
      },
      "execution_count": null,
      "outputs": [
        {
          "output_type": "stream",
          "name": "stdout",
          "text": [
            "Initial queue\n",
            "['a', 'b', 'c']\n"
          ]
        }
      ]
    },
    {
      "cell_type": "code",
      "source": [
        "print(\"\\nElements dequeued from queue\")\n",
        "print(queue.pop(0))\n",
        "print(queue.pop(0))\n",
        "print(queue.pop(0))\n"
      ],
      "metadata": {
        "colab": {
          "base_uri": "https://localhost:8080/"
        },
        "id": "g4HQHpaAQCIq",
        "outputId": "df54a822-f197-451d-f933-d7a10196bc6b"
      },
      "execution_count": null,
      "outputs": [
        {
          "output_type": "stream",
          "name": "stdout",
          "text": [
            "\n",
            "Elements dequeued from queue\n",
            "a\n",
            "b\n",
            "c\n"
          ]
        }
      ]
    },
    {
      "cell_type": "code",
      "source": [
        "print(\"\\nQueue after removing elements\")\n",
        "print(queue)\n"
      ],
      "metadata": {
        "colab": {
          "base_uri": "https://localhost:8080/"
        },
        "id": "8ilBUFiyQJE_",
        "outputId": "29f261e0-e870-4f96-d1a8-a287ddc8c30e"
      },
      "execution_count": null,
      "outputs": [
        {
          "output_type": "stream",
          "name": "stdout",
          "text": [
            "\n",
            "Queue after removing elements\n",
            "[]\n"
          ]
        }
      ]
    },
    {
      "cell_type": "code",
      "source": [
        "from collections import deque\n",
        "queue = deque([])\n",
        "queue.append(1)\n",
        "queue.append(2)\n",
        "queue.append(3)\n",
        "queue.append(4)\n",
        "queue.append(5)\n",
        "\n",
        "print(queue)\n",
        "queue.popleft()\n",
        "print(queue)\n"
      ],
      "metadata": {
        "id": "0otl2TqwxPHI",
        "outputId": "231f5dd1-a85e-4d30-fa02-2c0a20146985",
        "colab": {
          "base_uri": "https://localhost:8080/"
        }
      },
      "execution_count": null,
      "outputs": [
        {
          "output_type": "stream",
          "name": "stdout",
          "text": [
            "deque([1, 2, 3, 4, 5])\n",
            "deque([2, 3, 4, 5])\n"
          ]
        }
      ]
    },
    {
      "cell_type": "code",
      "source": [
        "from collections import deque\n",
        "q = deque()\n",
        "q.append('a')\n",
        "q.append('b')\n",
        "q.append('c')\n",
        "\n"
      ],
      "metadata": {
        "id": "wPjGXehwQQPP"
      },
      "execution_count": null,
      "outputs": []
    },
    {
      "cell_type": "code",
      "source": [
        "print(\"Initial queue\")\n",
        "print(q)"
      ],
      "metadata": {
        "colab": {
          "base_uri": "https://localhost:8080/"
        },
        "id": "WVraXKgnQiUU",
        "outputId": "4f95b315-1df1-41ec-b3f3-ede0693df11c"
      },
      "execution_count": null,
      "outputs": [
        {
          "output_type": "stream",
          "name": "stdout",
          "text": [
            "Initial queue\n",
            "deque(['a', 'b', 'c'])\n"
          ]
        }
      ]
    },
    {
      "cell_type": "code",
      "source": [
        "print(\"\\nElements dequeued from the queue\")\n",
        "print(q.popleft())\n",
        "print(q.popleft())\n",
        "print(q.popleft())\n"
      ],
      "metadata": {
        "colab": {
          "base_uri": "https://localhost:8080/"
        },
        "id": "3EMJTF2NQmtc",
        "outputId": "401102e6-1415-41ce-da58-ba2b2803d495"
      },
      "execution_count": null,
      "outputs": [
        {
          "output_type": "stream",
          "name": "stdout",
          "text": [
            "\n",
            "Elements dequeued from the queue\n",
            "a\n",
            "b\n",
            "c\n"
          ]
        }
      ]
    },
    {
      "cell_type": "code",
      "source": [
        "print(\"\\nQueue after removing elements\")\n",
        "print(q)"
      ],
      "metadata": {
        "colab": {
          "base_uri": "https://localhost:8080/"
        },
        "id": "yQ8lqo6URNOj",
        "outputId": "9a55bed0-fe5b-4a66-9398-aabf21ff2097"
      },
      "execution_count": null,
      "outputs": [
        {
          "output_type": "stream",
          "name": "stdout",
          "text": [
            "\n",
            "Queue after removing elements\n",
            "deque([])\n"
          ]
        }
      ]
    },
    {
      "cell_type": "code",
      "source": [
        "point = (1,2,3,4,5)\n"
      ],
      "metadata": {
        "id": "5goyfnCfyBoT"
      },
      "execution_count": null,
      "outputs": []
    },
    {
      "cell_type": "code",
      "source": [
        "point1 = (1,2) + (3,4)\n",
        "print(point1)"
      ],
      "metadata": {
        "id": "NUofbvIIyGbR",
        "outputId": "46ada175-295a-437f-9887-e9a7ab321e57",
        "colab": {
          "base_uri": "https://localhost:8080/"
        }
      },
      "execution_count": 4,
      "outputs": [
        {
          "output_type": "stream",
          "name": "stdout",
          "text": [
            "(1, 2, 3, 4)\n"
          ]
        }
      ]
    },
    {
      "cell_type": "code",
      "source": [
        "point3 = tuple([1,2]) \n",
        "print(point3)"
      ],
      "metadata": {
        "id": "6Uy-vwZqyzn1",
        "outputId": "0c24d3af-3b7b-4caa-972b-5c4d517f46b8",
        "colab": {
          "base_uri": "https://localhost:8080/"
        }
      },
      "execution_count": 5,
      "outputs": [
        {
          "output_type": "stream",
          "name": "stdout",
          "text": [
            "(1, 2)\n"
          ]
        }
      ]
    },
    {
      "cell_type": "code",
      "source": [
        "empty_tuple = ()\n",
        "print (empty_tuple)\n"
      ],
      "metadata": {
        "id": "qSjupXoSzMl8",
        "outputId": "8cc32f7c-daf0-4e10-ad7b-7c78b6619978",
        "colab": {
          "base_uri": "https://localhost:8080/"
        }
      },
      "execution_count": 6,
      "outputs": [
        {
          "output_type": "stream",
          "name": "stdout",
          "text": [
            "()\n"
          ]
        }
      ]
    },
    {
      "cell_type": "code",
      "source": [
        "tup = 'python', 'jk'\n",
        "print(tup)"
      ],
      "metadata": {
        "id": "FEVB5Oy0zP6a",
        "outputId": "3b3ac956-e156-42e5-c84b-4929d5f0fb2c",
        "colab": {
          "base_uri": "https://localhost:8080/"
        }
      },
      "execution_count": 8,
      "outputs": [
        {
          "output_type": "stream",
          "name": "stdout",
          "text": [
            "('python', 'jk')\n"
          ]
        }
      ]
    },
    {
      "cell_type": "code",
      "source": [
        "tuple1 = (0, 1, 2, 3)\n",
        "tuple2 = ('python', 'jin')\n",
        "print(tuple1 + tuple2)\n"
      ],
      "metadata": {
        "id": "X_-OWVY_zaS4",
        "outputId": "34c23850-40e9-4ea6-9a3e-37bba9e4aeca",
        "colab": {
          "base_uri": "https://localhost:8080/"
        }
      },
      "execution_count": 9,
      "outputs": [
        {
          "output_type": "stream",
          "name": "stdout",
          "text": [
            "(0, 1, 2, 3, 'python', 'jin')\n"
          ]
        }
      ]
    },
    {
      "cell_type": "code",
      "source": [
        "tuple1 = (0, 1, 2, 3)\n",
        "tuple2 = ('python', 'jin')\n",
        "tuple3 = (tuple1, tuple2)\n",
        "print(tuple3)\n"
      ],
      "metadata": {
        "id": "dw-PHiRDzrjc",
        "outputId": "fc1b1c3a-4864-43c4-8a0c-e26071da720e",
        "colab": {
          "base_uri": "https://localhost:8080/"
        }
      },
      "execution_count": 10,
      "outputs": [
        {
          "output_type": "stream",
          "name": "stdout",
          "text": [
            "((0, 1, 2, 3), ('python', 'jin'))\n"
          ]
        }
      ]
    },
    {
      "cell_type": "code",
      "source": [
        "tuple3 = ('python',)*3\n",
        "print(tuple3)\n"
      ],
      "metadata": {
        "id": "2OS-6pmwz6Lh",
        "outputId": "91d409cc-44bd-4cee-bb56-a2b6ef35a557",
        "colab": {
          "base_uri": "https://localhost:8080/"
        }
      },
      "execution_count": 11,
      "outputs": [
        {
          "output_type": "stream",
          "name": "stdout",
          "text": [
            "('python', 'python', 'python')\n"
          ]
        }
      ]
    },
    {
      "cell_type": "code",
      "source": [
        "tuple1 = (0 ,1, 2, 3)\n",
        "print(tuple1[1:])\n",
        "print(tuple1[::-1])\n",
        "print(tuple1[2:4])\n"
      ],
      "metadata": {
        "id": "maJu_v_E0CGN",
        "outputId": "c85a1356-040c-4fe2-c78c-33b1e82ed30e",
        "colab": {
          "base_uri": "https://localhost:8080/"
        }
      },
      "execution_count": 12,
      "outputs": [
        {
          "output_type": "stream",
          "name": "stdout",
          "text": [
            "(1, 2, 3)\n",
            "(3, 2, 1, 0)\n",
            "(2, 3)\n"
          ]
        }
      ]
    },
    {
      "cell_type": "code",
      "source": [
        "tuple2 = ('python', 'geek')\n",
        "print(len(tuple2))\n"
      ],
      "metadata": {
        "id": "_6WgZRw90fXB",
        "outputId": "f0731471-2274-42d7-9e67-449a3aa68402",
        "colab": {
          "base_uri": "https://localhost:8080/"
        }
      },
      "execution_count": 14,
      "outputs": [
        {
          "output_type": "stream",
          "name": "stdout",
          "text": [
            "2\n"
          ]
        }
      ]
    },
    {
      "cell_type": "code",
      "source": [
        "list1 = [0, 1, 2]\n",
        "print(tuple(list1))\n",
        "print(tuple('python')) # string 'python'\n"
      ],
      "metadata": {
        "id": "p2aZ826T0oEg",
        "outputId": "9987d314-cb77-4aea-e0d7-f14b3ab0143c",
        "colab": {
          "base_uri": "https://localhost:8080/"
        }
      },
      "execution_count": 15,
      "outputs": [
        {
          "output_type": "stream",
          "name": "stdout",
          "text": [
            "(0, 1, 2)\n",
            "('p', 'y', 't', 'h', 'o', 'n')\n"
          ]
        }
      ]
    },
    {
      "cell_type": "code",
      "source": [
        "tup = ('geek',)\n",
        "n = 5\n",
        "for i in range(int(n)):\n",
        "    tup = (tup,)\n",
        "    print(tup)\n"
      ],
      "metadata": {
        "id": "xT25pw7I05EZ",
        "outputId": "576b9320-0dce-4979-b586-9b1ed05bb200",
        "colab": {
          "base_uri": "https://localhost:8080/"
        }
      },
      "execution_count": 16,
      "outputs": [
        {
          "output_type": "stream",
          "name": "stdout",
          "text": [
            "(('geek',),)\n",
            "((('geek',),),)\n",
            "(((('geek',),),),)\n",
            "((((('geek',),),),),)\n",
            "(((((('geek',),),),),),)\n"
          ]
        }
      ]
    }
  ]
}