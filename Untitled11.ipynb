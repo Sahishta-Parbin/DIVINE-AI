{
  "nbformat": 4,
  "nbformat_minor": 0,
  "metadata": {
    "colab": {
      "name": "Untitled11.ipynb",
      "provenance": [],
      "authorship_tag": "ABX9TyNKHE/DD2/qPQkwiXPH3n+K",
      "include_colab_link": true
    },
    "kernelspec": {
      "name": "python3",
      "display_name": "Python 3"
    },
    "language_info": {
      "name": "python"
    }
  },
  "cells": [
    {
      "cell_type": "markdown",
      "metadata": {
        "id": "view-in-github",
        "colab_type": "text"
      },
      "source": [
        "<a href=\"https://colab.research.google.com/github/Sahishta-Parbin/DIVINE-AI/blob/main/Untitled11.ipynb\" target=\"_parent\"><img src=\"https://colab.research.google.com/assets/colab-badge.svg\" alt=\"Open In Colab\"/></a>"
      ]
    },
    {
      "cell_type": "code",
      "source": [
        "print(abs(-10))\n"
      ],
      "metadata": {
        "colab": {
          "base_uri": "https://localhost:8080/"
        },
        "id": "CiAPk5iRn2Za",
        "outputId": "2ef5acb2-a3e5-4280-d5d2-e94993170a96"
      },
      "execution_count": 32,
      "outputs": [
        {
          "output_type": "stream",
          "name": "stdout",
          "text": [
            "10\n"
          ]
        }
      ]
    },
    {
      "cell_type": "code",
      "source": [
        "print(abs(-10.0))\n"
      ],
      "metadata": {
        "colab": {
          "base_uri": "https://localhost:8080/"
        },
        "id": "MFSi0hWqoABb",
        "outputId": "cddec72e-ef36-44ad-d2ea-cf654400e85a"
      },
      "execution_count": 34,
      "outputs": [
        {
          "output_type": "stream",
          "name": "stdout",
          "text": [
            "10.0\n"
          ]
        }
      ]
    },
    {
      "cell_type": "code",
      "execution_count": 1,
      "metadata": {
        "colab": {
          "base_uri": "https://localhost:8080/"
        },
        "id": "GNuLYnaVe8or",
        "outputId": "c0b2a7ad-0941-484c-ef05-9fa55d21d748"
      },
      "outputs": [
        {
          "output_type": "stream",
          "name": "stdout",
          "text": [
            "Absolute value of float is: 54.26\n"
          ]
        }
      ],
      "source": [
        "float = -54.26\n",
        "print('Absolute value of float is:', abs(float))\n"
      ]
    },
    {
      "cell_type": "code",
      "source": [
        "float = 27\n",
        "print('Absolute value of float is:', abs(float))\n"
      ],
      "metadata": {
        "colab": {
          "base_uri": "https://localhost:8080/"
        },
        "id": "jwICkp-fgw6y",
        "outputId": "1e65a493-316f-4ca5-f6cc-c812e3a789f5"
      },
      "execution_count": 4,
      "outputs": [
        {
          "output_type": "stream",
          "name": "stdout",
          "text": [
            "Absolute value of float is: 27\n"
          ]
        }
      ]
    },
    {
      "cell_type": "code",
      "source": [
        "float = -30\n",
        "print('Absolute value of float is:', abs(float))\n"
      ],
      "metadata": {
        "colab": {
          "base_uri": "https://localhost:8080/"
        },
        "id": "_dG1uvZzhTfz",
        "outputId": "3e2edc6e-58b1-4572-9ac3-cd497f1fadb6"
      },
      "execution_count": 6,
      "outputs": [
        {
          "output_type": "stream",
          "name": "stdout",
          "text": [
            "Absolute value of float is: 30\n"
          ]
        }
      ]
    },
    {
      "cell_type": "code",
      "source": [
        "integer = -94\n",
        "print('Absolute value  of integer is:', abs(integer))\n"
      ],
      "metadata": {
        "colab": {
          "base_uri": "https://localhost:8080/"
        },
        "id": "EQqXiGGyhY4x",
        "outputId": "0d6f27b9-71aa-4c60-ae55-6b24ce7800e0"
      },
      "execution_count": 10,
      "outputs": [
        {
          "output_type": "stream",
          "name": "stdout",
          "text": [
            "Absolute value  of integer is: 94\n"
          ]
        }
      ]
    },
    {
      "cell_type": "code",
      "source": [
        "integer = -94.14\n",
        "print('Absolute value  of integer is:', abs(integer))\n"
      ],
      "metadata": {
        "colab": {
          "base_uri": "https://localhost:8080/"
        },
        "id": "yjynzmg4hvOG",
        "outputId": "9444ab62-f852-4092-e31d-c2561fdb9913"
      },
      "execution_count": 11,
      "outputs": [
        {
          "output_type": "stream",
          "name": "stdout",
          "text": [
            "Absolute value  of integer is: 94.14\n"
          ]
        }
      ]
    },
    {
      "cell_type": "code",
      "source": [
        "complex = (3 - 4j)\n",
        "print('Absolute value or Magnitude of complex is:', abs(complex))\n"
      ],
      "metadata": {
        "colab": {
          "base_uri": "https://localhost:8080/"
        },
        "id": "d50jYMHqh0eM",
        "outputId": "5a17bc30-cebe-4768-9c82-968e6e1bb281"
      },
      "execution_count": 12,
      "outputs": [
        {
          "output_type": "stream",
          "name": "stdout",
          "text": [
            "Absolute value or Magnitude of complex is: 5.0\n"
          ]
        }
      ]
    },
    {
      "cell_type": "code",
      "source": [
        "complex = (3 + 4j)\n",
        "print('Absolute value or Magnitude of complex is:', abs(complex))\n"
      ],
      "metadata": {
        "colab": {
          "base_uri": "https://localhost:8080/"
        },
        "id": "Y9z0qthGh-wI",
        "outputId": "fc9984df-43bb-4223-b33f-6cc09f2b216c"
      },
      "execution_count": 13,
      "outputs": [
        {
          "output_type": "stream",
          "name": "stdout",
          "text": [
            "Absolute value or Magnitude of complex is: 5.0\n"
          ]
        }
      ]
    },
    {
      "cell_type": "code",
      "source": [
        "complex = (3 + 7j)\n",
        "print('Absolute value or Magnitude of complex is:', abs(complex))\n"
      ],
      "metadata": {
        "colab": {
          "base_uri": "https://localhost:8080/"
        },
        "id": "Vckgb1JhiC2n",
        "outputId": "cf45170c-8f3a-4099-f3c4-d11920b4db72"
      },
      "execution_count": 14,
      "outputs": [
        {
          "output_type": "stream",
          "name": "stdout",
          "text": [
            "Absolute value or Magnitude of complex is: 7.615773105863909\n"
          ]
        }
      ]
    },
    {
      "cell_type": "code",
      "source": [
        "complex = (3 * 7j)\n",
        "print('Absolute value or Magnitude of complex is:', abs(complex))\n"
      ],
      "metadata": {
        "colab": {
          "base_uri": "https://localhost:8080/"
        },
        "id": "wfzX3pGriI6Q",
        "outputId": "5db23c5d-6949-4e0f-86d5-59aac226e967"
      },
      "execution_count": 15,
      "outputs": [
        {
          "output_type": "stream",
          "name": "stdout",
          "text": [
            "Absolute value or Magnitude of complex is: 21.0\n"
          ]
        }
      ]
    },
    {
      "cell_type": "code",
      "source": [
        "complex = (3 / 7j)\n",
        "print('Absolute value or Magnitude of complex is:', abs(complex))\n"
      ],
      "metadata": {
        "colab": {
          "base_uri": "https://localhost:8080/"
        },
        "id": "plutl7T4iNn7",
        "outputId": "96be8806-e0e7-4765-f920-54eaf635d77f"
      },
      "execution_count": 16,
      "outputs": [
        {
          "output_type": "stream",
          "name": "stdout",
          "text": [
            "Absolute value or Magnitude of complex is: 0.42857142857142855\n"
          ]
        }
      ]
    },
    {
      "cell_type": "code",
      "source": [
        "def cal_speed(dist, time):\n",
        "    print(\" Distance(km) :\", dist)\n",
        "    print(\" Time(hr) :\", time)\n",
        "    return dist / time\n",
        "print(\" The calculated speed(km) :\",cal_speed(abs(62.9), abs(2.5)))\n",
        "print(\"\")\n",
        "\n"
      ],
      "metadata": {
        "colab": {
          "base_uri": "https://localhost:8080/"
        },
        "id": "afWU08F7iQrH",
        "outputId": "1c5f1487-c3f6-45f2-d61a-3f2d9ff07bb9"
      },
      "execution_count": 28,
      "outputs": [
        {
          "output_type": "stream",
          "name": "stdout",
          "text": [
            " Distance(km) : 62.9\n",
            " Time(hr) : 2.5\n",
            " The calculated speed(km) : 25.16\n",
            "\n"
          ]
        }
      ]
    },
    {
      "cell_type": "code",
      "source": [
        "def cal_dis(speed, time):\n",
        "    print(\" time(km) :\", time)\n",
        "    print(\" Time(hr) :\", time)\n",
        "    return speed * time\n",
        "print(\" The calculated distance(km) :\",cal_dis(abs(42.6), abs(6.8)))\n",
        "print(\"\")\n",
        "\n"
      ],
      "metadata": {
        "colab": {
          "base_uri": "https://localhost:8080/"
        },
        "id": "cfTyCtAQj4P9",
        "outputId": "fa0e0bc1-6b02-4f94-a7e4-a793ab65de5b"
      },
      "execution_count": 29,
      "outputs": [
        {
          "output_type": "stream",
          "name": "stdout",
          "text": [
            " time(km) : 6.8\n",
            " Time(hr) : 6.8\n",
            " The calculated distance(km) : 289.68\n",
            "\n"
          ]
        }
      ]
    },
    {
      "cell_type": "code",
      "source": [
        "def cal_time(dis, speed):\n",
        "    print(\" distance(km) :\", dis)\n",
        "    print(\" speed(km\\hr) :\", speed)\n",
        "    return speed * time\n",
        "print(\" The calculated Distance(km) :\",cal_dis(abs(62.9), abs(2.5)))\n",
        "print(\"\")\n",
        "\n"
      ],
      "metadata": {
        "colab": {
          "base_uri": "https://localhost:8080/"
        },
        "id": "VhMt9AQckrRo",
        "outputId": "30077dc7-d49f-42ce-c5ee-b807837a318c"
      },
      "execution_count": 31,
      "outputs": [
        {
          "output_type": "stream",
          "name": "stdout",
          "text": [
            " time(km) : 2.5\n",
            " Time(hr) : 2.5\n",
            " The calculated Distance(km) : 157.25\n",
            "\n"
          ]
        }
      ]
    },
    {
      "cell_type": "code",
      "source": [
        "def cal_time(dis, speed):\n",
        "    print(\" distance(km) :\", dis)\n",
        "    print(\" speed(km\\hr) :\", speed)\n",
        "    return speed * dis\n",
        "print(\" The calculated Distance(km) :\",cal_dis(abs(76.9), abs(7.7)))\n",
        "print(\"\")\n",
        "\n"
      ],
      "metadata": {
        "colab": {
          "base_uri": "https://localhost:8080/"
        },
        "id": "a3uRXdIEmGos",
        "outputId": "a0dacce9-f2a3-4571-c37f-bb03ede43c68"
      },
      "execution_count": 30,
      "outputs": [
        {
          "output_type": "stream",
          "name": "stdout",
          "text": [
            " time(km) : 7.7\n",
            " Time(hr) : 7.7\n",
            " The calculated Distance(km) : 592.1300000000001\n",
            "\n"
          ]
        }
      ]
    }
  ]
}