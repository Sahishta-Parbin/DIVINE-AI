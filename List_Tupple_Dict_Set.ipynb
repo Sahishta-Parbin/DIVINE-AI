{
  "nbformat": 4,
  "nbformat_minor": 0,
  "metadata": {
    "colab": {
      "name": "List-Tupple-Dict-Set.ipynb",
      "provenance": [],
      "authorship_tag": "ABX9TyPLaTdREByWmXlojUomdNhs",
      "include_colab_link": true
    },
    "kernelspec": {
      "name": "python3",
      "display_name": "Python 3"
    },
    "language_info": {
      "name": "python"
    }
  },
  "cells": [
    {
      "cell_type": "markdown",
      "metadata": {
        "id": "view-in-github",
        "colab_type": "text"
      },
      "source": [
        "<a href=\"https://colab.research.google.com/github/Sahishta-Parbin/DIVINE-AI/blob/main/List_Tupple_Dict_Set.ipynb\" target=\"_parent\"><img src=\"https://colab.research.google.com/assets/colab-badge.svg\" alt=\"Open In Colab\"/></a>"
      ]
    },
    {
      "cell_type": "code",
      "source": [
        "A={'a':1,'b':2,'c':3,'d':4} \n",
        "B={'a':1,'d':4,'b':2,'c':3}\n",
        "(A['a'])\n"
      ],
      "metadata": {
        "colab": {
          "base_uri": "https://localhost:8080/"
        },
        "id": "1Dv7RN97N6cY",
        "outputId": "28ed49ac-9ff2-49b7-bf4b-27b874901c09"
      },
      "execution_count": 10,
      "outputs": [
        {
          "output_type": "execute_result",
          "data": {
            "text/plain": [
              "1"
            ]
          },
          "metadata": {},
          "execution_count": 10
        }
      ]
    },
    {
      "cell_type": "code",
      "source": [
        "A={'a':1,'b':2,'c':3,'d':4} \n",
        "B={'a':1,'d':4,'b':2,'c':3}\n",
        "print(A['b'])\n"
      ],
      "metadata": {
        "colab": {
          "base_uri": "https://localhost:8080/"
        },
        "id": "M8GFG1lYLcLp",
        "outputId": "eecb46cf-5724-4db7-d46b-c40eca4200e5"
      },
      "execution_count": 3,
      "outputs": [
        {
          "output_type": "stream",
          "name": "stdout",
          "text": [
            "2\n"
          ]
        }
      ]
    },
    {
      "cell_type": "code",
      "execution_count": 4,
      "metadata": {
        "colab": {
          "base_uri": "https://localhost:8080/"
        },
        "id": "FUvX0pK2LS_M",
        "outputId": "2f85c8c0-92fc-4474-e0e5-8ab3cbdb3bb8"
      },
      "outputs": [
        {
          "output_type": "stream",
          "name": "stdout",
          "text": [
            "2\n",
            "{'a': 1, 'b': 2, 'c': 1, 'd': 4}\n"
          ]
        }
      ],
      "source": [
        "A={'a':1,'b':2,'c':3,'d':4} \n",
        "print(A['b'])\n",
        "A['c']=1\n",
        "print(A)\n"
      ]
    },
    {
      "cell_type": "code",
      "source": [
        "A={'a':1,'b':2,'c':3,'d':4} \n",
        "print(A['c'])\n",
        "A['c']=1\n",
        "#print(A)\n",
        "print(A['c'])"
      ],
      "metadata": {
        "colab": {
          "base_uri": "https://localhost:8080/"
        },
        "id": "Ei4OUSo9NGTc",
        "outputId": "bc13abdb-ee7d-404f-bc5f-42b6c60023dd"
      },
      "execution_count": 6,
      "outputs": [
        {
          "output_type": "stream",
          "name": "stdout",
          "text": [
            "3\n",
            "1\n"
          ]
        }
      ]
    },
    {
      "cell_type": "code",
      "source": [
        "A={'a':1,'b':2,'c':3,'d':4} \n",
        "print(A['c'])\n",
        "A['c']=1\n",
        "print(A)\n",
        "print(A['c'])"
      ],
      "metadata": {
        "colab": {
          "base_uri": "https://localhost:8080/"
        },
        "id": "TJJCcBk3NbA-",
        "outputId": "d41a59af-1542-4821-ddaa-e87e31a0ebb8"
      },
      "execution_count": 7,
      "outputs": [
        {
          "output_type": "stream",
          "name": "stdout",
          "text": [
            "3\n",
            "{'a': 1, 'b': 2, 'c': 1, 'd': 4}\n",
            "1\n"
          ]
        }
      ]
    },
    {
      "cell_type": "code",
      "source": [
        "A={'a':1,'b':2,'c':3,'d':4} \n",
        "print(A['c'])\n",
        "A['c']=4\n",
        "print(A)\n",
        "print(A['c'])"
      ],
      "metadata": {
        "colab": {
          "base_uri": "https://localhost:8080/"
        },
        "id": "CqjhbjkjNpX_",
        "outputId": "7bf23203-c078-4bfb-fe5f-78372e1995a8"
      },
      "execution_count": 8,
      "outputs": [
        {
          "output_type": "stream",
          "name": "stdout",
          "text": [
            "3\n",
            "{'a': 1, 'b': 2, 'c': 4, 'd': 4}\n",
            "4\n"
          ]
        }
      ]
    },
    {
      "cell_type": "code",
      "source": [
        "A={'a':1,'b':2,'c':3,'d':4}\n",
        "print(A) \n",
        "print(A['a'])\n",
        "A['a']=4\n",
        "print(A)\n",
        "print(A['a'])\n"
      ],
      "metadata": {
        "colab": {
          "base_uri": "https://localhost:8080/"
        },
        "id": "PL2uzdvLOeuQ",
        "outputId": "661c553f-6862-4932-c18f-4fdb832daec5"
      },
      "execution_count": 11,
      "outputs": [
        {
          "output_type": "stream",
          "name": "stdout",
          "text": [
            "{'a': 1, 'b': 2, 'c': 3, 'd': 4}\n",
            "1\n",
            "{'a': 4, 'b': 2, 'c': 3, 'd': 4}\n",
            "4\n"
          ]
        }
      ]
    },
    {
      "cell_type": "code",
      "source": [
        "A={(1,2,3):1,2:[1,5,'hi',(3,5,'good')],'a':3,5:4}\n",
        "print(A) \n",
        "print(A['a'])\n",
        "A['a']=4\n",
        "print(A)\n",
        "print(A['a'])\n"
      ],
      "metadata": {
        "colab": {
          "base_uri": "https://localhost:8080/"
        },
        "id": "mfp6tYPUO6r0",
        "outputId": "fec5ee96-70b0-4041-d987-aca0a18872e1"
      },
      "execution_count": 15,
      "outputs": [
        {
          "output_type": "stream",
          "name": "stdout",
          "text": [
            "{(1, 2, 3): 1, 2: [1, 5, 'hi', (3, 5, 'good')], 'a': 3, 5: 4}\n",
            "3\n",
            "{(1, 2, 3): 1, 2: [1, 5, 'hi', (3, 5, 'good')], 'a': 4, 5: 4}\n",
            "4\n"
          ]
        }
      ]
    },
    {
      "cell_type": "code",
      "source": [
        "A={(1,2,3):1,2:[1,5,'hi',(3,5,'good')],'a':3,5:4}\n",
        "#print(A) \n",
        "print(A['a'])\n"
      ],
      "metadata": {
        "colab": {
          "base_uri": "https://localhost:8080/"
        },
        "id": "nixpaIK0RCN5",
        "outputId": "ffcba1be-7910-4b9d-9d74-cb2b0ba4d1be"
      },
      "execution_count": 17,
      "outputs": [
        {
          "output_type": "stream",
          "name": "stdout",
          "text": [
            "3\n"
          ]
        }
      ]
    },
    {
      "cell_type": "code",
      "source": [
        "A={(1,2,3):1,2:[1,5,'hi',(3,5,'good')],'a':3,5:4}\n",
        "#print(A) \n",
        "print(A[2][3][2][1:3])\n"
      ],
      "metadata": {
        "colab": {
          "base_uri": "https://localhost:8080/"
        },
        "id": "_zdX5xZ5RZed",
        "outputId": "cf00665f-a055-40ef-e925-6414bed9ac13"
      },
      "execution_count": 18,
      "outputs": [
        {
          "output_type": "stream",
          "name": "stdout",
          "text": [
            "oo\n"
          ]
        }
      ]
    },
    {
      "cell_type": "code",
      "source": [
        "A={(1,2,3):1,2:[1,5,'hi',(3,5,'good')],'a':3,5:4}\n",
        "#print(A) \n",
        "print(A[2])\n"
      ],
      "metadata": {
        "colab": {
          "base_uri": "https://localhost:8080/"
        },
        "id": "4MXo9Ox4RtS_",
        "outputId": "9b50e0ea-3d39-497b-a559-e36a35b84b8d"
      },
      "execution_count": 19,
      "outputs": [
        {
          "output_type": "stream",
          "name": "stdout",
          "text": [
            "[1, 5, 'hi', (3, 5, 'good')]\n"
          ]
        }
      ]
    },
    {
      "cell_type": "code",
      "source": [
        "A={(1,2,3):1,2:[1,5,'hi',(3,5,'good')],'a':3,5:4}\n",
        "#print(A) \n",
        "print(A[2][3])\n"
      ],
      "metadata": {
        "colab": {
          "base_uri": "https://localhost:8080/"
        },
        "id": "SeHvOf_jRxXF",
        "outputId": "2d6ea43a-c735-4a23-91b2-9d9987c6960a"
      },
      "execution_count": 20,
      "outputs": [
        {
          "output_type": "stream",
          "name": "stdout",
          "text": [
            "(3, 5, 'good')\n"
          ]
        }
      ]
    },
    {
      "cell_type": "code",
      "source": [
        "A={(1,2,3):1,2:[1,5,'hi',(3,5,'good')],'a':3,5:4}\n",
        "#print(A) \n",
        "print(A[2][3][2])\n"
      ],
      "metadata": {
        "colab": {
          "base_uri": "https://localhost:8080/"
        },
        "id": "o80d2CQnR35j",
        "outputId": "2f8343c0-94e7-4669-e8fb-4a50cc074737"
      },
      "execution_count": 25,
      "outputs": [
        {
          "output_type": "stream",
          "name": "stdout",
          "text": [
            "good\n"
          ]
        }
      ]
    },
    {
      "cell_type": "code",
      "source": [
        "a=10\n",
        "b=13.5\n",
        "a=b\n",
        "print(a)"
      ],
      "metadata": {
        "colab": {
          "base_uri": "https://localhost:8080/"
        },
        "id": "H5DZWgMjTF8h",
        "outputId": "e7ceb60d-4651-4054-ecbf-edc032eb0e5e"
      },
      "execution_count": 27,
      "outputs": [
        {
          "output_type": "stream",
          "name": "stdout",
          "text": [
            "13.5\n"
          ]
        }
      ]
    },
    {
      "cell_type": "code",
      "source": [
        "a=10\n",
        "b=13.5\n",
        "b=a\n",
        "print(b)"
      ],
      "metadata": {
        "colab": {
          "base_uri": "https://localhost:8080/"
        },
        "id": "zZlA5Pz0TSkf",
        "outputId": "6aec4164-b58f-4b12-f895-e1fa8d0a59ab"
      },
      "execution_count": 28,
      "outputs": [
        {
          "output_type": "stream",
          "name": "stdout",
          "text": [
            "10\n"
          ]
        }
      ]
    },
    {
      "cell_type": "code",
      "source": [
        "a=10\n",
        "b=13.5\n",
        "b=int(a)\n",
        "print(b)\n",
        "type(b)"
      ],
      "metadata": {
        "colab": {
          "base_uri": "https://localhost:8080/"
        },
        "id": "b--ovgEoTXn5",
        "outputId": "0d8462a3-ce83-4812-b823-9c9fb04093c9"
      },
      "execution_count": 29,
      "outputs": [
        {
          "output_type": "stream",
          "name": "stdout",
          "text": [
            "10\n"
          ]
        },
        {
          "output_type": "execute_result",
          "data": {
            "text/plain": [
              "int"
            ]
          },
          "metadata": {},
          "execution_count": 29
        }
      ]
    },
    {
      "cell_type": "code",
      "source": [
        "a=33\n",
        "b=33\n",
        "if b>a:\n",
        "   print(\"b is greater than a\")\n",
        "elif b< a:\n",
        "   print(\"b is smaller than a\")\n",
        "else:\n",
        "   print(\"b is equal to a\")\n"
      ],
      "metadata": {
        "colab": {
          "base_uri": "https://localhost:8080/"
        },
        "id": "1ZGsFlX3TrNn",
        "outputId": "216c637b-315b-4eaa-c823-9d4a6d7eeec7"
      },
      "execution_count": 34,
      "outputs": [
        {
          "output_type": "stream",
          "name": "stdout",
          "text": [
            "b is equal to a\n"
          ]
        }
      ]
    },
    {
      "cell_type": "code",
      "source": [
        "a=34\n",
        "b=33\n",
        "if b>a:\n",
        "   print(\"b is greater than a\")\n",
        "elif b< a:\n",
        "   print(\"b is smaller than a\")\n",
        "else:\n",
        "   print(\"b is equal to a\")\n"
      ],
      "metadata": {
        "colab": {
          "base_uri": "https://localhost:8080/"
        },
        "id": "giflFza1U9_4",
        "outputId": "61879c6b-1bdb-4a7f-bc51-50a157829f85"
      },
      "execution_count": 35,
      "outputs": [
        {
          "output_type": "stream",
          "name": "stdout",
          "text": [
            "b is smaller than a\n"
          ]
        }
      ]
    },
    {
      "cell_type": "code",
      "source": [
        "a=34\n",
        "b=33\n",
        "if b<a:\n",
        "   print(\"b is greater than a\")\n",
        "elif b> a:\n",
        "   print(\"b is smaller than a\")\n",
        "else:\n",
        "   print(\"b is equal to a\")\n"
      ],
      "metadata": {
        "colab": {
          "base_uri": "https://localhost:8080/"
        },
        "id": "2lOcSEHiVCsy",
        "outputId": "471435f1-4111-4a37-9bd1-a3378a1bb04d"
      },
      "execution_count": 36,
      "outputs": [
        {
          "output_type": "stream",
          "name": "stdout",
          "text": [
            "b is greater than a\n"
          ]
        }
      ]
    },
    {
      "cell_type": "code",
      "source": [
        "print(range(3,7))"
      ],
      "metadata": {
        "colab": {
          "base_uri": "https://localhost:8080/"
        },
        "id": "tHylDtc8VCdC",
        "outputId": "934fe809-c565-4579-c10b-c543e23df1f3"
      },
      "execution_count": 37,
      "outputs": [
        {
          "output_type": "stream",
          "name": "stdout",
          "text": [
            "range(3, 7)\n"
          ]
        }
      ]
    },
    {
      "cell_type": "code",
      "source": [
        "list = range(3,17,2)\n",
        "for i in list:\n",
        "    print(i)"
      ],
      "metadata": {
        "colab": {
          "base_uri": "https://localhost:8080/"
        },
        "id": "ABVG-2byV3L5",
        "outputId": "8935d464-159b-4f3c-9c21-14ad620844aa"
      },
      "execution_count": 38,
      "outputs": [
        {
          "output_type": "stream",
          "name": "stdout",
          "text": [
            "3\n",
            "5\n",
            "7\n",
            "9\n",
            "11\n",
            "13\n",
            "15\n"
          ]
        }
      ]
    },
    {
      "cell_type": "code",
      "source": [
        "list = range(5)\n",
        "for i in list:\n",
        "    print(i)"
      ],
      "metadata": {
        "colab": {
          "base_uri": "https://localhost:8080/"
        },
        "id": "L2fU4f6oWQMn",
        "outputId": "a811fc97-92cc-4b31-d9b6-b15eb4ba930f"
      },
      "execution_count": 39,
      "outputs": [
        {
          "output_type": "stream",
          "name": "stdout",
          "text": [
            "0\n",
            "1\n",
            "2\n",
            "3\n",
            "4\n"
          ]
        }
      ]
    },
    {
      "cell_type": "code",
      "source": [
        "a = 5\n",
        "while a>0:\n",
        "    print(a)\n",
        "    a = a - 1"
      ],
      "metadata": {
        "colab": {
          "base_uri": "https://localhost:8080/"
        },
        "id": "DTJM-JLaWWAd",
        "outputId": "84986436-2487-4fa7-a27b-3df874d3a538"
      },
      "execution_count": 40,
      "outputs": [
        {
          "output_type": "stream",
          "name": "stdout",
          "text": [
            "5\n",
            "4\n",
            "3\n",
            "2\n",
            "1\n"
          ]
        }
      ]
    },
    {
      "cell_type": "code",
      "source": [
        "a = 5\n",
        "while a>0:\n",
        "    print(a)\n",
        "    a = a + 1\n",
        "    if (a>10):\n",
        "        break"
      ],
      "metadata": {
        "colab": {
          "base_uri": "https://localhost:8080/"
        },
        "id": "LZyYST3_W7vc",
        "outputId": "ee8ca4f1-b3ea-4675-9f33-fed8893ea1b1"
      },
      "execution_count": 44,
      "outputs": [
        {
          "output_type": "stream",
          "name": "stdout",
          "text": [
            "5\n",
            "6\n",
            "7\n",
            "8\n",
            "9\n",
            "10\n"
          ]
        }
      ]
    }
  ]
}