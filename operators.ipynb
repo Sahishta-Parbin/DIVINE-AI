{
  "nbformat": 4,
  "nbformat_minor": 0,
  "metadata": {
    "colab": {
      "name": "operators.ipynb",
      "provenance": [],
      "authorship_tag": "ABX9TyOQ364mA0ZWK5kNPToJNFwN",
      "include_colab_link": true
    },
    "kernelspec": {
      "name": "python3",
      "display_name": "Python 3"
    },
    "language_info": {
      "name": "python"
    }
  },
  "cells": [
    {
      "cell_type": "markdown",
      "metadata": {
        "id": "view-in-github",
        "colab_type": "text"
      },
      "source": [
        "<a href=\"https://colab.research.google.com/github/Sahishta-Parbin/DIVINE-AI/blob/main/operators.ipynb\" target=\"_parent\"><img src=\"https://colab.research.google.com/assets/colab-badge.svg\" alt=\"Open In Colab\"/></a>"
      ]
    },
    {
      "cell_type": "code",
      "execution_count": 1,
      "metadata": {
        "colab": {
          "base_uri": "https://localhost:8080/"
        },
        "id": "Sb9x8qzL_zWe",
        "outputId": "46923c89-d468-437a-c8ae-1d14e82ee737"
      },
      "outputs": [
        {
          "output_type": "stream",
          "name": "stdout",
          "text": [
            "its a cold day\n"
          ]
        }
      ],
      "source": [
        "temperature = 12\n",
        "if temperature > 20:\n",
        "    print('its a nyc day')\n",
        "else:\n",
        "    print(\"its a cold day\")"
      ]
    },
    {
      "cell_type": "code",
      "source": [
        "temperature = 21\n",
        "message = \"it is a nice day\" if temperature >= 20 else \"its a cold day\"\n",
        "print(message)"
      ],
      "metadata": {
        "colab": {
          "base_uri": "https://localhost:8080/"
        },
        "id": "dq0M9c1QAkxg",
        "outputId": "e1f6800c-e370-4e28-f39f-0fcba6edc1bb"
      },
      "execution_count": 3,
      "outputs": [
        {
          "output_type": "stream",
          "name": "stdout",
          "text": [
            "it is a nice day\n"
          ]
        }
      ]
    },
    {
      "cell_type": "code",
      "source": [
        "temperature = 12\n",
        "message = \"it is a nice day\" if temperature >= 20 else \"its a cold day\"\n",
        "print(message)"
      ],
      "metadata": {
        "colab": {
          "base_uri": "https://localhost:8080/"
        },
        "id": "Ag7K_qiRBDpg",
        "outputId": "8f5d81af-cd76-431c-9e46-a13da2caa011"
      },
      "execution_count": 4,
      "outputs": [
        {
          "output_type": "stream",
          "name": "stdout",
          "text": [
            "its a cold day\n"
          ]
        }
      ]
    },
    {
      "cell_type": "code",
      "source": [
        "age = 13\n",
        "if age >=18:\n",
        "   print(\"yes am eligible for vote\")\n",
        "else:\n",
        "   print(\"am not eligible for vote\")"
      ],
      "metadata": {
        "colab": {
          "base_uri": "https://localhost:8080/"
        },
        "id": "FkgzGUAnBGV4",
        "outputId": "9b022fa9-d425-4ac2-ef8b-522658bb90e4"
      },
      "execution_count": 5,
      "outputs": [
        {
          "output_type": "stream",
          "name": "stdout",
          "text": [
            "am not eligible for vote\n"
          ]
        }
      ]
    },
    {
      "cell_type": "code",
      "source": [
        "age = 13\n",
        "message = \"yes am eligible for vote\" if age >=18 else \"am not eligible for vote\"\n",
        "print(message)"
      ],
      "metadata": {
        "colab": {
          "base_uri": "https://localhost:8080/"
        },
        "id": "B3A23lC7Bna1",
        "outputId": "9dde3712-c032-4b01-e69a-6a6612345bb8"
      },
      "execution_count": 6,
      "outputs": [
        {
          "output_type": "stream",
          "name": "stdout",
          "text": [
            "am not eligible for vote\n"
          ]
        }
      ]
    },
    {
      "cell_type": "code",
      "source": [
        "a, b = 10, 20\n",
        "min = a if a < b else b\n",
        "print(min)\n"
      ],
      "metadata": {
        "colab": {
          "base_uri": "https://localhost:8080/"
        },
        "id": "_qOYIO5sCEGb",
        "outputId": "538963cf-0d3b-497c-f592-414e28d6f8ef"
      },
      "execution_count": 8,
      "outputs": [
        {
          "output_type": "stream",
          "name": "stdout",
          "text": [
            "10\n"
          ]
        }
      ]
    },
    {
      "cell_type": "code",
      "source": [
        "a, b = 10, 20\n",
        "print( (b, a) [a < b] )\n",
        "print({True: a, False: b} [a < b])\n",
        "print((lambda: b, lambda: a)[a < b]())\n"
      ],
      "metadata": {
        "colab": {
          "base_uri": "https://localhost:8080/"
        },
        "id": "_mxxR1x-Cbzd",
        "outputId": "6af090b5-a12e-481a-be98-08582f80e150"
      },
      "execution_count": 9,
      "outputs": [
        {
          "output_type": "stream",
          "name": "stdout",
          "text": [
            "10\n",
            "10\n",
            "10\n"
          ]
        }
      ]
    },
    {
      "cell_type": "code",
      "source": [
        "a, b = 10, 20\n",
        "if a != b:\n",
        "    if a > b:\n",
        "        print(\"a is greater than b\")\n",
        "    else:\n",
        "        print(\"b is greater than a\")\n",
        "else:\n",
        "    print(\"Both a and b are equal\")\n",
        "\n"
      ],
      "metadata": {
        "colab": {
          "base_uri": "https://localhost:8080/"
        },
        "id": "D0JYl2PMCpCE",
        "outputId": "c6324a7d-b0dd-4125-a0bd-12b7048e228d"
      },
      "execution_count": 10,
      "outputs": [
        {
          "output_type": "stream",
          "name": "stdout",
          "text": [
            "b is greater than a\n"
          ]
        }
      ]
    },
    {
      "cell_type": "code",
      "source": [
        "a=5\n",
        "b=7\n",
        "print(a,\"is greater\") if (a>b) else print(b,\"is Greater\")\n"
      ],
      "metadata": {
        "colab": {
          "base_uri": "https://localhost:8080/"
        },
        "id": "nHKGQNIWDMjP",
        "outputId": "ab79b6e8-fb15-40f2-857d-ef1c9bd9e335"
      },
      "execution_count": 11,
      "outputs": [
        {
          "output_type": "stream",
          "name": "stdout",
          "text": [
            "7 is Greater\n"
          ]
        }
      ]
    },
    {
      "cell_type": "code",
      "source": [
        "a, b = 10, 20\n",
        "min = a < b and a or b\n",
        "print(min)\n"
      ],
      "metadata": {
        "colab": {
          "base_uri": "https://localhost:8080/"
        },
        "id": "yC2zAeCwDWVZ",
        "outputId": "1e91062a-c6a2-4531-f804-bd2c2ec9f9f3"
      },
      "execution_count": 12,
      "outputs": [
        {
          "output_type": "stream",
          "name": "stdout",
          "text": [
            "10\n"
          ]
        }
      ]
    },
    {
      "cell_type": "code",
      "source": [
        "print (5//2)\n",
        "print (-5//2)\n"
      ],
      "metadata": {
        "colab": {
          "base_uri": "https://localhost:8080/"
        },
        "id": "qxnP3z6vDhH9",
        "outputId": "e1933f67-cd15-468b-c64b-1d5ee8ea1ced"
      },
      "execution_count": 13,
      "outputs": [
        {
          "output_type": "stream",
          "name": "stdout",
          "text": [
            "2\n",
            "-3\n"
          ]
        }
      ]
    },
    {
      "cell_type": "code",
      "source": [
        "print (5.0/2)\n",
        "print (-5.0/2)\n"
      ],
      "metadata": {
        "colab": {
          "base_uri": "https://localhost:8080/"
        },
        "id": "JSW5_XsnDvqg",
        "outputId": "4b7c9026-766b-4026-f969-0a01c44c2f77"
      },
      "execution_count": 14,
      "outputs": [
        {
          "output_type": "stream",
          "name": "stdout",
          "text": [
            "2.5\n",
            "-2.5\n"
          ]
        }
      ]
    },
    {
      "cell_type": "code",
      "source": [
        "print (5//2)\n",
        "print (-5//2)\n",
        "print (5.0//2)\n",
        "print (-5.0//2)\n"
      ],
      "metadata": {
        "colab": {
          "base_uri": "https://localhost:8080/"
        },
        "id": "U9Yr-yAGD2_Z",
        "outputId": "a29d7216-5fdd-43eb-be14-76152f15cb03"
      },
      "execution_count": 16,
      "outputs": [
        {
          "output_type": "stream",
          "name": "stdout",
          "text": [
            "2\n",
            "-3\n",
            "2.0\n",
            "-3.0\n"
          ]
        }
      ]
    },
    {
      "cell_type": "code",
      "source": [
        "print(1 + 2)\n",
        "print(\"jungkook\"+\"For\")\n",
        "print(3 * 4)\n",
        "print(\"jungkook\"*4)\n"
      ],
      "metadata": {
        "colab": {
          "base_uri": "https://localhost:8080/"
        },
        "id": "KHIdFrZVERjz",
        "outputId": "260ceec4-e756-4d3e-fb07-90d1a1de7d81"
      },
      "execution_count": 18,
      "outputs": [
        {
          "output_type": "stream",
          "name": "stdout",
          "text": [
            "3\n",
            "jungkookFor\n",
            "12\n",
            "jungkookjungkookjungkookjungkook\n"
          ]
        }
      ]
    },
    {
      "cell_type": "code",
      "source": [
        "print(1 + 2)\n",
        "print(\"jungkook\"+\"For\")\n",
        "print(3 + 4)\n",
        "print(\"jungkook\"*4)\n"
      ],
      "metadata": {
        "colab": {
          "base_uri": "https://localhost:8080/"
        },
        "id": "0CT2brOXFE6M",
        "outputId": "6ef23ed6-8ae1-433c-cc11-b1cf103e1bac"
      },
      "execution_count": 20,
      "outputs": [
        {
          "output_type": "stream",
          "name": "stdout",
          "text": [
            "3\n",
            "jungkookFor\n",
            "7\n",
            "jungkookjungkookjungkookjungkook\n"
          ]
        }
      ]
    },
    {
      "cell_type": "code",
      "source": [
        "class A:\n",
        "    def __init__(self, a):\n",
        "        self.a = a\n",
        "    def __add__(self, o):\n",
        "        return self.a + o.a\n",
        "ob1 = A(1)\n",
        "ob2 = A(2)\n",
        "ob3 = A(\"jungkook\")\n",
        "ob4 = A(\"for\")\n",
        "print(ob1 + ob2)\n",
        "print(ob3 + ob4)\n"
      ],
      "metadata": {
        "colab": {
          "base_uri": "https://localhost:8080/"
        },
        "id": "xf5B_SUCFSfW",
        "outputId": "233a6bcc-106d-4d1c-bee7-fadc5021cb33"
      },
      "execution_count": 23,
      "outputs": [
        {
          "output_type": "stream",
          "name": "stdout",
          "text": [
            "3\n",
            "jungkookfor\n"
          ]
        }
      ]
    },
    {
      "cell_type": "code",
      "source": [
        "class complex:\n",
        "    def __init__(self, a,b):\n",
        "        self.a = a\n",
        "        self.b = b\n",
        "    def __add__(self, other):\n",
        "        return self.a + other.a, self.b + other.b\n",
        "Ob1 = complex(1, 2)\n",
        "Ob2 = complex(2, 3)\n",
        "Ob3 = Ob1 + Ob2\n",
        "print(Ob3)"
      ],
      "metadata": {
        "colab": {
          "base_uri": "https://localhost:8080/"
        },
        "id": "u2hIo62rGD0u",
        "outputId": "57f2cfe2-1379-48bc-9db9-7498190cd1b8"
      },
      "execution_count": 30,
      "outputs": [
        {
          "output_type": "stream",
          "name": "stdout",
          "text": [
            "(3, 5)\n"
          ]
        }
      ]
    },
    {
      "cell_type": "code",
      "source": [
        "class A:\n",
        "    def __init__(self, a):\n",
        "        self.a = a\n",
        "    def __gt__(self, other):\n",
        "        if(self.a>other.a):\n",
        "            return True\n",
        "        else:\n",
        "            return False\n",
        "ob1 = A(2)\n",
        "ob2 = A(3)\n",
        "if(ob1>ob2):\n",
        "    print(\"ob1 is greater than ob2\")\n",
        "else:\n",
        "    print(\"ob2 is greater than ob1\")\n",
        "\n",
        "\n"
      ],
      "metadata": {
        "colab": {
          "base_uri": "https://localhost:8080/"
        },
        "id": "-4P0fbhZIOmp",
        "outputId": "e8474b6e-8500-448b-c5e4-a454286d338b"
      },
      "execution_count": 31,
      "outputs": [
        {
          "output_type": "stream",
          "name": "stdout",
          "text": [
            "ob2 is greater than ob1\n"
          ]
        }
      ]
    }
  ]
}