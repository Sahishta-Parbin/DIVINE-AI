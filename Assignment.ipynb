{
  "nbformat": 4,
  "nbformat_minor": 0,
  "metadata": {
    "colab": {
      "name": "Assignment.ipynb",
      "provenance": [],
      "authorship_tag": "ABX9TyNl9Vs1NrTnNtgkafSwModc",
      "include_colab_link": true
    },
    "kernelspec": {
      "name": "python3",
      "display_name": "Python 3"
    },
    "language_info": {
      "name": "python"
    }
  },
  "cells": [
    {
      "cell_type": "markdown",
      "metadata": {
        "id": "view-in-github",
        "colab_type": "text"
      },
      "source": [
        "<a href=\"https://colab.research.google.com/github/Sahishta-Parbin/DIVINE-AI/blob/main/Assignment.ipynb\" target=\"_parent\"><img src=\"https://colab.research.google.com/assets/colab-badge.svg\" alt=\"Open In Colab\"/></a>"
      ]
    },
    {
      "cell_type": "code",
      "execution_count": null,
      "metadata": {
        "colab": {
          "base_uri": "https://localhost:8080/"
        },
        "id": "LZdFi2aLIBzo",
        "outputId": "ef5fddf8-3e14-47ab-b188-c8c67f207585"
      },
      "outputs": [
        {
          "output_type": "stream",
          "name": "stdout",
          "text": [
            "Enter a number6\n",
            "The sum is 21\n"
          ]
        }
      ],
      "source": [
        "num= int (input(\"Enter a number\"))\n",
        "if num<0:\n",
        "  print (\"Enter a positive number\")\n",
        "else:\n",
        "  sum = 0\n",
        "  while (num>0):\n",
        "    sum+=num\n",
        "    num-=1\n",
        "  print(\"The sum is\",sum)\n",
        "  \n"
      ]
    },
    {
      "cell_type": "code",
      "source": [
        "num = int(input(\"Enter a number:\"))\n",
        "factorial = 1\n",
        "if num < 0:\n",
        "  print(\"Factorial does not exist for negative numbers\")\n",
        "elif num ==0:\n",
        "  print(\"The factorial of 0 is 1\")\n",
        "else:\n",
        "  for i in range (1,num + 1):\n",
        "    factorial = factorial * i\n",
        "  print(\"The factorial of\",num,\"is\",factorial)\n",
        "\n",
        "\n",
        "    \n",
        "\n",
        "\n"
      ],
      "metadata": {
        "colab": {
          "base_uri": "https://localhost:8080/"
        },
        "id": "byEpu1QKLovS",
        "outputId": "65798499-f5e3-4fd2-bf37-1165bfef403a"
      },
      "execution_count": null,
      "outputs": [
        {
          "output_type": "stream",
          "name": "stdout",
          "text": [
            "Enter a number:5\n",
            "The factorial of 5 is 120\n"
          ]
        }
      ]
    },
    {
      "cell_type": "code",
      "source": [
        "number = int (input(\"Enter the number of which the user wants to print the multiplication table:\"))\n",
        "print(\"The multiplication table of:\",number)\n",
        "for count in range(1,11):\n",
        "  print(number,'x',count,'=',number*count)\n"
      ],
      "metadata": {
        "colab": {
          "base_uri": "https://localhost:8080/"
        },
        "id": "APNhhGsGZUvF",
        "outputId": "f2c6da61-5f71-46b6-8314-466e9b200bbf"
      },
      "execution_count": null,
      "outputs": [
        {
          "output_type": "stream",
          "name": "stdout",
          "text": [
            "Enter the number of which the user wants to print the multiplication table:8\n",
            "The multiplication table of: 8\n",
            "8 x 1 = 8\n",
            "8 x 2 = 16\n",
            "8 x 3 = 24\n",
            "8 x 4 = 32\n",
            "8 x 5 = 40\n",
            "8 x 6 = 48\n",
            "8 x 7 = 56\n",
            "8 x 8 = 64\n",
            "8 x 9 = 72\n",
            "8 x 10 = 80\n"
          ]
        }
      ]
    }
  ]
}