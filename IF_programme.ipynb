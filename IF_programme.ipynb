{
  "nbformat": 4,
  "nbformat_minor": 0,
  "metadata": {
    "colab": {
      "name": "IF_programme.ipynb",
      "provenance": [],
      "authorship_tag": "ABX9TyOCxE4v6pE9OR9HulJA2KIO",
      "include_colab_link": true
    },
    "kernelspec": {
      "name": "python3",
      "display_name": "Python 3"
    },
    "language_info": {
      "name": "python"
    }
  },
  "cells": [
    {
      "cell_type": "markdown",
      "metadata": {
        "id": "view-in-github",
        "colab_type": "text"
      },
      "source": [
        "<a href=\"https://colab.research.google.com/github/Sahishta-Parbin/DIVINE-AI/blob/main/IF_programme.ipynb\" target=\"_parent\"><img src=\"https://colab.research.google.com/assets/colab-badge.svg\" alt=\"Open In Colab\"/></a>"
      ]
    },
    {
      "cell_type": "code",
      "execution_count": 4,
      "metadata": {
        "colab": {
          "base_uri": "https://localhost:8080/"
        },
        "id": "hDV_nScFOKSp",
        "outputId": "b98c540a-89f3-4e47-9c69-407fd10f682a"
      },
      "outputs": [
        {
          "output_type": "stream",
          "name": "stdout",
          "text": [
            "r\n"
          ]
        }
      ],
      "source": [
        "x='python for all'\n",
        "print (x[9:10:1])"
      ]
    },
    {
      "cell_type": "code",
      "source": [
        "x='python for all'\n",
        "print (x[8:10:2])"
      ],
      "metadata": {
        "colab": {
          "base_uri": "https://localhost:8080/"
        },
        "id": "zy3PpUF8Oq83",
        "outputId": "bb241568-7271-4f62-ae93-4bca81217e69"
      },
      "execution_count": 6,
      "outputs": [
        {
          "output_type": "stream",
          "name": "stdout",
          "text": [
            "o\n"
          ]
        }
      ]
    },
    {
      "cell_type": "code",
      "source": [
        "x='python for all'\n",
        "print (x[8:9:3])"
      ],
      "metadata": {
        "colab": {
          "base_uri": "https://localhost:8080/"
        },
        "id": "r28wkxZiO0uN",
        "outputId": "4d7cb8b1-59d7-446e-9373-757ff1946d9a"
      },
      "execution_count": 8,
      "outputs": [
        {
          "output_type": "stream",
          "name": "stdout",
          "text": [
            "o\n"
          ]
        }
      ]
    },
    {
      "cell_type": "code",
      "source": [
        "x='python for all'\n",
        "print (x[8:9])"
      ],
      "metadata": {
        "colab": {
          "base_uri": "https://localhost:8080/"
        },
        "id": "2B1R8hE6O9DV",
        "outputId": "d9532218-5c2c-45a6-dc3d-244b4ba56620"
      },
      "execution_count": 9,
      "outputs": [
        {
          "output_type": "stream",
          "name": "stdout",
          "text": [
            "o\n"
          ]
        }
      ]
    },
    {
      "cell_type": "code",
      "source": [
        "x='python for all'\n",
        "print (x[0:3])"
      ],
      "metadata": {
        "colab": {
          "base_uri": "https://localhost:8080/"
        },
        "id": "fUXyNaVjPE8p",
        "outputId": "2ce6969a-1c88-4063-b63f-11d96924b47d"
      },
      "execution_count": 10,
      "outputs": [
        {
          "output_type": "stream",
          "name": "stdout",
          "text": [
            "pyt\n"
          ]
        }
      ]
    },
    {
      "cell_type": "code",
      "source": [
        "x='python for all'\n",
        "print (x[4:10])"
      ],
      "metadata": {
        "colab": {
          "base_uri": "https://localhost:8080/"
        },
        "id": "q4jVW-IDPPSF",
        "outputId": "6b0d47c1-ea42-4ac4-ae26-d69b92ac305f"
      },
      "execution_count": 11,
      "outputs": [
        {
          "output_type": "stream",
          "name": "stdout",
          "text": [
            "on for\n"
          ]
        }
      ]
    },
    {
      "cell_type": "code",
      "source": [
        "x='python for all'\n",
        "print (x[0:9:2])"
      ],
      "metadata": {
        "colab": {
          "base_uri": "https://localhost:8080/"
        },
        "id": "o1pxgIjnPWmD",
        "outputId": "43210d4e-969e-46de-9926-93cda39ebfbc"
      },
      "execution_count": 12,
      "outputs": [
        {
          "output_type": "stream",
          "name": "stdout",
          "text": [
            "pto o\n"
          ]
        }
      ]
    },
    {
      "cell_type": "code",
      "source": [
        "x='python for all'\n",
        "print (x[0:9:1])"
      ],
      "metadata": {
        "colab": {
          "base_uri": "https://localhost:8080/"
        },
        "id": "AC0e1a00Pdtl",
        "outputId": "604615fa-56da-431d-f55a-9e4ef7edae6e"
      },
      "execution_count": 13,
      "outputs": [
        {
          "output_type": "stream",
          "name": "stdout",
          "text": [
            "python fo\n"
          ]
        }
      ]
    },
    {
      "cell_type": "code",
      "source": [
        "x='python for all'\n",
        "print (x[0:9:3])"
      ],
      "metadata": {
        "colab": {
          "base_uri": "https://localhost:8080/"
        },
        "id": "jYtBbZY7PjWv",
        "outputId": "270acac9-cfe4-4c81-ec7f-2db1f96bf110"
      },
      "execution_count": 14,
      "outputs": [
        {
          "output_type": "stream",
          "name": "stdout",
          "text": [
            "ph \n"
          ]
        }
      ]
    },
    {
      "cell_type": "code",
      "source": [
        "x='python for all'\n",
        "print (x[9:0:-1])"
      ],
      "metadata": {
        "colab": {
          "base_uri": "https://localhost:8080/"
        },
        "id": "8NXHkTWhPoEB",
        "outputId": "406de7fd-1d6e-41c1-e1b4-9e296314e57c"
      },
      "execution_count": 15,
      "outputs": [
        {
          "output_type": "stream",
          "name": "stdout",
          "text": [
            "rof nohty\n"
          ]
        }
      ]
    },
    {
      "cell_type": "code",
      "source": [
        "x='python for all'\n",
        "print (x[0:-6])"
      ],
      "metadata": {
        "colab": {
          "base_uri": "https://localhost:8080/"
        },
        "id": "mOgblqtfPu_1",
        "outputId": "9df0cd9a-19e7-4d84-8ab8-097acb8840cc"
      },
      "execution_count": 16,
      "outputs": [
        {
          "output_type": "stream",
          "name": "stdout",
          "text": [
            "python f\n"
          ]
        }
      ]
    },
    {
      "cell_type": "code",
      "source": [
        "x='python for all'\n",
        "print (x[0:])"
      ],
      "metadata": {
        "colab": {
          "base_uri": "https://localhost:8080/"
        },
        "id": "-tl50Js1P17M",
        "outputId": "6b5a10e2-26de-48c4-9da1-0c41193d105d"
      },
      "execution_count": 17,
      "outputs": [
        {
          "output_type": "stream",
          "name": "stdout",
          "text": [
            "python for all\n"
          ]
        }
      ]
    },
    {
      "cell_type": "code",
      "source": [
        "x='python for all'\n",
        "print (x[:])"
      ],
      "metadata": {
        "colab": {
          "base_uri": "https://localhost:8080/"
        },
        "id": "QJR1oiWoP-b-",
        "outputId": "2f81fcea-1557-4943-c25b-d7dfd5806a96"
      },
      "execution_count": 18,
      "outputs": [
        {
          "output_type": "stream",
          "name": "stdout",
          "text": [
            "python for all\n"
          ]
        }
      ]
    },
    {
      "cell_type": "code",
      "source": [
        "x='python for all'\n",
        "print (x[:0])"
      ],
      "metadata": {
        "colab": {
          "base_uri": "https://localhost:8080/"
        },
        "id": "UOOFLdHBQDLF",
        "outputId": "5d426292-3bdf-4cf2-86ff-74fbe9860adb"
      },
      "execution_count": 19,
      "outputs": [
        {
          "output_type": "stream",
          "name": "stdout",
          "text": [
            "\n"
          ]
        }
      ]
    },
    {
      "cell_type": "code",
      "source": [
        "x='python for all'\n",
        "print (x[:-1])"
      ],
      "metadata": {
        "colab": {
          "base_uri": "https://localhost:8080/"
        },
        "id": "ntHX_l1VQJuQ",
        "outputId": "32808f71-130e-466e-c042-928628e0ae3a"
      },
      "execution_count": 20,
      "outputs": [
        {
          "output_type": "stream",
          "name": "stdout",
          "text": [
            "python for al\n"
          ]
        }
      ]
    },
    {
      "cell_type": "code",
      "source": [
        "x='python for all'\n",
        "print (x[1:])"
      ],
      "metadata": {
        "colab": {
          "base_uri": "https://localhost:8080/"
        },
        "id": "n1NFRsh8QNTc",
        "outputId": "a84087f9-a97f-4d31-92ff-6ac1f89060be"
      },
      "execution_count": 22,
      "outputs": [
        {
          "output_type": "stream",
          "name": "stdout",
          "text": [
            "ython for all\n"
          ]
        }
      ]
    },
    {
      "cell_type": "code",
      "source": [
        "x='python for all'\n",
        "print (x[-5:-2])"
      ],
      "metadata": {
        "colab": {
          "base_uri": "https://localhost:8080/"
        },
        "id": "OXM_hOOcQnSQ",
        "outputId": "c5e2965b-bc50-4149-9a86-d8d76038a913"
      },
      "execution_count": 24,
      "outputs": [
        {
          "output_type": "stream",
          "name": "stdout",
          "text": [
            "r a\n"
          ]
        }
      ]
    },
    {
      "cell_type": "code",
      "source": [
        "\n",
        "a = \"Hello, World!\"\n",
        "print(a.upper())\n"
      ],
      "metadata": {
        "colab": {
          "base_uri": "https://localhost:8080/"
        },
        "id": "tirfv-u1RIti",
        "outputId": "a553f074-0b45-473d-92ed-aa4f4c408860"
      },
      "execution_count": 25,
      "outputs": [
        {
          "output_type": "stream",
          "name": "stdout",
          "text": [
            "HELLO, WORLD!\n"
          ]
        }
      ]
    },
    {
      "cell_type": "code",
      "source": [
        "\n",
        "a = \"Hello, World!\"\n",
        "print(a.lower())\n"
      ],
      "metadata": {
        "colab": {
          "base_uri": "https://localhost:8080/"
        },
        "id": "qShFk6FFRStO",
        "outputId": "dde87551-602e-4c3f-ec25-c7a185b0909d"
      },
      "execution_count": 26,
      "outputs": [
        {
          "output_type": "stream",
          "name": "stdout",
          "text": [
            "hello, world!\n"
          ]
        }
      ]
    },
    {
      "cell_type": "code",
      "source": [
        "a = \" Hello, World! \"\n",
        "print(a.strip()) \n"
      ],
      "metadata": {
        "colab": {
          "base_uri": "https://localhost:8080/"
        },
        "id": "T6U-SsG3RjwI",
        "outputId": "decf7d7f-7503-4bb0-f1d0-01f13c0c0b61"
      },
      "execution_count": 28,
      "outputs": [
        {
          "output_type": "stream",
          "name": "stdout",
          "text": [
            "Hello, World!\n"
          ]
        }
      ]
    },
    {
      "cell_type": "code",
      "source": [
        "a = \"Hello, World!\"\n",
        "print(a.replace(\"H\", \"J\"))\n"
      ],
      "metadata": {
        "colab": {
          "base_uri": "https://localhost:8080/"
        },
        "id": "vV1X39StRzE8",
        "outputId": "1e72e26f-f5dc-4b6c-d6b5-798d5e652752"
      },
      "execution_count": 29,
      "outputs": [
        {
          "output_type": "stream",
          "name": "stdout",
          "text": [
            "Jello, World!\n"
          ]
        }
      ]
    },
    {
      "cell_type": "code",
      "source": [
        "title = \"divine ai pvt\"\n",
        "print(title.title())"
      ],
      "metadata": {
        "colab": {
          "base_uri": "https://localhost:8080/"
        },
        "id": "iV3PjfjnR6gf",
        "outputId": "cb593827-aaa4-46f5-9bee-36ed95a6e7ff"
      },
      "execution_count": 41,
      "outputs": [
        {
          "output_type": "stream",
          "name": "stdout",
          "text": [
            "Divine Ai Pvt\n"
          ]
        }
      ]
    },
    {
      "cell_type": "code",
      "source": [
        "print(title.find(\"a\"))"
      ],
      "metadata": {
        "colab": {
          "base_uri": "https://localhost:8080/"
        },
        "id": "cXXUWlf6Si6n",
        "outputId": "f8ec6078-4ea1-4e45-8447-a51829f95dc3"
      },
      "execution_count": 43,
      "outputs": [
        {
          "output_type": "stream",
          "name": "stdout",
          "text": [
            "7\n"
          ]
        }
      ]
    },
    {
      "cell_type": "code",
      "source": [
        "a = \"Hello\"\n",
        "b = \"World\"\n",
        "c = a + \" \" + b\n",
        "print(c)\n"
      ],
      "metadata": {
        "colab": {
          "base_uri": "https://localhost:8080/"
        },
        "id": "ssb_Iqj6UeED",
        "outputId": "c534facb-f19e-4932-87c8-a073f44460e7"
      },
      "execution_count": 49,
      "outputs": [
        {
          "output_type": "stream",
          "name": "stdout",
          "text": [
            "Hello World\n"
          ]
        }
      ]
    },
    {
      "cell_type": "code",
      "source": [
        "course = 'python for \\ \"beginner\"'\n",
        "print(course)\n"
      ],
      "metadata": {
        "colab": {
          "base_uri": "https://localhost:8080/"
        },
        "id": "MlBnUbM5U3nL",
        "outputId": "cbd9b9d5-3957-42ab-a735-2d533ee4e53f"
      },
      "execution_count": 50,
      "outputs": [
        {
          "output_type": "stream",
          "name": "stdout",
          "text": [
            "python for \\ \"beginner\"\n"
          ]
        }
      ]
    },
    {
      "cell_type": "code",
      "source": [
        "course = \"python for \\ 'beginner'\"\n",
        "print(course)\n"
      ],
      "metadata": {
        "colab": {
          "base_uri": "https://localhost:8080/"
        },
        "id": "Y9IXLBgGVK31",
        "outputId": "0cdd33c3-2983-4d4b-8829-9507ebc19d3c"
      },
      "execution_count": 51,
      "outputs": [
        {
          "output_type": "stream",
          "name": "stdout",
          "text": [
            "python for \\ 'beginner'\n"
          ]
        }
      ]
    },
    {
      "cell_type": "code",
      "source": [
        "first= \"sabyasachi\"\n",
        "second = \"mohanty\"\n",
        "full = first + \"\" + second\n",
        "print(full)"
      ],
      "metadata": {
        "colab": {
          "base_uri": "https://localhost:8080/"
        },
        "id": "Bp4BRhf0VT5m",
        "outputId": "972b3670-b5e8-4e97-9445-4bfbc081f9eb"
      },
      "execution_count": 54,
      "outputs": [
        {
          "output_type": "stream",
          "name": "stdout",
          "text": [
            "sabyasachimohanty\n"
          ]
        }
      ]
    },
    {
      "cell_type": "code",
      "source": [
        "first= \"sabyasachi\"\n",
        "second = \"mohanty\"\n",
        "full = f\"{(first)} {(second)}\"\n",
        "print(full)"
      ],
      "metadata": {
        "colab": {
          "base_uri": "https://localhost:8080/"
        },
        "id": "emydhNtlVwWT",
        "outputId": "70914163-3192-4815-e7a0-8c6c66ea80c4"
      },
      "execution_count": 55,
      "outputs": [
        {
          "output_type": "stream",
          "name": "stdout",
          "text": [
            "sabyasachi mohanty\n"
          ]
        }
      ]
    },
    {
      "cell_type": "code",
      "source": [
        "first= \"sabyasachi\"\n",
        "second = \"mohanty\"\n",
        "full = f\"{len(first)} {len(second)}\"\n",
        "print(full)"
      ],
      "metadata": {
        "colab": {
          "base_uri": "https://localhost:8080/"
        },
        "id": "mmsetHqXWIBg",
        "outputId": "0690c4ee-9e5c-41f1-8014-758baef1b4d4"
      },
      "execution_count": 56,
      "outputs": [
        {
          "output_type": "stream",
          "name": "stdout",
          "text": [
            "10 7\n"
          ]
        }
      ]
    },
    {
      "cell_type": "code",
      "source": [
        ""
      ],
      "metadata": {
        "id": "GPPxXIEnXnGS"
      },
      "execution_count": null,
      "outputs": []
    }
  ]
}